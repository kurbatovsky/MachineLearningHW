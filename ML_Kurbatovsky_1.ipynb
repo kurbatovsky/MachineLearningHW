{
 "cells": [
  {
   "cell_type": "markdown",
   "metadata": {},
   "source": [
    "# Video Game Sales"
   ]
  },
  {
   "cell_type": "markdown",
   "metadata": {},
   "source": [
    "Датасет содержит список видеоигр с данными о их продажах. \n",
    "\n",
    "Описание полей:\n",
    "\n",
    "Rank - Место по продажам среди игр\n",
    "Name - Название игры\n",
    "Platform - Платформа\n",
    "Year - Год выхода игры\n",
    "Genre - Жанр игры\n",
    "Publisher - Автор игры\n",
    "NA_Sales - Продажи в Северной Америке (в миллионах)\n",
    "EU_Sales - Продажи в Европе (в миллионах)\n",
    "JP_Sales - Продажи в Японии (в миллионах)\n",
    "Other_Sales - Продажи в остальном мире (в миллионах)\n",
    "Global_Sales - Общие продажи"
   ]
  },
  {
   "cell_type": "code",
   "execution_count": 64,
   "metadata": {
    "collapsed": true
   },
   "outputs": [],
   "source": [
    "import numpy as np\n",
    "import matplotlib.pyplot as plt\n",
    "import pandas as pd\n",
    "%matplotlib inline"
   ]
  },
  {
   "cell_type": "markdown",
   "metadata": {},
   "source": [
    "Импортируем необходимые библиотеки"
   ]
  },
  {
   "cell_type": "code",
   "execution_count": 65,
   "metadata": {
    "collapsed": true
   },
   "outputs": [],
   "source": [
    "data = pd.read_csv('vgsales.csv', sep = ',', engine = 'python')"
   ]
  },
  {
   "cell_type": "markdown",
   "metadata": {},
   "source": [
    "Считываем данные"
   ]
  },
  {
   "cell_type": "code",
   "execution_count": 66,
   "metadata": {},
   "outputs": [
    {
     "name": "stdout",
     "output_type": "stream",
     "text": [
      "(16598, 11)\n"
     ]
    }
   ],
   "source": [
    "print(data.shape)"
   ]
  },
  {
   "cell_type": "markdown",
   "metadata": {},
   "source": [
    "Смотрим размер таблицы"
   ]
  },
  {
   "cell_type": "code",
   "execution_count": 67,
   "metadata": {},
   "outputs": [
    {
     "data": {
      "text/html": [
       "<div>\n",
       "<style>\n",
       "    .dataframe thead tr:only-child th {\n",
       "        text-align: right;\n",
       "    }\n",
       "\n",
       "    .dataframe thead th {\n",
       "        text-align: left;\n",
       "    }\n",
       "\n",
       "    .dataframe tbody tr th {\n",
       "        vertical-align: top;\n",
       "    }\n",
       "</style>\n",
       "<table border=\"1\" class=\"dataframe\">\n",
       "  <thead>\n",
       "    <tr style=\"text-align: right;\">\n",
       "      <th></th>\n",
       "      <th>Rank</th>\n",
       "      <th>Name</th>\n",
       "      <th>Platform</th>\n",
       "      <th>Year</th>\n",
       "      <th>Genre</th>\n",
       "      <th>Publisher</th>\n",
       "      <th>NA_Sales</th>\n",
       "      <th>EU_Sales</th>\n",
       "      <th>JP_Sales</th>\n",
       "      <th>Other_Sales</th>\n",
       "      <th>Global_Sales</th>\n",
       "    </tr>\n",
       "  </thead>\n",
       "  <tbody>\n",
       "    <tr>\n",
       "      <th>0</th>\n",
       "      <td>1</td>\n",
       "      <td>Wii Sports</td>\n",
       "      <td>Wii</td>\n",
       "      <td>2006.0</td>\n",
       "      <td>Sports</td>\n",
       "      <td>Nintendo</td>\n",
       "      <td>41.49</td>\n",
       "      <td>29.02</td>\n",
       "      <td>3.77</td>\n",
       "      <td>8.46</td>\n",
       "      <td>82.74</td>\n",
       "    </tr>\n",
       "    <tr>\n",
       "      <th>1</th>\n",
       "      <td>2</td>\n",
       "      <td>Super Mario Bros.</td>\n",
       "      <td>NES</td>\n",
       "      <td>1985.0</td>\n",
       "      <td>Platform</td>\n",
       "      <td>Nintendo</td>\n",
       "      <td>29.08</td>\n",
       "      <td>3.58</td>\n",
       "      <td>6.81</td>\n",
       "      <td>0.77</td>\n",
       "      <td>40.24</td>\n",
       "    </tr>\n",
       "    <tr>\n",
       "      <th>2</th>\n",
       "      <td>3</td>\n",
       "      <td>Mario Kart Wii</td>\n",
       "      <td>Wii</td>\n",
       "      <td>2008.0</td>\n",
       "      <td>Racing</td>\n",
       "      <td>Nintendo</td>\n",
       "      <td>15.85</td>\n",
       "      <td>12.88</td>\n",
       "      <td>3.79</td>\n",
       "      <td>3.31</td>\n",
       "      <td>35.82</td>\n",
       "    </tr>\n",
       "    <tr>\n",
       "      <th>3</th>\n",
       "      <td>4</td>\n",
       "      <td>Wii Sports Resort</td>\n",
       "      <td>Wii</td>\n",
       "      <td>2009.0</td>\n",
       "      <td>Sports</td>\n",
       "      <td>Nintendo</td>\n",
       "      <td>15.75</td>\n",
       "      <td>11.01</td>\n",
       "      <td>3.28</td>\n",
       "      <td>2.96</td>\n",
       "      <td>33.00</td>\n",
       "    </tr>\n",
       "    <tr>\n",
       "      <th>4</th>\n",
       "      <td>5</td>\n",
       "      <td>Pokemon Red/Pokemon Blue</td>\n",
       "      <td>GB</td>\n",
       "      <td>1996.0</td>\n",
       "      <td>Role-Playing</td>\n",
       "      <td>Nintendo</td>\n",
       "      <td>11.27</td>\n",
       "      <td>8.89</td>\n",
       "      <td>10.22</td>\n",
       "      <td>1.00</td>\n",
       "      <td>31.37</td>\n",
       "    </tr>\n",
       "    <tr>\n",
       "      <th>5</th>\n",
       "      <td>6</td>\n",
       "      <td>Tetris</td>\n",
       "      <td>GB</td>\n",
       "      <td>1989.0</td>\n",
       "      <td>Puzzle</td>\n",
       "      <td>Nintendo</td>\n",
       "      <td>23.20</td>\n",
       "      <td>2.26</td>\n",
       "      <td>4.22</td>\n",
       "      <td>0.58</td>\n",
       "      <td>30.26</td>\n",
       "    </tr>\n",
       "    <tr>\n",
       "      <th>6</th>\n",
       "      <td>7</td>\n",
       "      <td>New Super Mario Bros.</td>\n",
       "      <td>DS</td>\n",
       "      <td>2006.0</td>\n",
       "      <td>Platform</td>\n",
       "      <td>Nintendo</td>\n",
       "      <td>11.38</td>\n",
       "      <td>9.23</td>\n",
       "      <td>6.50</td>\n",
       "      <td>2.90</td>\n",
       "      <td>30.01</td>\n",
       "    </tr>\n",
       "    <tr>\n",
       "      <th>7</th>\n",
       "      <td>8</td>\n",
       "      <td>Wii Play</td>\n",
       "      <td>Wii</td>\n",
       "      <td>2006.0</td>\n",
       "      <td>Misc</td>\n",
       "      <td>Nintendo</td>\n",
       "      <td>14.03</td>\n",
       "      <td>9.20</td>\n",
       "      <td>2.93</td>\n",
       "      <td>2.85</td>\n",
       "      <td>29.02</td>\n",
       "    </tr>\n",
       "    <tr>\n",
       "      <th>8</th>\n",
       "      <td>9</td>\n",
       "      <td>New Super Mario Bros. Wii</td>\n",
       "      <td>Wii</td>\n",
       "      <td>2009.0</td>\n",
       "      <td>Platform</td>\n",
       "      <td>Nintendo</td>\n",
       "      <td>14.59</td>\n",
       "      <td>7.06</td>\n",
       "      <td>4.70</td>\n",
       "      <td>2.26</td>\n",
       "      <td>28.62</td>\n",
       "    </tr>\n",
       "    <tr>\n",
       "      <th>9</th>\n",
       "      <td>10</td>\n",
       "      <td>Duck Hunt</td>\n",
       "      <td>NES</td>\n",
       "      <td>1984.0</td>\n",
       "      <td>Shooter</td>\n",
       "      <td>Nintendo</td>\n",
       "      <td>26.93</td>\n",
       "      <td>0.63</td>\n",
       "      <td>0.28</td>\n",
       "      <td>0.47</td>\n",
       "      <td>28.31</td>\n",
       "    </tr>\n",
       "    <tr>\n",
       "      <th>10</th>\n",
       "      <td>11</td>\n",
       "      <td>Nintendogs</td>\n",
       "      <td>DS</td>\n",
       "      <td>2005.0</td>\n",
       "      <td>Simulation</td>\n",
       "      <td>Nintendo</td>\n",
       "      <td>9.07</td>\n",
       "      <td>11.00</td>\n",
       "      <td>1.93</td>\n",
       "      <td>2.75</td>\n",
       "      <td>24.76</td>\n",
       "    </tr>\n",
       "    <tr>\n",
       "      <th>11</th>\n",
       "      <td>12</td>\n",
       "      <td>Mario Kart DS</td>\n",
       "      <td>DS</td>\n",
       "      <td>2005.0</td>\n",
       "      <td>Racing</td>\n",
       "      <td>Nintendo</td>\n",
       "      <td>9.81</td>\n",
       "      <td>7.57</td>\n",
       "      <td>4.13</td>\n",
       "      <td>1.92</td>\n",
       "      <td>23.42</td>\n",
       "    </tr>\n",
       "    <tr>\n",
       "      <th>12</th>\n",
       "      <td>13</td>\n",
       "      <td>Pokemon Gold/Pokemon Silver</td>\n",
       "      <td>GB</td>\n",
       "      <td>1999.0</td>\n",
       "      <td>Role-Playing</td>\n",
       "      <td>Nintendo</td>\n",
       "      <td>9.00</td>\n",
       "      <td>6.18</td>\n",
       "      <td>7.20</td>\n",
       "      <td>0.71</td>\n",
       "      <td>23.10</td>\n",
       "    </tr>\n",
       "    <tr>\n",
       "      <th>13</th>\n",
       "      <td>14</td>\n",
       "      <td>Wii Fit</td>\n",
       "      <td>Wii</td>\n",
       "      <td>2007.0</td>\n",
       "      <td>Sports</td>\n",
       "      <td>Nintendo</td>\n",
       "      <td>8.94</td>\n",
       "      <td>8.03</td>\n",
       "      <td>3.60</td>\n",
       "      <td>2.15</td>\n",
       "      <td>22.72</td>\n",
       "    </tr>\n",
       "    <tr>\n",
       "      <th>14</th>\n",
       "      <td>15</td>\n",
       "      <td>Wii Fit Plus</td>\n",
       "      <td>Wii</td>\n",
       "      <td>2009.0</td>\n",
       "      <td>Sports</td>\n",
       "      <td>Nintendo</td>\n",
       "      <td>9.09</td>\n",
       "      <td>8.59</td>\n",
       "      <td>2.53</td>\n",
       "      <td>1.79</td>\n",
       "      <td>22.00</td>\n",
       "    </tr>\n",
       "    <tr>\n",
       "      <th>15</th>\n",
       "      <td>16</td>\n",
       "      <td>Kinect Adventures!</td>\n",
       "      <td>X360</td>\n",
       "      <td>2010.0</td>\n",
       "      <td>Misc</td>\n",
       "      <td>Microsoft Game Studios</td>\n",
       "      <td>14.97</td>\n",
       "      <td>4.94</td>\n",
       "      <td>0.24</td>\n",
       "      <td>1.67</td>\n",
       "      <td>21.82</td>\n",
       "    </tr>\n",
       "    <tr>\n",
       "      <th>16</th>\n",
       "      <td>17</td>\n",
       "      <td>Grand Theft Auto V</td>\n",
       "      <td>PS3</td>\n",
       "      <td>2013.0</td>\n",
       "      <td>Action</td>\n",
       "      <td>Take-Two Interactive</td>\n",
       "      <td>7.01</td>\n",
       "      <td>9.27</td>\n",
       "      <td>0.97</td>\n",
       "      <td>4.14</td>\n",
       "      <td>21.40</td>\n",
       "    </tr>\n",
       "    <tr>\n",
       "      <th>17</th>\n",
       "      <td>18</td>\n",
       "      <td>Grand Theft Auto: San Andreas</td>\n",
       "      <td>PS2</td>\n",
       "      <td>2004.0</td>\n",
       "      <td>Action</td>\n",
       "      <td>Take-Two Interactive</td>\n",
       "      <td>9.43</td>\n",
       "      <td>0.40</td>\n",
       "      <td>0.41</td>\n",
       "      <td>10.57</td>\n",
       "      <td>20.81</td>\n",
       "    </tr>\n",
       "    <tr>\n",
       "      <th>18</th>\n",
       "      <td>19</td>\n",
       "      <td>Super Mario World</td>\n",
       "      <td>SNES</td>\n",
       "      <td>1990.0</td>\n",
       "      <td>Platform</td>\n",
       "      <td>Nintendo</td>\n",
       "      <td>12.78</td>\n",
       "      <td>3.75</td>\n",
       "      <td>3.54</td>\n",
       "      <td>0.55</td>\n",
       "      <td>20.61</td>\n",
       "    </tr>\n",
       "    <tr>\n",
       "      <th>19</th>\n",
       "      <td>20</td>\n",
       "      <td>Brain Age: Train Your Brain in Minutes a Day</td>\n",
       "      <td>DS</td>\n",
       "      <td>2005.0</td>\n",
       "      <td>Misc</td>\n",
       "      <td>Nintendo</td>\n",
       "      <td>4.75</td>\n",
       "      <td>9.26</td>\n",
       "      <td>4.16</td>\n",
       "      <td>2.05</td>\n",
       "      <td>20.22</td>\n",
       "    </tr>\n",
       "    <tr>\n",
       "      <th>20</th>\n",
       "      <td>21</td>\n",
       "      <td>Pokemon Diamond/Pokemon Pearl</td>\n",
       "      <td>DS</td>\n",
       "      <td>2006.0</td>\n",
       "      <td>Role-Playing</td>\n",
       "      <td>Nintendo</td>\n",
       "      <td>6.42</td>\n",
       "      <td>4.52</td>\n",
       "      <td>6.04</td>\n",
       "      <td>1.37</td>\n",
       "      <td>18.36</td>\n",
       "    </tr>\n",
       "    <tr>\n",
       "      <th>21</th>\n",
       "      <td>22</td>\n",
       "      <td>Super Mario Land</td>\n",
       "      <td>GB</td>\n",
       "      <td>1989.0</td>\n",
       "      <td>Platform</td>\n",
       "      <td>Nintendo</td>\n",
       "      <td>10.83</td>\n",
       "      <td>2.71</td>\n",
       "      <td>4.18</td>\n",
       "      <td>0.42</td>\n",
       "      <td>18.14</td>\n",
       "    </tr>\n",
       "    <tr>\n",
       "      <th>22</th>\n",
       "      <td>23</td>\n",
       "      <td>Super Mario Bros. 3</td>\n",
       "      <td>NES</td>\n",
       "      <td>1988.0</td>\n",
       "      <td>Platform</td>\n",
       "      <td>Nintendo</td>\n",
       "      <td>9.54</td>\n",
       "      <td>3.44</td>\n",
       "      <td>3.84</td>\n",
       "      <td>0.46</td>\n",
       "      <td>17.28</td>\n",
       "    </tr>\n",
       "    <tr>\n",
       "      <th>23</th>\n",
       "      <td>24</td>\n",
       "      <td>Grand Theft Auto V</td>\n",
       "      <td>X360</td>\n",
       "      <td>2013.0</td>\n",
       "      <td>Action</td>\n",
       "      <td>Take-Two Interactive</td>\n",
       "      <td>9.63</td>\n",
       "      <td>5.31</td>\n",
       "      <td>0.06</td>\n",
       "      <td>1.38</td>\n",
       "      <td>16.38</td>\n",
       "    </tr>\n",
       "    <tr>\n",
       "      <th>24</th>\n",
       "      <td>25</td>\n",
       "      <td>Grand Theft Auto: Vice City</td>\n",
       "      <td>PS2</td>\n",
       "      <td>2002.0</td>\n",
       "      <td>Action</td>\n",
       "      <td>Take-Two Interactive</td>\n",
       "      <td>8.41</td>\n",
       "      <td>5.49</td>\n",
       "      <td>0.47</td>\n",
       "      <td>1.78</td>\n",
       "      <td>16.15</td>\n",
       "    </tr>\n",
       "    <tr>\n",
       "      <th>25</th>\n",
       "      <td>26</td>\n",
       "      <td>Pokemon Ruby/Pokemon Sapphire</td>\n",
       "      <td>GBA</td>\n",
       "      <td>2002.0</td>\n",
       "      <td>Role-Playing</td>\n",
       "      <td>Nintendo</td>\n",
       "      <td>6.06</td>\n",
       "      <td>3.90</td>\n",
       "      <td>5.38</td>\n",
       "      <td>0.50</td>\n",
       "      <td>15.85</td>\n",
       "    </tr>\n",
       "    <tr>\n",
       "      <th>26</th>\n",
       "      <td>27</td>\n",
       "      <td>Pokemon Black/Pokemon White</td>\n",
       "      <td>DS</td>\n",
       "      <td>2010.0</td>\n",
       "      <td>Role-Playing</td>\n",
       "      <td>Nintendo</td>\n",
       "      <td>5.57</td>\n",
       "      <td>3.28</td>\n",
       "      <td>5.65</td>\n",
       "      <td>0.82</td>\n",
       "      <td>15.32</td>\n",
       "    </tr>\n",
       "    <tr>\n",
       "      <th>27</th>\n",
       "      <td>28</td>\n",
       "      <td>Brain Age 2: More Training in Minutes a Day</td>\n",
       "      <td>DS</td>\n",
       "      <td>2005.0</td>\n",
       "      <td>Puzzle</td>\n",
       "      <td>Nintendo</td>\n",
       "      <td>3.44</td>\n",
       "      <td>5.36</td>\n",
       "      <td>5.32</td>\n",
       "      <td>1.18</td>\n",
       "      <td>15.30</td>\n",
       "    </tr>\n",
       "    <tr>\n",
       "      <th>28</th>\n",
       "      <td>29</td>\n",
       "      <td>Gran Turismo 3: A-Spec</td>\n",
       "      <td>PS2</td>\n",
       "      <td>2001.0</td>\n",
       "      <td>Racing</td>\n",
       "      <td>Sony Computer Entertainment</td>\n",
       "      <td>6.85</td>\n",
       "      <td>5.09</td>\n",
       "      <td>1.87</td>\n",
       "      <td>1.16</td>\n",
       "      <td>14.98</td>\n",
       "    </tr>\n",
       "    <tr>\n",
       "      <th>29</th>\n",
       "      <td>30</td>\n",
       "      <td>Call of Duty: Modern Warfare 3</td>\n",
       "      <td>X360</td>\n",
       "      <td>2011.0</td>\n",
       "      <td>Shooter</td>\n",
       "      <td>Activision</td>\n",
       "      <td>9.03</td>\n",
       "      <td>4.28</td>\n",
       "      <td>0.13</td>\n",
       "      <td>1.32</td>\n",
       "      <td>14.76</td>\n",
       "    </tr>\n",
       "    <tr>\n",
       "      <th>...</th>\n",
       "      <td>...</td>\n",
       "      <td>...</td>\n",
       "      <td>...</td>\n",
       "      <td>...</td>\n",
       "      <td>...</td>\n",
       "      <td>...</td>\n",
       "      <td>...</td>\n",
       "      <td>...</td>\n",
       "      <td>...</td>\n",
       "      <td>...</td>\n",
       "      <td>...</td>\n",
       "    </tr>\n",
       "    <tr>\n",
       "      <th>16568</th>\n",
       "      <td>16571</td>\n",
       "      <td>XI Coliseum</td>\n",
       "      <td>PSP</td>\n",
       "      <td>2006.0</td>\n",
       "      <td>Puzzle</td>\n",
       "      <td>Sony Computer Entertainment</td>\n",
       "      <td>0.00</td>\n",
       "      <td>0.00</td>\n",
       "      <td>0.01</td>\n",
       "      <td>0.00</td>\n",
       "      <td>0.01</td>\n",
       "    </tr>\n",
       "    <tr>\n",
       "      <th>16569</th>\n",
       "      <td>16572</td>\n",
       "      <td>Resident Evil 4 HD</td>\n",
       "      <td>XOne</td>\n",
       "      <td>2016.0</td>\n",
       "      <td>Shooter</td>\n",
       "      <td>Capcom</td>\n",
       "      <td>0.01</td>\n",
       "      <td>0.00</td>\n",
       "      <td>0.00</td>\n",
       "      <td>0.00</td>\n",
       "      <td>0.01</td>\n",
       "    </tr>\n",
       "    <tr>\n",
       "      <th>16570</th>\n",
       "      <td>16573</td>\n",
       "      <td>Farming 2017 - The Simulation</td>\n",
       "      <td>PS4</td>\n",
       "      <td>2016.0</td>\n",
       "      <td>Simulation</td>\n",
       "      <td>UIG Entertainment</td>\n",
       "      <td>0.00</td>\n",
       "      <td>0.01</td>\n",
       "      <td>0.00</td>\n",
       "      <td>0.00</td>\n",
       "      <td>0.01</td>\n",
       "    </tr>\n",
       "    <tr>\n",
       "      <th>16571</th>\n",
       "      <td>16574</td>\n",
       "      <td>Grisaia no Kajitsu: La Fruit de la Grisaia</td>\n",
       "      <td>PSP</td>\n",
       "      <td>2013.0</td>\n",
       "      <td>Adventure</td>\n",
       "      <td>Prototype</td>\n",
       "      <td>0.00</td>\n",
       "      <td>0.00</td>\n",
       "      <td>0.01</td>\n",
       "      <td>0.00</td>\n",
       "      <td>0.01</td>\n",
       "    </tr>\n",
       "    <tr>\n",
       "      <th>16572</th>\n",
       "      <td>16575</td>\n",
       "      <td>Scarlett: Nichijou no Kyoukaisen</td>\n",
       "      <td>PS2</td>\n",
       "      <td>2008.0</td>\n",
       "      <td>Adventure</td>\n",
       "      <td>Kadokawa Shoten</td>\n",
       "      <td>0.00</td>\n",
       "      <td>0.00</td>\n",
       "      <td>0.01</td>\n",
       "      <td>0.00</td>\n",
       "      <td>0.01</td>\n",
       "    </tr>\n",
       "    <tr>\n",
       "      <th>16573</th>\n",
       "      <td>16576</td>\n",
       "      <td>Mini Desktop Racing</td>\n",
       "      <td>Wii</td>\n",
       "      <td>2007.0</td>\n",
       "      <td>Racing</td>\n",
       "      <td>Popcorn Arcade</td>\n",
       "      <td>0.01</td>\n",
       "      <td>0.00</td>\n",
       "      <td>0.00</td>\n",
       "      <td>0.00</td>\n",
       "      <td>0.01</td>\n",
       "    </tr>\n",
       "    <tr>\n",
       "      <th>16574</th>\n",
       "      <td>16577</td>\n",
       "      <td>Yattaman Wii: BikkuriDokkiri Machine de Mou Ra...</td>\n",
       "      <td>Wii</td>\n",
       "      <td>2008.0</td>\n",
       "      <td>Racing</td>\n",
       "      <td>Takara Tomy</td>\n",
       "      <td>0.00</td>\n",
       "      <td>0.00</td>\n",
       "      <td>0.01</td>\n",
       "      <td>0.00</td>\n",
       "      <td>0.01</td>\n",
       "    </tr>\n",
       "    <tr>\n",
       "      <th>16575</th>\n",
       "      <td>16578</td>\n",
       "      <td>Neo Angelique Special</td>\n",
       "      <td>PSP</td>\n",
       "      <td>2008.0</td>\n",
       "      <td>Adventure</td>\n",
       "      <td>Tecmo Koei</td>\n",
       "      <td>0.00</td>\n",
       "      <td>0.00</td>\n",
       "      <td>0.01</td>\n",
       "      <td>0.00</td>\n",
       "      <td>0.01</td>\n",
       "    </tr>\n",
       "    <tr>\n",
       "      <th>16576</th>\n",
       "      <td>16579</td>\n",
       "      <td>Rugby Challenge 3</td>\n",
       "      <td>XOne</td>\n",
       "      <td>2016.0</td>\n",
       "      <td>Sports</td>\n",
       "      <td>Alternative Software</td>\n",
       "      <td>0.00</td>\n",
       "      <td>0.01</td>\n",
       "      <td>0.00</td>\n",
       "      <td>0.00</td>\n",
       "      <td>0.01</td>\n",
       "    </tr>\n",
       "    <tr>\n",
       "      <th>16577</th>\n",
       "      <td>16580</td>\n",
       "      <td>Damnation</td>\n",
       "      <td>PC</td>\n",
       "      <td>2009.0</td>\n",
       "      <td>Shooter</td>\n",
       "      <td>Codemasters</td>\n",
       "      <td>0.00</td>\n",
       "      <td>0.01</td>\n",
       "      <td>0.00</td>\n",
       "      <td>0.00</td>\n",
       "      <td>0.01</td>\n",
       "    </tr>\n",
       "    <tr>\n",
       "      <th>16578</th>\n",
       "      <td>16581</td>\n",
       "      <td>Outdoors Unleashed: Africa 3D</td>\n",
       "      <td>3DS</td>\n",
       "      <td>2011.0</td>\n",
       "      <td>Sports</td>\n",
       "      <td>Mastiff</td>\n",
       "      <td>0.01</td>\n",
       "      <td>0.00</td>\n",
       "      <td>0.00</td>\n",
       "      <td>0.00</td>\n",
       "      <td>0.01</td>\n",
       "    </tr>\n",
       "    <tr>\n",
       "      <th>16579</th>\n",
       "      <td>16582</td>\n",
       "      <td>PGA European Tour</td>\n",
       "      <td>N64</td>\n",
       "      <td>2000.0</td>\n",
       "      <td>Sports</td>\n",
       "      <td>Infogrames</td>\n",
       "      <td>0.01</td>\n",
       "      <td>0.00</td>\n",
       "      <td>0.00</td>\n",
       "      <td>0.00</td>\n",
       "      <td>0.01</td>\n",
       "    </tr>\n",
       "    <tr>\n",
       "      <th>16580</th>\n",
       "      <td>16583</td>\n",
       "      <td>Real Rode</td>\n",
       "      <td>PS2</td>\n",
       "      <td>2008.0</td>\n",
       "      <td>Adventure</td>\n",
       "      <td>Kadokawa Shoten</td>\n",
       "      <td>0.00</td>\n",
       "      <td>0.00</td>\n",
       "      <td>0.01</td>\n",
       "      <td>0.00</td>\n",
       "      <td>0.01</td>\n",
       "    </tr>\n",
       "    <tr>\n",
       "      <th>16581</th>\n",
       "      <td>16584</td>\n",
       "      <td>Fit &amp; Fun</td>\n",
       "      <td>Wii</td>\n",
       "      <td>2011.0</td>\n",
       "      <td>Sports</td>\n",
       "      <td>Unknown</td>\n",
       "      <td>0.00</td>\n",
       "      <td>0.01</td>\n",
       "      <td>0.00</td>\n",
       "      <td>0.00</td>\n",
       "      <td>0.01</td>\n",
       "    </tr>\n",
       "    <tr>\n",
       "      <th>16582</th>\n",
       "      <td>16585</td>\n",
       "      <td>Planet Monsters</td>\n",
       "      <td>GBA</td>\n",
       "      <td>2001.0</td>\n",
       "      <td>Action</td>\n",
       "      <td>Titus</td>\n",
       "      <td>0.01</td>\n",
       "      <td>0.00</td>\n",
       "      <td>0.00</td>\n",
       "      <td>0.00</td>\n",
       "      <td>0.01</td>\n",
       "    </tr>\n",
       "    <tr>\n",
       "      <th>16583</th>\n",
       "      <td>16586</td>\n",
       "      <td>Carmageddon 64</td>\n",
       "      <td>N64</td>\n",
       "      <td>1999.0</td>\n",
       "      <td>Action</td>\n",
       "      <td>Virgin Interactive</td>\n",
       "      <td>0.01</td>\n",
       "      <td>0.00</td>\n",
       "      <td>0.00</td>\n",
       "      <td>0.00</td>\n",
       "      <td>0.01</td>\n",
       "    </tr>\n",
       "    <tr>\n",
       "      <th>16584</th>\n",
       "      <td>16587</td>\n",
       "      <td>Bust-A-Move 3000</td>\n",
       "      <td>GC</td>\n",
       "      <td>2003.0</td>\n",
       "      <td>Puzzle</td>\n",
       "      <td>Ubisoft</td>\n",
       "      <td>0.01</td>\n",
       "      <td>0.00</td>\n",
       "      <td>0.00</td>\n",
       "      <td>0.00</td>\n",
       "      <td>0.01</td>\n",
       "    </tr>\n",
       "    <tr>\n",
       "      <th>16585</th>\n",
       "      <td>16588</td>\n",
       "      <td>Breach</td>\n",
       "      <td>PC</td>\n",
       "      <td>2011.0</td>\n",
       "      <td>Shooter</td>\n",
       "      <td>Destineer</td>\n",
       "      <td>0.01</td>\n",
       "      <td>0.00</td>\n",
       "      <td>0.00</td>\n",
       "      <td>0.00</td>\n",
       "      <td>0.01</td>\n",
       "    </tr>\n",
       "    <tr>\n",
       "      <th>16586</th>\n",
       "      <td>16589</td>\n",
       "      <td>Secret Files 2: Puritas Cordis</td>\n",
       "      <td>DS</td>\n",
       "      <td>2009.0</td>\n",
       "      <td>Adventure</td>\n",
       "      <td>Deep Silver</td>\n",
       "      <td>0.00</td>\n",
       "      <td>0.01</td>\n",
       "      <td>0.00</td>\n",
       "      <td>0.00</td>\n",
       "      <td>0.01</td>\n",
       "    </tr>\n",
       "    <tr>\n",
       "      <th>16587</th>\n",
       "      <td>16590</td>\n",
       "      <td>Mezase!! Tsuri Master DS</td>\n",
       "      <td>DS</td>\n",
       "      <td>2009.0</td>\n",
       "      <td>Sports</td>\n",
       "      <td>Hudson Soft</td>\n",
       "      <td>0.00</td>\n",
       "      <td>0.00</td>\n",
       "      <td>0.01</td>\n",
       "      <td>0.00</td>\n",
       "      <td>0.01</td>\n",
       "    </tr>\n",
       "    <tr>\n",
       "      <th>16588</th>\n",
       "      <td>16591</td>\n",
       "      <td>Mega Brain Boost</td>\n",
       "      <td>DS</td>\n",
       "      <td>2008.0</td>\n",
       "      <td>Puzzle</td>\n",
       "      <td>Majesco Entertainment</td>\n",
       "      <td>0.01</td>\n",
       "      <td>0.00</td>\n",
       "      <td>0.00</td>\n",
       "      <td>0.00</td>\n",
       "      <td>0.01</td>\n",
       "    </tr>\n",
       "    <tr>\n",
       "      <th>16589</th>\n",
       "      <td>16592</td>\n",
       "      <td>Chou Ezaru wa Akai Hana: Koi wa Tsuki ni Shiru...</td>\n",
       "      <td>PSV</td>\n",
       "      <td>2016.0</td>\n",
       "      <td>Action</td>\n",
       "      <td>dramatic create</td>\n",
       "      <td>0.00</td>\n",
       "      <td>0.00</td>\n",
       "      <td>0.01</td>\n",
       "      <td>0.00</td>\n",
       "      <td>0.01</td>\n",
       "    </tr>\n",
       "    <tr>\n",
       "      <th>16590</th>\n",
       "      <td>16593</td>\n",
       "      <td>Eiyuu Densetsu: Sora no Kiseki Material Collec...</td>\n",
       "      <td>PSP</td>\n",
       "      <td>2007.0</td>\n",
       "      <td>Role-Playing</td>\n",
       "      <td>Falcom Corporation</td>\n",
       "      <td>0.00</td>\n",
       "      <td>0.00</td>\n",
       "      <td>0.01</td>\n",
       "      <td>0.00</td>\n",
       "      <td>0.01</td>\n",
       "    </tr>\n",
       "    <tr>\n",
       "      <th>16591</th>\n",
       "      <td>16594</td>\n",
       "      <td>Myst IV: Revelation</td>\n",
       "      <td>PC</td>\n",
       "      <td>2004.0</td>\n",
       "      <td>Adventure</td>\n",
       "      <td>Ubisoft</td>\n",
       "      <td>0.01</td>\n",
       "      <td>0.00</td>\n",
       "      <td>0.00</td>\n",
       "      <td>0.00</td>\n",
       "      <td>0.01</td>\n",
       "    </tr>\n",
       "    <tr>\n",
       "      <th>16592</th>\n",
       "      <td>16595</td>\n",
       "      <td>Plushees</td>\n",
       "      <td>DS</td>\n",
       "      <td>2008.0</td>\n",
       "      <td>Simulation</td>\n",
       "      <td>Destineer</td>\n",
       "      <td>0.01</td>\n",
       "      <td>0.00</td>\n",
       "      <td>0.00</td>\n",
       "      <td>0.00</td>\n",
       "      <td>0.01</td>\n",
       "    </tr>\n",
       "    <tr>\n",
       "      <th>16593</th>\n",
       "      <td>16596</td>\n",
       "      <td>Woody Woodpecker in Crazy Castle 5</td>\n",
       "      <td>GBA</td>\n",
       "      <td>2002.0</td>\n",
       "      <td>Platform</td>\n",
       "      <td>Kemco</td>\n",
       "      <td>0.01</td>\n",
       "      <td>0.00</td>\n",
       "      <td>0.00</td>\n",
       "      <td>0.00</td>\n",
       "      <td>0.01</td>\n",
       "    </tr>\n",
       "    <tr>\n",
       "      <th>16594</th>\n",
       "      <td>16597</td>\n",
       "      <td>Men in Black II: Alien Escape</td>\n",
       "      <td>GC</td>\n",
       "      <td>2003.0</td>\n",
       "      <td>Shooter</td>\n",
       "      <td>Infogrames</td>\n",
       "      <td>0.01</td>\n",
       "      <td>0.00</td>\n",
       "      <td>0.00</td>\n",
       "      <td>0.00</td>\n",
       "      <td>0.01</td>\n",
       "    </tr>\n",
       "    <tr>\n",
       "      <th>16595</th>\n",
       "      <td>16598</td>\n",
       "      <td>SCORE International Baja 1000: The Official Game</td>\n",
       "      <td>PS2</td>\n",
       "      <td>2008.0</td>\n",
       "      <td>Racing</td>\n",
       "      <td>Activision</td>\n",
       "      <td>0.00</td>\n",
       "      <td>0.00</td>\n",
       "      <td>0.00</td>\n",
       "      <td>0.00</td>\n",
       "      <td>0.01</td>\n",
       "    </tr>\n",
       "    <tr>\n",
       "      <th>16596</th>\n",
       "      <td>16599</td>\n",
       "      <td>Know How 2</td>\n",
       "      <td>DS</td>\n",
       "      <td>2010.0</td>\n",
       "      <td>Puzzle</td>\n",
       "      <td>7G//AMES</td>\n",
       "      <td>0.00</td>\n",
       "      <td>0.01</td>\n",
       "      <td>0.00</td>\n",
       "      <td>0.00</td>\n",
       "      <td>0.01</td>\n",
       "    </tr>\n",
       "    <tr>\n",
       "      <th>16597</th>\n",
       "      <td>16600</td>\n",
       "      <td>Spirits &amp; Spells</td>\n",
       "      <td>GBA</td>\n",
       "      <td>2003.0</td>\n",
       "      <td>Platform</td>\n",
       "      <td>Wanadoo</td>\n",
       "      <td>0.01</td>\n",
       "      <td>0.00</td>\n",
       "      <td>0.00</td>\n",
       "      <td>0.00</td>\n",
       "      <td>0.01</td>\n",
       "    </tr>\n",
       "  </tbody>\n",
       "</table>\n",
       "<p>16598 rows × 11 columns</p>\n",
       "</div>"
      ],
      "text/plain": [
       "        Rank                                               Name Platform  \\\n",
       "0          1                                         Wii Sports      Wii   \n",
       "1          2                                  Super Mario Bros.      NES   \n",
       "2          3                                     Mario Kart Wii      Wii   \n",
       "3          4                                  Wii Sports Resort      Wii   \n",
       "4          5                           Pokemon Red/Pokemon Blue       GB   \n",
       "5          6                                             Tetris       GB   \n",
       "6          7                              New Super Mario Bros.       DS   \n",
       "7          8                                           Wii Play      Wii   \n",
       "8          9                          New Super Mario Bros. Wii      Wii   \n",
       "9         10                                          Duck Hunt      NES   \n",
       "10        11                                         Nintendogs       DS   \n",
       "11        12                                      Mario Kart DS       DS   \n",
       "12        13                        Pokemon Gold/Pokemon Silver       GB   \n",
       "13        14                                            Wii Fit      Wii   \n",
       "14        15                                       Wii Fit Plus      Wii   \n",
       "15        16                                 Kinect Adventures!     X360   \n",
       "16        17                                 Grand Theft Auto V      PS3   \n",
       "17        18                      Grand Theft Auto: San Andreas      PS2   \n",
       "18        19                                  Super Mario World     SNES   \n",
       "19        20       Brain Age: Train Your Brain in Minutes a Day       DS   \n",
       "20        21                      Pokemon Diamond/Pokemon Pearl       DS   \n",
       "21        22                                   Super Mario Land       GB   \n",
       "22        23                                Super Mario Bros. 3      NES   \n",
       "23        24                                 Grand Theft Auto V     X360   \n",
       "24        25                        Grand Theft Auto: Vice City      PS2   \n",
       "25        26                      Pokemon Ruby/Pokemon Sapphire      GBA   \n",
       "26        27                        Pokemon Black/Pokemon White       DS   \n",
       "27        28        Brain Age 2: More Training in Minutes a Day       DS   \n",
       "28        29                             Gran Turismo 3: A-Spec      PS2   \n",
       "29        30                     Call of Duty: Modern Warfare 3     X360   \n",
       "...      ...                                                ...      ...   \n",
       "16568  16571                                        XI Coliseum      PSP   \n",
       "16569  16572                                 Resident Evil 4 HD     XOne   \n",
       "16570  16573                      Farming 2017 - The Simulation      PS4   \n",
       "16571  16574         Grisaia no Kajitsu: La Fruit de la Grisaia      PSP   \n",
       "16572  16575                   Scarlett: Nichijou no Kyoukaisen      PS2   \n",
       "16573  16576                                Mini Desktop Racing      Wii   \n",
       "16574  16577  Yattaman Wii: BikkuriDokkiri Machine de Mou Ra...      Wii   \n",
       "16575  16578                              Neo Angelique Special      PSP   \n",
       "16576  16579                                  Rugby Challenge 3     XOne   \n",
       "16577  16580                                          Damnation       PC   \n",
       "16578  16581                      Outdoors Unleashed: Africa 3D      3DS   \n",
       "16579  16582                                  PGA European Tour      N64   \n",
       "16580  16583                                          Real Rode      PS2   \n",
       "16581  16584                                          Fit & Fun      Wii   \n",
       "16582  16585                                    Planet Monsters      GBA   \n",
       "16583  16586                                     Carmageddon 64      N64   \n",
       "16584  16587                                   Bust-A-Move 3000       GC   \n",
       "16585  16588                                             Breach       PC   \n",
       "16586  16589                     Secret Files 2: Puritas Cordis       DS   \n",
       "16587  16590                           Mezase!! Tsuri Master DS       DS   \n",
       "16588  16591                                   Mega Brain Boost       DS   \n",
       "16589  16592  Chou Ezaru wa Akai Hana: Koi wa Tsuki ni Shiru...      PSV   \n",
       "16590  16593  Eiyuu Densetsu: Sora no Kiseki Material Collec...      PSP   \n",
       "16591  16594                                Myst IV: Revelation       PC   \n",
       "16592  16595                                           Plushees       DS   \n",
       "16593  16596                 Woody Woodpecker in Crazy Castle 5      GBA   \n",
       "16594  16597                      Men in Black II: Alien Escape       GC   \n",
       "16595  16598   SCORE International Baja 1000: The Official Game      PS2   \n",
       "16596  16599                                         Know How 2       DS   \n",
       "16597  16600                                   Spirits & Spells      GBA   \n",
       "\n",
       "         Year         Genre                    Publisher  NA_Sales  EU_Sales  \\\n",
       "0      2006.0        Sports                     Nintendo     41.49     29.02   \n",
       "1      1985.0      Platform                     Nintendo     29.08      3.58   \n",
       "2      2008.0        Racing                     Nintendo     15.85     12.88   \n",
       "3      2009.0        Sports                     Nintendo     15.75     11.01   \n",
       "4      1996.0  Role-Playing                     Nintendo     11.27      8.89   \n",
       "5      1989.0        Puzzle                     Nintendo     23.20      2.26   \n",
       "6      2006.0      Platform                     Nintendo     11.38      9.23   \n",
       "7      2006.0          Misc                     Nintendo     14.03      9.20   \n",
       "8      2009.0      Platform                     Nintendo     14.59      7.06   \n",
       "9      1984.0       Shooter                     Nintendo     26.93      0.63   \n",
       "10     2005.0    Simulation                     Nintendo      9.07     11.00   \n",
       "11     2005.0        Racing                     Nintendo      9.81      7.57   \n",
       "12     1999.0  Role-Playing                     Nintendo      9.00      6.18   \n",
       "13     2007.0        Sports                     Nintendo      8.94      8.03   \n",
       "14     2009.0        Sports                     Nintendo      9.09      8.59   \n",
       "15     2010.0          Misc       Microsoft Game Studios     14.97      4.94   \n",
       "16     2013.0        Action         Take-Two Interactive      7.01      9.27   \n",
       "17     2004.0        Action         Take-Two Interactive      9.43      0.40   \n",
       "18     1990.0      Platform                     Nintendo     12.78      3.75   \n",
       "19     2005.0          Misc                     Nintendo      4.75      9.26   \n",
       "20     2006.0  Role-Playing                     Nintendo      6.42      4.52   \n",
       "21     1989.0      Platform                     Nintendo     10.83      2.71   \n",
       "22     1988.0      Platform                     Nintendo      9.54      3.44   \n",
       "23     2013.0        Action         Take-Two Interactive      9.63      5.31   \n",
       "24     2002.0        Action         Take-Two Interactive      8.41      5.49   \n",
       "25     2002.0  Role-Playing                     Nintendo      6.06      3.90   \n",
       "26     2010.0  Role-Playing                     Nintendo      5.57      3.28   \n",
       "27     2005.0        Puzzle                     Nintendo      3.44      5.36   \n",
       "28     2001.0        Racing  Sony Computer Entertainment      6.85      5.09   \n",
       "29     2011.0       Shooter                   Activision      9.03      4.28   \n",
       "...       ...           ...                          ...       ...       ...   \n",
       "16568  2006.0        Puzzle  Sony Computer Entertainment      0.00      0.00   \n",
       "16569  2016.0       Shooter                       Capcom      0.01      0.00   \n",
       "16570  2016.0    Simulation            UIG Entertainment      0.00      0.01   \n",
       "16571  2013.0     Adventure                    Prototype      0.00      0.00   \n",
       "16572  2008.0     Adventure              Kadokawa Shoten      0.00      0.00   \n",
       "16573  2007.0        Racing               Popcorn Arcade      0.01      0.00   \n",
       "16574  2008.0        Racing                  Takara Tomy      0.00      0.00   \n",
       "16575  2008.0     Adventure                   Tecmo Koei      0.00      0.00   \n",
       "16576  2016.0        Sports         Alternative Software      0.00      0.01   \n",
       "16577  2009.0       Shooter                  Codemasters      0.00      0.01   \n",
       "16578  2011.0        Sports                      Mastiff      0.01      0.00   \n",
       "16579  2000.0        Sports                   Infogrames      0.01      0.00   \n",
       "16580  2008.0     Adventure              Kadokawa Shoten      0.00      0.00   \n",
       "16581  2011.0        Sports                      Unknown      0.00      0.01   \n",
       "16582  2001.0        Action                        Titus      0.01      0.00   \n",
       "16583  1999.0        Action           Virgin Interactive      0.01      0.00   \n",
       "16584  2003.0        Puzzle                      Ubisoft      0.01      0.00   \n",
       "16585  2011.0       Shooter                    Destineer      0.01      0.00   \n",
       "16586  2009.0     Adventure                  Deep Silver      0.00      0.01   \n",
       "16587  2009.0        Sports                  Hudson Soft      0.00      0.00   \n",
       "16588  2008.0        Puzzle        Majesco Entertainment      0.01      0.00   \n",
       "16589  2016.0        Action              dramatic create      0.00      0.00   \n",
       "16590  2007.0  Role-Playing           Falcom Corporation      0.00      0.00   \n",
       "16591  2004.0     Adventure                      Ubisoft      0.01      0.00   \n",
       "16592  2008.0    Simulation                    Destineer      0.01      0.00   \n",
       "16593  2002.0      Platform                        Kemco      0.01      0.00   \n",
       "16594  2003.0       Shooter                   Infogrames      0.01      0.00   \n",
       "16595  2008.0        Racing                   Activision      0.00      0.00   \n",
       "16596  2010.0        Puzzle                     7G//AMES      0.00      0.01   \n",
       "16597  2003.0      Platform                      Wanadoo      0.01      0.00   \n",
       "\n",
       "       JP_Sales  Other_Sales  Global_Sales  \n",
       "0          3.77         8.46         82.74  \n",
       "1          6.81         0.77         40.24  \n",
       "2          3.79         3.31         35.82  \n",
       "3          3.28         2.96         33.00  \n",
       "4         10.22         1.00         31.37  \n",
       "5          4.22         0.58         30.26  \n",
       "6          6.50         2.90         30.01  \n",
       "7          2.93         2.85         29.02  \n",
       "8          4.70         2.26         28.62  \n",
       "9          0.28         0.47         28.31  \n",
       "10         1.93         2.75         24.76  \n",
       "11         4.13         1.92         23.42  \n",
       "12         7.20         0.71         23.10  \n",
       "13         3.60         2.15         22.72  \n",
       "14         2.53         1.79         22.00  \n",
       "15         0.24         1.67         21.82  \n",
       "16         0.97         4.14         21.40  \n",
       "17         0.41        10.57         20.81  \n",
       "18         3.54         0.55         20.61  \n",
       "19         4.16         2.05         20.22  \n",
       "20         6.04         1.37         18.36  \n",
       "21         4.18         0.42         18.14  \n",
       "22         3.84         0.46         17.28  \n",
       "23         0.06         1.38         16.38  \n",
       "24         0.47         1.78         16.15  \n",
       "25         5.38         0.50         15.85  \n",
       "26         5.65         0.82         15.32  \n",
       "27         5.32         1.18         15.30  \n",
       "28         1.87         1.16         14.98  \n",
       "29         0.13         1.32         14.76  \n",
       "...         ...          ...           ...  \n",
       "16568      0.01         0.00          0.01  \n",
       "16569      0.00         0.00          0.01  \n",
       "16570      0.00         0.00          0.01  \n",
       "16571      0.01         0.00          0.01  \n",
       "16572      0.01         0.00          0.01  \n",
       "16573      0.00         0.00          0.01  \n",
       "16574      0.01         0.00          0.01  \n",
       "16575      0.01         0.00          0.01  \n",
       "16576      0.00         0.00          0.01  \n",
       "16577      0.00         0.00          0.01  \n",
       "16578      0.00         0.00          0.01  \n",
       "16579      0.00         0.00          0.01  \n",
       "16580      0.01         0.00          0.01  \n",
       "16581      0.00         0.00          0.01  \n",
       "16582      0.00         0.00          0.01  \n",
       "16583      0.00         0.00          0.01  \n",
       "16584      0.00         0.00          0.01  \n",
       "16585      0.00         0.00          0.01  \n",
       "16586      0.00         0.00          0.01  \n",
       "16587      0.01         0.00          0.01  \n",
       "16588      0.00         0.00          0.01  \n",
       "16589      0.01         0.00          0.01  \n",
       "16590      0.01         0.00          0.01  \n",
       "16591      0.00         0.00          0.01  \n",
       "16592      0.00         0.00          0.01  \n",
       "16593      0.00         0.00          0.01  \n",
       "16594      0.00         0.00          0.01  \n",
       "16595      0.00         0.00          0.01  \n",
       "16596      0.00         0.00          0.01  \n",
       "16597      0.00         0.00          0.01  \n",
       "\n",
       "[16598 rows x 11 columns]"
      ]
     },
     "execution_count": 67,
     "metadata": {},
     "output_type": "execute_result"
    }
   ],
   "source": [
    "data"
   ]
  },
  {
   "cell_type": "markdown",
   "metadata": {},
   "source": [
    "Выведем начало и конец таблицы"
   ]
  },
  {
   "cell_type": "code",
   "execution_count": 68,
   "metadata": {},
   "outputs": [
    {
     "data": {
      "text/html": [
       "<div>\n",
       "<style>\n",
       "    .dataframe thead tr:only-child th {\n",
       "        text-align: right;\n",
       "    }\n",
       "\n",
       "    .dataframe thead th {\n",
       "        text-align: left;\n",
       "    }\n",
       "\n",
       "    .dataframe tbody tr th {\n",
       "        vertical-align: top;\n",
       "    }\n",
       "</style>\n",
       "<table border=\"1\" class=\"dataframe\">\n",
       "  <thead>\n",
       "    <tr style=\"text-align: right;\">\n",
       "      <th></th>\n",
       "      <th>Rank</th>\n",
       "      <th>Name</th>\n",
       "      <th>Platform</th>\n",
       "      <th>Year</th>\n",
       "      <th>Genre</th>\n",
       "      <th>Publisher</th>\n",
       "      <th>NA_Sales</th>\n",
       "      <th>EU_Sales</th>\n",
       "      <th>JP_Sales</th>\n",
       "      <th>Other_Sales</th>\n",
       "      <th>Global_Sales</th>\n",
       "    </tr>\n",
       "  </thead>\n",
       "  <tbody>\n",
       "    <tr>\n",
       "      <th>0</th>\n",
       "      <td>1</td>\n",
       "      <td>Wii Sports</td>\n",
       "      <td>Wii</td>\n",
       "      <td>2006.0</td>\n",
       "      <td>Sports</td>\n",
       "      <td>Nintendo</td>\n",
       "      <td>41.49</td>\n",
       "      <td>29.02</td>\n",
       "      <td>3.77</td>\n",
       "      <td>8.46</td>\n",
       "      <td>82.74</td>\n",
       "    </tr>\n",
       "    <tr>\n",
       "      <th>1</th>\n",
       "      <td>2</td>\n",
       "      <td>Super Mario Bros.</td>\n",
       "      <td>NES</td>\n",
       "      <td>1985.0</td>\n",
       "      <td>Platform</td>\n",
       "      <td>Nintendo</td>\n",
       "      <td>29.08</td>\n",
       "      <td>3.58</td>\n",
       "      <td>6.81</td>\n",
       "      <td>0.77</td>\n",
       "      <td>40.24</td>\n",
       "    </tr>\n",
       "    <tr>\n",
       "      <th>2</th>\n",
       "      <td>3</td>\n",
       "      <td>Mario Kart Wii</td>\n",
       "      <td>Wii</td>\n",
       "      <td>2008.0</td>\n",
       "      <td>Racing</td>\n",
       "      <td>Nintendo</td>\n",
       "      <td>15.85</td>\n",
       "      <td>12.88</td>\n",
       "      <td>3.79</td>\n",
       "      <td>3.31</td>\n",
       "      <td>35.82</td>\n",
       "    </tr>\n",
       "    <tr>\n",
       "      <th>3</th>\n",
       "      <td>4</td>\n",
       "      <td>Wii Sports Resort</td>\n",
       "      <td>Wii</td>\n",
       "      <td>2009.0</td>\n",
       "      <td>Sports</td>\n",
       "      <td>Nintendo</td>\n",
       "      <td>15.75</td>\n",
       "      <td>11.01</td>\n",
       "      <td>3.28</td>\n",
       "      <td>2.96</td>\n",
       "      <td>33.00</td>\n",
       "    </tr>\n",
       "    <tr>\n",
       "      <th>4</th>\n",
       "      <td>5</td>\n",
       "      <td>Pokemon Red/Pokemon Blue</td>\n",
       "      <td>GB</td>\n",
       "      <td>1996.0</td>\n",
       "      <td>Role-Playing</td>\n",
       "      <td>Nintendo</td>\n",
       "      <td>11.27</td>\n",
       "      <td>8.89</td>\n",
       "      <td>10.22</td>\n",
       "      <td>1.00</td>\n",
       "      <td>31.37</td>\n",
       "    </tr>\n",
       "  </tbody>\n",
       "</table>\n",
       "</div>"
      ],
      "text/plain": [
       "   Rank                      Name Platform    Year         Genre Publisher  \\\n",
       "0     1                Wii Sports      Wii  2006.0        Sports  Nintendo   \n",
       "1     2         Super Mario Bros.      NES  1985.0      Platform  Nintendo   \n",
       "2     3            Mario Kart Wii      Wii  2008.0        Racing  Nintendo   \n",
       "3     4         Wii Sports Resort      Wii  2009.0        Sports  Nintendo   \n",
       "4     5  Pokemon Red/Pokemon Blue       GB  1996.0  Role-Playing  Nintendo   \n",
       "\n",
       "   NA_Sales  EU_Sales  JP_Sales  Other_Sales  Global_Sales  \n",
       "0     41.49     29.02      3.77         8.46         82.74  \n",
       "1     29.08      3.58      6.81         0.77         40.24  \n",
       "2     15.85     12.88      3.79         3.31         35.82  \n",
       "3     15.75     11.01      3.28         2.96         33.00  \n",
       "4     11.27      8.89     10.22         1.00         31.37  "
      ]
     },
     "execution_count": 68,
     "metadata": {},
     "output_type": "execute_result"
    }
   ],
   "source": [
    "data.head()"
   ]
  },
  {
   "cell_type": "markdown",
   "metadata": {},
   "source": [
    "Выведем отдельно первые строки таблицы"
   ]
  },
  {
   "cell_type": "code",
   "execution_count": 69,
   "metadata": {},
   "outputs": [
    {
     "data": {
      "text/html": [
       "<div>\n",
       "<style>\n",
       "    .dataframe thead tr:only-child th {\n",
       "        text-align: right;\n",
       "    }\n",
       "\n",
       "    .dataframe thead th {\n",
       "        text-align: left;\n",
       "    }\n",
       "\n",
       "    .dataframe tbody tr th {\n",
       "        vertical-align: top;\n",
       "    }\n",
       "</style>\n",
       "<table border=\"1\" class=\"dataframe\">\n",
       "  <thead>\n",
       "    <tr style=\"text-align: right;\">\n",
       "      <th></th>\n",
       "      <th>Rank</th>\n",
       "      <th>Name</th>\n",
       "      <th>Platform</th>\n",
       "      <th>Year</th>\n",
       "      <th>Genre</th>\n",
       "      <th>Publisher</th>\n",
       "      <th>NA_Sales</th>\n",
       "      <th>EU_Sales</th>\n",
       "      <th>JP_Sales</th>\n",
       "      <th>Other_Sales</th>\n",
       "      <th>Global_Sales</th>\n",
       "    </tr>\n",
       "  </thead>\n",
       "  <tbody>\n",
       "    <tr>\n",
       "      <th>16593</th>\n",
       "      <td>16596</td>\n",
       "      <td>Woody Woodpecker in Crazy Castle 5</td>\n",
       "      <td>GBA</td>\n",
       "      <td>2002.0</td>\n",
       "      <td>Platform</td>\n",
       "      <td>Kemco</td>\n",
       "      <td>0.01</td>\n",
       "      <td>0.00</td>\n",
       "      <td>0.0</td>\n",
       "      <td>0.0</td>\n",
       "      <td>0.01</td>\n",
       "    </tr>\n",
       "    <tr>\n",
       "      <th>16594</th>\n",
       "      <td>16597</td>\n",
       "      <td>Men in Black II: Alien Escape</td>\n",
       "      <td>GC</td>\n",
       "      <td>2003.0</td>\n",
       "      <td>Shooter</td>\n",
       "      <td>Infogrames</td>\n",
       "      <td>0.01</td>\n",
       "      <td>0.00</td>\n",
       "      <td>0.0</td>\n",
       "      <td>0.0</td>\n",
       "      <td>0.01</td>\n",
       "    </tr>\n",
       "    <tr>\n",
       "      <th>16595</th>\n",
       "      <td>16598</td>\n",
       "      <td>SCORE International Baja 1000: The Official Game</td>\n",
       "      <td>PS2</td>\n",
       "      <td>2008.0</td>\n",
       "      <td>Racing</td>\n",
       "      <td>Activision</td>\n",
       "      <td>0.00</td>\n",
       "      <td>0.00</td>\n",
       "      <td>0.0</td>\n",
       "      <td>0.0</td>\n",
       "      <td>0.01</td>\n",
       "    </tr>\n",
       "    <tr>\n",
       "      <th>16596</th>\n",
       "      <td>16599</td>\n",
       "      <td>Know How 2</td>\n",
       "      <td>DS</td>\n",
       "      <td>2010.0</td>\n",
       "      <td>Puzzle</td>\n",
       "      <td>7G//AMES</td>\n",
       "      <td>0.00</td>\n",
       "      <td>0.01</td>\n",
       "      <td>0.0</td>\n",
       "      <td>0.0</td>\n",
       "      <td>0.01</td>\n",
       "    </tr>\n",
       "    <tr>\n",
       "      <th>16597</th>\n",
       "      <td>16600</td>\n",
       "      <td>Spirits &amp; Spells</td>\n",
       "      <td>GBA</td>\n",
       "      <td>2003.0</td>\n",
       "      <td>Platform</td>\n",
       "      <td>Wanadoo</td>\n",
       "      <td>0.01</td>\n",
       "      <td>0.00</td>\n",
       "      <td>0.0</td>\n",
       "      <td>0.0</td>\n",
       "      <td>0.01</td>\n",
       "    </tr>\n",
       "  </tbody>\n",
       "</table>\n",
       "</div>"
      ],
      "text/plain": [
       "        Rank                                              Name Platform  \\\n",
       "16593  16596                Woody Woodpecker in Crazy Castle 5      GBA   \n",
       "16594  16597                     Men in Black II: Alien Escape       GC   \n",
       "16595  16598  SCORE International Baja 1000: The Official Game      PS2   \n",
       "16596  16599                                        Know How 2       DS   \n",
       "16597  16600                                  Spirits & Spells      GBA   \n",
       "\n",
       "         Year     Genre   Publisher  NA_Sales  EU_Sales  JP_Sales  \\\n",
       "16593  2002.0  Platform       Kemco      0.01      0.00       0.0   \n",
       "16594  2003.0   Shooter  Infogrames      0.01      0.00       0.0   \n",
       "16595  2008.0    Racing  Activision      0.00      0.00       0.0   \n",
       "16596  2010.0    Puzzle    7G//AMES      0.00      0.01       0.0   \n",
       "16597  2003.0  Platform     Wanadoo      0.01      0.00       0.0   \n",
       "\n",
       "       Other_Sales  Global_Sales  \n",
       "16593          0.0          0.01  \n",
       "16594          0.0          0.01  \n",
       "16595          0.0          0.01  \n",
       "16596          0.0          0.01  \n",
       "16597          0.0          0.01  "
      ]
     },
     "execution_count": 69,
     "metadata": {},
     "output_type": "execute_result"
    }
   ],
   "source": [
    "data.tail()"
   ]
  },
  {
   "cell_type": "markdown",
   "metadata": {},
   "source": [
    "И теперь отдельно последние строки таблицы"
   ]
  },
  {
   "cell_type": "code",
   "execution_count": 70,
   "metadata": {},
   "outputs": [
    {
     "data": {
      "text/plain": [
       "pandas.core.frame.DataFrame"
      ]
     },
     "execution_count": 70,
     "metadata": {},
     "output_type": "execute_result"
    }
   ],
   "source": [
    "type(data)"
   ]
  },
  {
   "cell_type": "markdown",
   "metadata": {},
   "source": [
    "Посмотрим тип данных"
   ]
  },
  {
   "cell_type": "code",
   "execution_count": 71,
   "metadata": {},
   "outputs": [
    {
     "name": "stdout",
     "output_type": "stream",
     "text": [
      "Rank\n",
      "Name\n",
      "Platform\n",
      "Year\n",
      "Genre\n",
      "Publisher\n",
      "NA_Sales\n",
      "EU_Sales\n",
      "JP_Sales\n",
      "Other_Sales\n",
      "Global_Sales\n"
     ]
    }
   ],
   "source": [
    "print('\\n'.join([x for x in data.columns]))"
   ]
  },
  {
   "cell_type": "markdown",
   "metadata": {},
   "source": [
    "Красиво и аккуратно выведем названия всех столбцов"
   ]
  },
  {
   "cell_type": "code",
   "execution_count": 72,
   "metadata": {},
   "outputs": [
    {
     "name": "stdout",
     "output_type": "stream",
     "text": [
      "<class 'pandas.core.frame.DataFrame'>\n",
      "RangeIndex: 16598 entries, 0 to 16597\n",
      "Data columns (total 11 columns):\n",
      "Rank            16598 non-null int64\n",
      "Name            16598 non-null object\n",
      "Platform        16598 non-null object\n",
      "Year            16327 non-null float64\n",
      "Genre           16598 non-null object\n",
      "Publisher       16540 non-null object\n",
      "NA_Sales        16598 non-null float64\n",
      "EU_Sales        16598 non-null float64\n",
      "JP_Sales        16598 non-null float64\n",
      "Other_Sales     16598 non-null float64\n",
      "Global_Sales    16598 non-null float64\n",
      "dtypes: float64(6), int64(1), object(4)\n",
      "memory usage: 1.4+ MB\n"
     ]
    }
   ],
   "source": [
    "data.info()"
   ]
  },
  {
   "cell_type": "markdown",
   "metadata": {},
   "source": [
    "Посмотрим общую информацию о наших данных, видим, что в некоторых ячейках есть пропущенные значения, придётся уделывать"
   ]
  },
  {
   "cell_type": "code",
   "execution_count": 73,
   "metadata": {},
   "outputs": [
    {
     "data": {
      "text/html": [
       "<div>\n",
       "<style>\n",
       "    .dataframe thead tr:only-child th {\n",
       "        text-align: right;\n",
       "    }\n",
       "\n",
       "    .dataframe thead th {\n",
       "        text-align: left;\n",
       "    }\n",
       "\n",
       "    .dataframe tbody tr th {\n",
       "        vertical-align: top;\n",
       "    }\n",
       "</style>\n",
       "<table border=\"1\" class=\"dataframe\">\n",
       "  <thead>\n",
       "    <tr style=\"text-align: right;\">\n",
       "      <th></th>\n",
       "      <th>Rank</th>\n",
       "      <th>Year</th>\n",
       "      <th>NA_Sales</th>\n",
       "      <th>EU_Sales</th>\n",
       "      <th>JP_Sales</th>\n",
       "      <th>Other_Sales</th>\n",
       "      <th>Global_Sales</th>\n",
       "    </tr>\n",
       "  </thead>\n",
       "  <tbody>\n",
       "    <tr>\n",
       "      <th>count</th>\n",
       "      <td>16598.000000</td>\n",
       "      <td>16327.000000</td>\n",
       "      <td>16598.000000</td>\n",
       "      <td>16598.000000</td>\n",
       "      <td>16598.000000</td>\n",
       "      <td>16598.000000</td>\n",
       "      <td>16598.000000</td>\n",
       "    </tr>\n",
       "    <tr>\n",
       "      <th>mean</th>\n",
       "      <td>8300.605254</td>\n",
       "      <td>2006.406443</td>\n",
       "      <td>0.264667</td>\n",
       "      <td>0.146652</td>\n",
       "      <td>0.077782</td>\n",
       "      <td>0.048063</td>\n",
       "      <td>0.537441</td>\n",
       "    </tr>\n",
       "    <tr>\n",
       "      <th>std</th>\n",
       "      <td>4791.853933</td>\n",
       "      <td>5.828981</td>\n",
       "      <td>0.816683</td>\n",
       "      <td>0.505351</td>\n",
       "      <td>0.309291</td>\n",
       "      <td>0.188588</td>\n",
       "      <td>1.555028</td>\n",
       "    </tr>\n",
       "    <tr>\n",
       "      <th>min</th>\n",
       "      <td>1.000000</td>\n",
       "      <td>1980.000000</td>\n",
       "      <td>0.000000</td>\n",
       "      <td>0.000000</td>\n",
       "      <td>0.000000</td>\n",
       "      <td>0.000000</td>\n",
       "      <td>0.010000</td>\n",
       "    </tr>\n",
       "    <tr>\n",
       "      <th>25%</th>\n",
       "      <td>4151.250000</td>\n",
       "      <td>2003.000000</td>\n",
       "      <td>0.000000</td>\n",
       "      <td>0.000000</td>\n",
       "      <td>0.000000</td>\n",
       "      <td>0.000000</td>\n",
       "      <td>0.060000</td>\n",
       "    </tr>\n",
       "    <tr>\n",
       "      <th>50%</th>\n",
       "      <td>8300.500000</td>\n",
       "      <td>2007.000000</td>\n",
       "      <td>0.080000</td>\n",
       "      <td>0.020000</td>\n",
       "      <td>0.000000</td>\n",
       "      <td>0.010000</td>\n",
       "      <td>0.170000</td>\n",
       "    </tr>\n",
       "    <tr>\n",
       "      <th>75%</th>\n",
       "      <td>12449.750000</td>\n",
       "      <td>2010.000000</td>\n",
       "      <td>0.240000</td>\n",
       "      <td>0.110000</td>\n",
       "      <td>0.040000</td>\n",
       "      <td>0.040000</td>\n",
       "      <td>0.470000</td>\n",
       "    </tr>\n",
       "    <tr>\n",
       "      <th>max</th>\n",
       "      <td>16600.000000</td>\n",
       "      <td>2020.000000</td>\n",
       "      <td>41.490000</td>\n",
       "      <td>29.020000</td>\n",
       "      <td>10.220000</td>\n",
       "      <td>10.570000</td>\n",
       "      <td>82.740000</td>\n",
       "    </tr>\n",
       "  </tbody>\n",
       "</table>\n",
       "</div>"
      ],
      "text/plain": [
       "               Rank          Year      NA_Sales      EU_Sales      JP_Sales  \\\n",
       "count  16598.000000  16327.000000  16598.000000  16598.000000  16598.000000   \n",
       "mean    8300.605254   2006.406443      0.264667      0.146652      0.077782   \n",
       "std     4791.853933      5.828981      0.816683      0.505351      0.309291   \n",
       "min        1.000000   1980.000000      0.000000      0.000000      0.000000   \n",
       "25%     4151.250000   2003.000000      0.000000      0.000000      0.000000   \n",
       "50%     8300.500000   2007.000000      0.080000      0.020000      0.000000   \n",
       "75%    12449.750000   2010.000000      0.240000      0.110000      0.040000   \n",
       "max    16600.000000   2020.000000     41.490000     29.020000     10.220000   \n",
       "\n",
       "        Other_Sales  Global_Sales  \n",
       "count  16598.000000  16598.000000  \n",
       "mean       0.048063      0.537441  \n",
       "std        0.188588      1.555028  \n",
       "min        0.000000      0.010000  \n",
       "25%        0.000000      0.060000  \n",
       "50%        0.010000      0.170000  \n",
       "75%        0.040000      0.470000  \n",
       "max       10.570000     82.740000  "
      ]
     },
     "execution_count": 73,
     "metadata": {},
     "output_type": "execute_result"
    }
   ],
   "source": [
    "data.describe()"
   ]
  },
  {
   "cell_type": "markdown",
   "metadata": {},
   "source": [
    "Посмотрим основные статистические характиристики наших данных. Можно увидеть, что здесь присутствуют только численные характеристики."
   ]
  },
  {
   "cell_type": "code",
   "execution_count": 74,
   "metadata": {},
   "outputs": [
    {
     "data": {
      "text/html": [
       "<div>\n",
       "<style>\n",
       "    .dataframe thead tr:only-child th {\n",
       "        text-align: right;\n",
       "    }\n",
       "\n",
       "    .dataframe thead th {\n",
       "        text-align: left;\n",
       "    }\n",
       "\n",
       "    .dataframe tbody tr th {\n",
       "        vertical-align: top;\n",
       "    }\n",
       "</style>\n",
       "<table border=\"1\" class=\"dataframe\">\n",
       "  <thead>\n",
       "    <tr style=\"text-align: right;\">\n",
       "      <th></th>\n",
       "      <th>Rank</th>\n",
       "      <th>Name</th>\n",
       "      <th>Platform</th>\n",
       "      <th>Year</th>\n",
       "      <th>Genre</th>\n",
       "      <th>Publisher</th>\n",
       "      <th>NA_Sales</th>\n",
       "      <th>EU_Sales</th>\n",
       "      <th>JP_Sales</th>\n",
       "      <th>Other_Sales</th>\n",
       "      <th>Global_Sales</th>\n",
       "    </tr>\n",
       "  </thead>\n",
       "  <tbody>\n",
       "    <tr>\n",
       "      <th>count</th>\n",
       "      <td>16598.000000</td>\n",
       "      <td>16598</td>\n",
       "      <td>16598</td>\n",
       "      <td>16327.000000</td>\n",
       "      <td>16598</td>\n",
       "      <td>16540</td>\n",
       "      <td>16598.000000</td>\n",
       "      <td>16598.000000</td>\n",
       "      <td>16598.000000</td>\n",
       "      <td>16598.000000</td>\n",
       "      <td>16598.000000</td>\n",
       "    </tr>\n",
       "    <tr>\n",
       "      <th>unique</th>\n",
       "      <td>NaN</td>\n",
       "      <td>11493</td>\n",
       "      <td>31</td>\n",
       "      <td>NaN</td>\n",
       "      <td>12</td>\n",
       "      <td>578</td>\n",
       "      <td>NaN</td>\n",
       "      <td>NaN</td>\n",
       "      <td>NaN</td>\n",
       "      <td>NaN</td>\n",
       "      <td>NaN</td>\n",
       "    </tr>\n",
       "    <tr>\n",
       "      <th>top</th>\n",
       "      <td>NaN</td>\n",
       "      <td>Need for Speed: Most Wanted</td>\n",
       "      <td>DS</td>\n",
       "      <td>NaN</td>\n",
       "      <td>Action</td>\n",
       "      <td>Electronic Arts</td>\n",
       "      <td>NaN</td>\n",
       "      <td>NaN</td>\n",
       "      <td>NaN</td>\n",
       "      <td>NaN</td>\n",
       "      <td>NaN</td>\n",
       "    </tr>\n",
       "    <tr>\n",
       "      <th>freq</th>\n",
       "      <td>NaN</td>\n",
       "      <td>12</td>\n",
       "      <td>2163</td>\n",
       "      <td>NaN</td>\n",
       "      <td>3316</td>\n",
       "      <td>1351</td>\n",
       "      <td>NaN</td>\n",
       "      <td>NaN</td>\n",
       "      <td>NaN</td>\n",
       "      <td>NaN</td>\n",
       "      <td>NaN</td>\n",
       "    </tr>\n",
       "    <tr>\n",
       "      <th>mean</th>\n",
       "      <td>8300.605254</td>\n",
       "      <td>NaN</td>\n",
       "      <td>NaN</td>\n",
       "      <td>2006.406443</td>\n",
       "      <td>NaN</td>\n",
       "      <td>NaN</td>\n",
       "      <td>0.264667</td>\n",
       "      <td>0.146652</td>\n",
       "      <td>0.077782</td>\n",
       "      <td>0.048063</td>\n",
       "      <td>0.537441</td>\n",
       "    </tr>\n",
       "    <tr>\n",
       "      <th>std</th>\n",
       "      <td>4791.853933</td>\n",
       "      <td>NaN</td>\n",
       "      <td>NaN</td>\n",
       "      <td>5.828981</td>\n",
       "      <td>NaN</td>\n",
       "      <td>NaN</td>\n",
       "      <td>0.816683</td>\n",
       "      <td>0.505351</td>\n",
       "      <td>0.309291</td>\n",
       "      <td>0.188588</td>\n",
       "      <td>1.555028</td>\n",
       "    </tr>\n",
       "    <tr>\n",
       "      <th>min</th>\n",
       "      <td>1.000000</td>\n",
       "      <td>NaN</td>\n",
       "      <td>NaN</td>\n",
       "      <td>1980.000000</td>\n",
       "      <td>NaN</td>\n",
       "      <td>NaN</td>\n",
       "      <td>0.000000</td>\n",
       "      <td>0.000000</td>\n",
       "      <td>0.000000</td>\n",
       "      <td>0.000000</td>\n",
       "      <td>0.010000</td>\n",
       "    </tr>\n",
       "    <tr>\n",
       "      <th>25%</th>\n",
       "      <td>4151.250000</td>\n",
       "      <td>NaN</td>\n",
       "      <td>NaN</td>\n",
       "      <td>2003.000000</td>\n",
       "      <td>NaN</td>\n",
       "      <td>NaN</td>\n",
       "      <td>0.000000</td>\n",
       "      <td>0.000000</td>\n",
       "      <td>0.000000</td>\n",
       "      <td>0.000000</td>\n",
       "      <td>0.060000</td>\n",
       "    </tr>\n",
       "    <tr>\n",
       "      <th>50%</th>\n",
       "      <td>8300.500000</td>\n",
       "      <td>NaN</td>\n",
       "      <td>NaN</td>\n",
       "      <td>2007.000000</td>\n",
       "      <td>NaN</td>\n",
       "      <td>NaN</td>\n",
       "      <td>0.080000</td>\n",
       "      <td>0.020000</td>\n",
       "      <td>0.000000</td>\n",
       "      <td>0.010000</td>\n",
       "      <td>0.170000</td>\n",
       "    </tr>\n",
       "    <tr>\n",
       "      <th>75%</th>\n",
       "      <td>12449.750000</td>\n",
       "      <td>NaN</td>\n",
       "      <td>NaN</td>\n",
       "      <td>2010.000000</td>\n",
       "      <td>NaN</td>\n",
       "      <td>NaN</td>\n",
       "      <td>0.240000</td>\n",
       "      <td>0.110000</td>\n",
       "      <td>0.040000</td>\n",
       "      <td>0.040000</td>\n",
       "      <td>0.470000</td>\n",
       "    </tr>\n",
       "    <tr>\n",
       "      <th>max</th>\n",
       "      <td>16600.000000</td>\n",
       "      <td>NaN</td>\n",
       "      <td>NaN</td>\n",
       "      <td>2020.000000</td>\n",
       "      <td>NaN</td>\n",
       "      <td>NaN</td>\n",
       "      <td>41.490000</td>\n",
       "      <td>29.020000</td>\n",
       "      <td>10.220000</td>\n",
       "      <td>10.570000</td>\n",
       "      <td>82.740000</td>\n",
       "    </tr>\n",
       "  </tbody>\n",
       "</table>\n",
       "</div>"
      ],
      "text/plain": [
       "                Rank                         Name Platform          Year  \\\n",
       "count   16598.000000                        16598    16598  16327.000000   \n",
       "unique           NaN                        11493       31           NaN   \n",
       "top              NaN  Need for Speed: Most Wanted       DS           NaN   \n",
       "freq             NaN                           12     2163           NaN   \n",
       "mean     8300.605254                          NaN      NaN   2006.406443   \n",
       "std      4791.853933                          NaN      NaN      5.828981   \n",
       "min         1.000000                          NaN      NaN   1980.000000   \n",
       "25%      4151.250000                          NaN      NaN   2003.000000   \n",
       "50%      8300.500000                          NaN      NaN   2007.000000   \n",
       "75%     12449.750000                          NaN      NaN   2010.000000   \n",
       "max     16600.000000                          NaN      NaN   2020.000000   \n",
       "\n",
       "         Genre        Publisher      NA_Sales      EU_Sales      JP_Sales  \\\n",
       "count    16598            16540  16598.000000  16598.000000  16598.000000   \n",
       "unique      12              578           NaN           NaN           NaN   \n",
       "top     Action  Electronic Arts           NaN           NaN           NaN   \n",
       "freq      3316             1351           NaN           NaN           NaN   \n",
       "mean       NaN              NaN      0.264667      0.146652      0.077782   \n",
       "std        NaN              NaN      0.816683      0.505351      0.309291   \n",
       "min        NaN              NaN      0.000000      0.000000      0.000000   \n",
       "25%        NaN              NaN      0.000000      0.000000      0.000000   \n",
       "50%        NaN              NaN      0.080000      0.020000      0.000000   \n",
       "75%        NaN              NaN      0.240000      0.110000      0.040000   \n",
       "max        NaN              NaN     41.490000     29.020000     10.220000   \n",
       "\n",
       "         Other_Sales  Global_Sales  \n",
       "count   16598.000000  16598.000000  \n",
       "unique           NaN           NaN  \n",
       "top              NaN           NaN  \n",
       "freq             NaN           NaN  \n",
       "mean        0.048063      0.537441  \n",
       "std         0.188588      1.555028  \n",
       "min         0.000000      0.010000  \n",
       "25%         0.000000      0.060000  \n",
       "50%         0.010000      0.170000  \n",
       "75%         0.040000      0.470000  \n",
       "max        10.570000     82.740000  "
      ]
     },
     "execution_count": 74,
     "metadata": {},
     "output_type": "execute_result"
    }
   ],
   "source": [
    "data.describe(include=\"all\")"
   ]
  },
  {
   "cell_type": "markdown",
   "metadata": {},
   "source": [
    "Добавив именованный параметр include мы сделали статистическую таблицу для всех столбцов, в нём появились отсутствующие значения. Это происходит из-за того, что некоторые характеристики применимы не для всех типов данных. "
   ]
  },
  {
   "cell_type": "code",
   "execution_count": 75,
   "metadata": {},
   "outputs": [
    {
     "data": {
      "text/html": [
       "<div>\n",
       "<style>\n",
       "    .dataframe thead tr:only-child th {\n",
       "        text-align: right;\n",
       "    }\n",
       "\n",
       "    .dataframe thead th {\n",
       "        text-align: left;\n",
       "    }\n",
       "\n",
       "    .dataframe tbody tr th {\n",
       "        vertical-align: top;\n",
       "    }\n",
       "</style>\n",
       "<table border=\"1\" class=\"dataframe\">\n",
       "  <thead>\n",
       "    <tr style=\"text-align: right;\">\n",
       "      <th></th>\n",
       "      <th>Rank</th>\n",
       "      <th>Year</th>\n",
       "      <th>NA_Sales</th>\n",
       "      <th>EU_Sales</th>\n",
       "      <th>JP_Sales</th>\n",
       "      <th>Other_Sales</th>\n",
       "      <th>Global_Sales</th>\n",
       "    </tr>\n",
       "  </thead>\n",
       "  <tbody>\n",
       "    <tr>\n",
       "      <th>Rank</th>\n",
       "      <td>1.000000</td>\n",
       "      <td>0.178814</td>\n",
       "      <td>-0.401362</td>\n",
       "      <td>-0.379123</td>\n",
       "      <td>-0.267785</td>\n",
       "      <td>-0.332986</td>\n",
       "      <td>-0.427407</td>\n",
       "    </tr>\n",
       "    <tr>\n",
       "      <th>Year</th>\n",
       "      <td>0.178814</td>\n",
       "      <td>1.000000</td>\n",
       "      <td>-0.091402</td>\n",
       "      <td>0.006014</td>\n",
       "      <td>-0.169316</td>\n",
       "      <td>0.041058</td>\n",
       "      <td>-0.074735</td>\n",
       "    </tr>\n",
       "    <tr>\n",
       "      <th>NA_Sales</th>\n",
       "      <td>-0.401362</td>\n",
       "      <td>-0.091402</td>\n",
       "      <td>1.000000</td>\n",
       "      <td>0.767727</td>\n",
       "      <td>0.449787</td>\n",
       "      <td>0.634737</td>\n",
       "      <td>0.941047</td>\n",
       "    </tr>\n",
       "    <tr>\n",
       "      <th>EU_Sales</th>\n",
       "      <td>-0.379123</td>\n",
       "      <td>0.006014</td>\n",
       "      <td>0.767727</td>\n",
       "      <td>1.000000</td>\n",
       "      <td>0.435584</td>\n",
       "      <td>0.726385</td>\n",
       "      <td>0.902836</td>\n",
       "    </tr>\n",
       "    <tr>\n",
       "      <th>JP_Sales</th>\n",
       "      <td>-0.267785</td>\n",
       "      <td>-0.169316</td>\n",
       "      <td>0.449787</td>\n",
       "      <td>0.435584</td>\n",
       "      <td>1.000000</td>\n",
       "      <td>0.290186</td>\n",
       "      <td>0.611816</td>\n",
       "    </tr>\n",
       "    <tr>\n",
       "      <th>Other_Sales</th>\n",
       "      <td>-0.332986</td>\n",
       "      <td>0.041058</td>\n",
       "      <td>0.634737</td>\n",
       "      <td>0.726385</td>\n",
       "      <td>0.290186</td>\n",
       "      <td>1.000000</td>\n",
       "      <td>0.748331</td>\n",
       "    </tr>\n",
       "    <tr>\n",
       "      <th>Global_Sales</th>\n",
       "      <td>-0.427407</td>\n",
       "      <td>-0.074735</td>\n",
       "      <td>0.941047</td>\n",
       "      <td>0.902836</td>\n",
       "      <td>0.611816</td>\n",
       "      <td>0.748331</td>\n",
       "      <td>1.000000</td>\n",
       "    </tr>\n",
       "  </tbody>\n",
       "</table>\n",
       "</div>"
      ],
      "text/plain": [
       "                  Rank      Year  NA_Sales  EU_Sales  JP_Sales  Other_Sales  \\\n",
       "Rank          1.000000  0.178814 -0.401362 -0.379123 -0.267785    -0.332986   \n",
       "Year          0.178814  1.000000 -0.091402  0.006014 -0.169316     0.041058   \n",
       "NA_Sales     -0.401362 -0.091402  1.000000  0.767727  0.449787     0.634737   \n",
       "EU_Sales     -0.379123  0.006014  0.767727  1.000000  0.435584     0.726385   \n",
       "JP_Sales     -0.267785 -0.169316  0.449787  0.435584  1.000000     0.290186   \n",
       "Other_Sales  -0.332986  0.041058  0.634737  0.726385  0.290186     1.000000   \n",
       "Global_Sales -0.427407 -0.074735  0.941047  0.902836  0.611816     0.748331   \n",
       "\n",
       "              Global_Sales  \n",
       "Rank             -0.427407  \n",
       "Year             -0.074735  \n",
       "NA_Sales          0.941047  \n",
       "EU_Sales          0.902836  \n",
       "JP_Sales          0.611816  \n",
       "Other_Sales       0.748331  \n",
       "Global_Sales      1.000000  "
      ]
     },
     "execution_count": 75,
     "metadata": {},
     "output_type": "execute_result"
    }
   ],
   "source": [
    "data.corr()"
   ]
  },
  {
   "cell_type": "markdown",
   "metadata": {},
   "source": [
    "Посмотрим корреляцию между столбцами, особенно высокая корреляция видна между столбцами NA_Sales и Global_Sales, EU_Sales и Global_Sales"
   ]
  },
  {
   "cell_type": "code",
   "execution_count": 76,
   "metadata": {},
   "outputs": [
    {
     "data": {
      "text/html": [
       "<div>\n",
       "<style>\n",
       "    .dataframe thead tr:only-child th {\n",
       "        text-align: right;\n",
       "    }\n",
       "\n",
       "    .dataframe thead th {\n",
       "        text-align: left;\n",
       "    }\n",
       "\n",
       "    .dataframe tbody tr th {\n",
       "        vertical-align: top;\n",
       "    }\n",
       "</style>\n",
       "<table border=\"1\" class=\"dataframe\">\n",
       "  <thead>\n",
       "    <tr style=\"text-align: right;\">\n",
       "      <th></th>\n",
       "      <th>Rank</th>\n",
       "      <th>Year</th>\n",
       "      <th>NA_Sales</th>\n",
       "      <th>EU_Sales</th>\n",
       "      <th>JP_Sales</th>\n",
       "      <th>Other_Sales</th>\n",
       "      <th>Global_Sales</th>\n",
       "    </tr>\n",
       "  </thead>\n",
       "  <tbody>\n",
       "    <tr>\n",
       "      <th>Rank</th>\n",
       "      <td>1.000000</td>\n",
       "      <td>0.060839</td>\n",
       "      <td>-0.467187</td>\n",
       "      <td>-0.465695</td>\n",
       "      <td>-0.308126</td>\n",
       "      <td>-0.382965</td>\n",
       "      <td>-0.516249</td>\n",
       "    </tr>\n",
       "    <tr>\n",
       "      <th>Year</th>\n",
       "      <td>0.060839</td>\n",
       "      <td>1.000000</td>\n",
       "      <td>-0.070384</td>\n",
       "      <td>0.093192</td>\n",
       "      <td>-0.215331</td>\n",
       "      <td>0.138052</td>\n",
       "      <td>-0.034202</td>\n",
       "    </tr>\n",
       "    <tr>\n",
       "      <th>NA_Sales</th>\n",
       "      <td>-0.467187</td>\n",
       "      <td>-0.070384</td>\n",
       "      <td>1.000000</td>\n",
       "      <td>0.725009</td>\n",
       "      <td>0.402929</td>\n",
       "      <td>0.575588</td>\n",
       "      <td>0.930153</td>\n",
       "    </tr>\n",
       "    <tr>\n",
       "      <th>EU_Sales</th>\n",
       "      <td>-0.465695</td>\n",
       "      <td>0.093192</td>\n",
       "      <td>0.725009</td>\n",
       "      <td>1.000000</td>\n",
       "      <td>0.385384</td>\n",
       "      <td>0.683439</td>\n",
       "      <td>0.884988</td>\n",
       "    </tr>\n",
       "    <tr>\n",
       "      <th>JP_Sales</th>\n",
       "      <td>-0.308126</td>\n",
       "      <td>-0.215331</td>\n",
       "      <td>0.402929</td>\n",
       "      <td>0.385384</td>\n",
       "      <td>1.000000</td>\n",
       "      <td>0.225277</td>\n",
       "      <td>0.580692</td>\n",
       "    </tr>\n",
       "    <tr>\n",
       "      <th>Other_Sales</th>\n",
       "      <td>-0.382965</td>\n",
       "      <td>0.138052</td>\n",
       "      <td>0.575588</td>\n",
       "      <td>0.683439</td>\n",
       "      <td>0.225277</td>\n",
       "      <td>1.000000</td>\n",
       "      <td>0.706973</td>\n",
       "    </tr>\n",
       "    <tr>\n",
       "      <th>Global_Sales</th>\n",
       "      <td>-0.516249</td>\n",
       "      <td>-0.034202</td>\n",
       "      <td>0.930153</td>\n",
       "      <td>0.884988</td>\n",
       "      <td>0.580692</td>\n",
       "      <td>0.706973</td>\n",
       "      <td>1.000000</td>\n",
       "    </tr>\n",
       "  </tbody>\n",
       "</table>\n",
       "</div>"
      ],
      "text/plain": [
       "                  Rank      Year  NA_Sales  EU_Sales  JP_Sales  Other_Sales  \\\n",
       "Rank          1.000000  0.060839 -0.467187 -0.465695 -0.308126    -0.382965   \n",
       "Year          0.060839  1.000000 -0.070384  0.093192 -0.215331     0.138052   \n",
       "NA_Sales     -0.467187 -0.070384  1.000000  0.725009  0.402929     0.575588   \n",
       "EU_Sales     -0.465695  0.093192  0.725009  1.000000  0.385384     0.683439   \n",
       "JP_Sales     -0.308126 -0.215331  0.402929  0.385384  1.000000     0.225277   \n",
       "Other_Sales  -0.382965  0.138052  0.575588  0.683439  0.225277     1.000000   \n",
       "Global_Sales -0.516249 -0.034202  0.930153  0.884988  0.580692     0.706973   \n",
       "\n",
       "              Global_Sales  \n",
       "Rank             -0.516249  \n",
       "Year             -0.034202  \n",
       "NA_Sales          0.930153  \n",
       "EU_Sales          0.884988  \n",
       "JP_Sales          0.580692  \n",
       "Other_Sales       0.706973  \n",
       "Global_Sales      1.000000  "
      ]
     },
     "execution_count": 76,
     "metadata": {},
     "output_type": "execute_result"
    }
   ],
   "source": [
    "data[data[\"Global_Sales\"] > 0.5].corr()"
   ]
  },
  {
   "cell_type": "markdown",
   "metadata": {},
   "source": [
    "Посмотрим корреляцию для тех видеоигр, где суммарные продажи превысили 500000 копий."
   ]
  },
  {
   "cell_type": "code",
   "execution_count": 77,
   "metadata": {},
   "outputs": [
    {
     "data": {
      "text/html": [
       "<div>\n",
       "<style>\n",
       "    .dataframe thead tr:only-child th {\n",
       "        text-align: right;\n",
       "    }\n",
       "\n",
       "    .dataframe thead th {\n",
       "        text-align: left;\n",
       "    }\n",
       "\n",
       "    .dataframe tbody tr th {\n",
       "        vertical-align: top;\n",
       "    }\n",
       "</style>\n",
       "<table border=\"1\" class=\"dataframe\">\n",
       "  <thead>\n",
       "    <tr style=\"text-align: right;\">\n",
       "      <th></th>\n",
       "      <th>Rank</th>\n",
       "      <th>Year</th>\n",
       "      <th>NA_Sales</th>\n",
       "      <th>EU_Sales</th>\n",
       "      <th>JP_Sales</th>\n",
       "      <th>Other_Sales</th>\n",
       "      <th>Global_Sales</th>\n",
       "    </tr>\n",
       "  </thead>\n",
       "  <tbody>\n",
       "    <tr>\n",
       "      <th>Rank</th>\n",
       "      <td>1.000000</td>\n",
       "      <td>0.171898</td>\n",
       "      <td>-0.703530</td>\n",
       "      <td>-0.544610</td>\n",
       "      <td>-0.263264</td>\n",
       "      <td>-0.545747</td>\n",
       "      <td>-0.941175</td>\n",
       "    </tr>\n",
       "    <tr>\n",
       "      <th>Year</th>\n",
       "      <td>0.171898</td>\n",
       "      <td>1.000000</td>\n",
       "      <td>-0.121677</td>\n",
       "      <td>0.030307</td>\n",
       "      <td>-0.153172</td>\n",
       "      <td>0.092417</td>\n",
       "      <td>-0.146914</td>\n",
       "    </tr>\n",
       "    <tr>\n",
       "      <th>NA_Sales</th>\n",
       "      <td>-0.703530</td>\n",
       "      <td>-0.121677</td>\n",
       "      <td>1.000000</td>\n",
       "      <td>0.326883</td>\n",
       "      <td>-0.274409</td>\n",
       "      <td>0.406909</td>\n",
       "      <td>0.742140</td>\n",
       "    </tr>\n",
       "    <tr>\n",
       "      <th>EU_Sales</th>\n",
       "      <td>-0.544610</td>\n",
       "      <td>0.030307</td>\n",
       "      <td>0.326883</td>\n",
       "      <td>1.000000</td>\n",
       "      <td>-0.204966</td>\n",
       "      <td>0.571006</td>\n",
       "      <td>0.598465</td>\n",
       "    </tr>\n",
       "    <tr>\n",
       "      <th>JP_Sales</th>\n",
       "      <td>-0.263264</td>\n",
       "      <td>-0.153172</td>\n",
       "      <td>-0.274409</td>\n",
       "      <td>-0.204966</td>\n",
       "      <td>1.000000</td>\n",
       "      <td>-0.119449</td>\n",
       "      <td>0.266402</td>\n",
       "    </tr>\n",
       "    <tr>\n",
       "      <th>Other_Sales</th>\n",
       "      <td>-0.545747</td>\n",
       "      <td>0.092417</td>\n",
       "      <td>0.406909</td>\n",
       "      <td>0.571006</td>\n",
       "      <td>-0.119449</td>\n",
       "      <td>1.000000</td>\n",
       "      <td>0.594633</td>\n",
       "    </tr>\n",
       "    <tr>\n",
       "      <th>Global_Sales</th>\n",
       "      <td>-0.941175</td>\n",
       "      <td>-0.146914</td>\n",
       "      <td>0.742140</td>\n",
       "      <td>0.598465</td>\n",
       "      <td>0.266402</td>\n",
       "      <td>0.594633</td>\n",
       "      <td>1.000000</td>\n",
       "    </tr>\n",
       "  </tbody>\n",
       "</table>\n",
       "</div>"
      ],
      "text/plain": [
       "                  Rank      Year  NA_Sales  EU_Sales  JP_Sales  Other_Sales  \\\n",
       "Rank          1.000000  0.171898 -0.703530 -0.544610 -0.263264    -0.545747   \n",
       "Year          0.171898  1.000000 -0.121677  0.030307 -0.153172     0.092417   \n",
       "NA_Sales     -0.703530 -0.121677  1.000000  0.326883 -0.274409     0.406909   \n",
       "EU_Sales     -0.544610  0.030307  0.326883  1.000000 -0.204966     0.571006   \n",
       "JP_Sales     -0.263264 -0.153172 -0.274409 -0.204966  1.000000    -0.119449   \n",
       "Other_Sales  -0.545747  0.092417  0.406909  0.571006 -0.119449     1.000000   \n",
       "Global_Sales -0.941175 -0.146914  0.742140  0.598465  0.266402     0.594633   \n",
       "\n",
       "              Global_Sales  \n",
       "Rank             -0.941175  \n",
       "Year             -0.146914  \n",
       "NA_Sales          0.742140  \n",
       "EU_Sales          0.598465  \n",
       "JP_Sales          0.266402  \n",
       "Other_Sales       0.594633  \n",
       "Global_Sales      1.000000  "
      ]
     },
     "execution_count": 77,
     "metadata": {},
     "output_type": "execute_result"
    }
   ],
   "source": [
    "data[data[\"Global_Sales\"] < 0.5].corr()"
   ]
  },
  {
   "cell_type": "markdown",
   "metadata": {},
   "source": [
    "Теперь посмотрим корреляцию для тех видеоигр, где суммарные продажи не превысили 500000 копий, продаж в Северной Америке с  продажами в Европе оказывается намного меньше, чем в предыдущем случае."
   ]
  },
  {
   "cell_type": "code",
   "execution_count": 78,
   "metadata": {},
   "outputs": [
    {
     "data": {
      "image/png": "[encoded data removed]",
      "text/plain": [
       "<matplotlib.figure.Figure at 0x1bc96ddd5f8>"
      ]
     },
     "metadata": {},
     "output_type": "display_data"
    }
   ],
   "source": [
    "from pandas.plotting import scatter_matrix \n",
    "scatter_matrix(data, alpha = .2, figsize = (10, 10), color='pink')\n",
    "pass"
   ]
  },
  {
   "cell_type": "code",
   "execution_count": 79,
   "metadata": {},
   "outputs": [
    {
     "data": {
      "image/png": "[encoded data removed]",
      "text/plain": [
       "<matplotlib.figure.Figure at 0x1bc9bd1bda0>"
      ]
     },
     "metadata": {},
     "output_type": "display_data"
    }
   ],
   "source": [
    "plt.plot(data[data[\"Global_Sales\"] > 0.5]['NA_Sales'][1:100], data[data[\"Global_Sales\"] > 0.5]['EU_Sales'][1:100], 'o' , color = 'black', alpha = 0.5)\n",
    "plt.xlabel('NA_Sales')\n",
    "plt.ylabel('EU_Sales')\n",
    "pass"
   ]
  },
  {
   "cell_type": "markdown",
   "metadata": {},
   "source": [
    "Построим диаграмму для тех данных, где общие продажи были больше 500000, но данных очень много, поэтому видно плохо, построим лишь для первых ста подходящих игр."
   ]
  },
  {
   "cell_type": "code",
   "execution_count": 80,
   "metadata": {},
   "outputs": [
    {
     "data": {
      "image/png": "[encoded data removed]",
      "text/plain": [
       "<matplotlib.figure.Figure at 0x1bc9ea51400>"
      ]
     },
     "metadata": {},
     "output_type": "display_data"
    }
   ],
   "source": [
    "plt.plot(data[data[\"Global_Sales\"] < 0.5]['NA_Sales'][1:100], data[data[\"Global_Sales\"] < 0.5]['EU_Sales'][1:100], 'o' , color = 'gold', alpha = 0.5)\n",
    "plt.xlabel('NA_Sales')\n",
    "plt.ylabel('EU_Sales')\n",
    "pass"
   ]
  },
  {
   "cell_type": "markdown",
   "metadata": {},
   "source": [
    "Аналогично сделаем и для игр, чьи продаже были меньше чем 500000."
   ]
  },
  {
   "cell_type": "code",
   "execution_count": 81,
   "metadata": {},
   "outputs": [
    {
     "data": {
      "text/plain": [
       "array([  8.27400000e+01,   4.02400000e+01,   3.58200000e+01,\n",
       "         3.30000000e+01,   3.13700000e+01,   3.02600000e+01,\n",
       "         3.00100000e+01,   2.90200000e+01,   2.86200000e+01,\n",
       "         2.83100000e+01,   2.47600000e+01,   2.34200000e+01,\n",
       "         2.31000000e+01,   2.27200000e+01,   2.20000000e+01,\n",
       "         2.18200000e+01,   2.14000000e+01,   2.08100000e+01,\n",
       "         2.06100000e+01,   2.02200000e+01,   1.83600000e+01,\n",
       "         1.81400000e+01,   1.72800000e+01,   1.63800000e+01,\n",
       "         1.61500000e+01,   1.58500000e+01,   1.53200000e+01,\n",
       "         1.53000000e+01,   1.49800000e+01,   1.47600000e+01,\n",
       "         1.46400000e+01,   1.43500000e+01,   1.42400000e+01,\n",
       "         1.40300000e+01,   1.37300000e+01,   1.35100000e+01,\n",
       "         1.34600000e+01,   1.31000000e+01,   1.30400000e+01,\n",
       "         1.27300000e+01,   1.22700000e+01,   1.22100000e+01,\n",
       "         1.21400000e+01,   1.19800000e+01,   1.19000000e+01,\n",
       "         1.18900000e+01,   1.16600000e+01,   1.15200000e+01,\n",
       "         1.13300000e+01,   1.11800000e+01,   1.10200000e+01,\n",
       "         1.09500000e+01,   1.07900000e+01,   1.07700000e+01,\n",
       "         1.06900000e+01,   1.05700000e+01,   1.05500000e+01,\n",
       "         1.04900000e+01,   1.04200000e+01,   1.02600000e+01,\n",
       "         1.02100000e+01,   9.88000000e+00,   9.87000000e+00,\n",
       "         9.82000000e+00,   9.76000000e+00,   9.72000000e+00,\n",
       "         9.59000000e+00,   9.52000000e+00,   9.49000000e+00,\n",
       "         9.32000000e+00,   9.30000000e+00,   9.20000000e+00,\n",
       "         9.09000000e+00,   9.02000000e+00,   8.84000000e+00,\n",
       "         8.76000000e+00,   8.49000000e+00,   8.42000000e+00,\n",
       "         8.33000000e+00,   8.24000000e+00,   8.11000000e+00,\n",
       "         8.09000000e+00,   8.06000000e+00,   8.05000000e+00,\n",
       "         7.86000000e+00,   7.84000000e+00,   7.81000000e+00,\n",
       "         7.72000000e+00,   7.69000000e+00,   7.67000000e+00,\n",
       "         7.60000000e+00,   7.58000000e+00,   7.46000000e+00,\n",
       "         7.45000000e+00,   7.37000000e+00,   7.34000000e+00,\n",
       "         7.31000000e+00,   7.30000000e+00,   7.27000000e+00,\n",
       "         7.23000000e+00,   7.20000000e+00,   7.16000000e+00,\n",
       "         7.13000000e+00,   7.07000000e+00,   6.96000000e+00,\n",
       "         6.95000000e+00,   6.91000000e+00,   6.90000000e+00,\n",
       "         6.83000000e+00,   6.82000000e+00,   6.81000000e+00,\n",
       "         6.76000000e+00,   6.73000000e+00,   6.72000000e+00,\n",
       "         6.69000000e+00,   6.67000000e+00,   6.60000000e+00,\n",
       "         6.59000000e+00,   6.56000000e+00,   6.51000000e+00,\n",
       "         6.50000000e+00,   6.43000000e+00,   6.41000000e+00,\n",
       "         6.40000000e+00,   6.39000000e+00,   6.36000000e+00,\n",
       "         6.34000000e+00,   6.31000000e+00,   6.30000000e+00,\n",
       "         6.28000000e+00,   6.27000000e+00,   6.24000000e+00,\n",
       "         6.11000000e+00,   6.05000000e+00,   6.03000000e+00,\n",
       "         5.99000000e+00,   5.95000000e+00,   5.92000000e+00,\n",
       "         5.84000000e+00,   5.83000000e+00,   5.82000000e+00,\n",
       "         5.74000000e+00,   5.72000000e+00,   5.65000000e+00,\n",
       "         5.58000000e+00,   5.57000000e+00,   5.55000000e+00,\n",
       "         5.53000000e+00,   5.51000000e+00,   5.50000000e+00,\n",
       "         5.49000000e+00,   5.47000000e+00,   5.46000000e+00,\n",
       "         5.45000000e+00,   5.43000000e+00,   5.42000000e+00,\n",
       "         5.36000000e+00,   5.34000000e+00,   5.31000000e+00,\n",
       "         5.30000000e+00,   5.29000000e+00,   5.27000000e+00,\n",
       "         5.26000000e+00,   5.24000000e+00,   5.23000000e+00,\n",
       "         5.21000000e+00,   5.20000000e+00,   5.19000000e+00,\n",
       "         5.18000000e+00,   5.17000000e+00,   5.15000000e+00,\n",
       "         5.14000000e+00,   5.13000000e+00,   5.12000000e+00,\n",
       "         5.11000000e+00,   5.08000000e+00,   5.07000000e+00,\n",
       "         5.05000000e+00,   5.02000000e+00,   5.01000000e+00,\n",
       "         5.00000000e+00,   4.98000000e+00,   4.96000000e+00,\n",
       "         4.94000000e+00,   4.91000000e+00,   4.90000000e+00,\n",
       "         4.88000000e+00,   4.87000000e+00,   4.85000000e+00,\n",
       "         4.84000000e+00,   4.83000000e+00,   4.82000000e+00,\n",
       "         4.79000000e+00,   4.77000000e+00,   4.76000000e+00,\n",
       "         4.73000000e+00,   4.70000000e+00,   4.68000000e+00,\n",
       "         4.67000000e+00,   4.64000000e+00,   4.63000000e+00,\n",
       "         4.62000000e+00,   4.61000000e+00,   4.60000000e+00,\n",
       "         4.58000000e+00,   4.57000000e+00,   4.55000000e+00,\n",
       "         4.53000000e+00,   4.50000000e+00,   4.49000000e+00,\n",
       "         4.48000000e+00,   4.47000000e+00,   4.45000000e+00,\n",
       "         4.44000000e+00,   4.42000000e+00,   4.41000000e+00,\n",
       "         4.39000000e+00,   4.38000000e+00,   4.37000000e+00,\n",
       "         4.35000000e+00,   4.34000000e+00,   4.33000000e+00,\n",
       "         4.31000000e+00,   4.26000000e+00,   4.25000000e+00,\n",
       "         4.24000000e+00,   4.23000000e+00,   4.22000000e+00,\n",
       "         4.21000000e+00,   4.20000000e+00,   4.19000000e+00,\n",
       "         4.17000000e+00,   4.16000000e+00,   4.14000000e+00,\n",
       "         4.12000000e+00,   4.11000000e+00,   4.10000000e+00,\n",
       "         4.09000000e+00,   4.08000000e+00,   4.07000000e+00,\n",
       "         4.06000000e+00,   4.05000000e+00,   4.03000000e+00,\n",
       "         4.02000000e+00,   4.01000000e+00,   4.00000000e+00,\n",
       "         3.99000000e+00,   3.98000000e+00,   3.92000000e+00,\n",
       "         3.91000000e+00,   3.90000000e+00,   3.89000000e+00,\n",
       "         3.88000000e+00,   3.87000000e+00,   3.85000000e+00,\n",
       "         3.84000000e+00,   3.83000000e+00,   3.82000000e+00,\n",
       "         3.81000000e+00,   3.79000000e+00,   3.78000000e+00,\n",
       "         3.77000000e+00,   3.76000000e+00,   3.73000000e+00,\n",
       "         3.72000000e+00,   3.71000000e+00,   3.70000000e+00,\n",
       "         3.69000000e+00,   3.67000000e+00,   3.66000000e+00,\n",
       "         3.65000000e+00,   3.64000000e+00,   3.63000000e+00,\n",
       "         3.62000000e+00,   3.61000000e+00,   3.60000000e+00,\n",
       "         3.59000000e+00,   3.58000000e+00,   3.56000000e+00,\n",
       "         3.54000000e+00,   3.53000000e+00,   3.52000000e+00,\n",
       "         3.51000000e+00,   3.50000000e+00,   3.49000000e+00,\n",
       "         3.48000000e+00,   3.46000000e+00,   3.45000000e+00,\n",
       "         3.44000000e+00,   3.43000000e+00,   3.42000000e+00,\n",
       "         3.41000000e+00,   3.40000000e+00,   3.39000000e+00,\n",
       "         3.38000000e+00,   3.36000000e+00,   3.34000000e+00,\n",
       "         3.33000000e+00,   3.32000000e+00,   3.31000000e+00,\n",
       "         3.28000000e+00,   3.27000000e+00,   3.26000000e+00,\n",
       "         3.24000000e+00,   3.23000000e+00,   3.22000000e+00,\n",
       "         3.21000000e+00,   3.20000000e+00,   3.19000000e+00,\n",
       "         3.18000000e+00,   3.17000000e+00,   3.16000000e+00,\n",
       "         3.15000000e+00,   3.14000000e+00,   3.13000000e+00,\n",
       "         3.12000000e+00,   3.11000000e+00,   3.09000000e+00,\n",
       "         3.08000000e+00,   3.07000000e+00,   3.05000000e+00,\n",
       "         3.04000000e+00,   3.03000000e+00,   3.02000000e+00,\n",
       "         3.00000000e+00,   2.99000000e+00,   2.98000000e+00,\n",
       "         2.97000000e+00,   2.96000000e+00,   2.95000000e+00,\n",
       "         2.94000000e+00,   2.93000000e+00,   2.92000000e+00,\n",
       "         2.91000000e+00,   2.90000000e+00,   2.89000000e+00,\n",
       "         2.88000000e+00,   2.87000000e+00,   2.86000000e+00,\n",
       "         2.85000000e+00,   2.84000000e+00,   2.83000000e+00,\n",
       "         2.82000000e+00,   2.81000000e+00,   2.80000000e+00,\n",
       "         2.79000000e+00,   2.78000000e+00,   2.77000000e+00,\n",
       "         2.76000000e+00,   2.75000000e+00,   2.74000000e+00,\n",
       "         2.73000000e+00,   2.72000000e+00,   2.71000000e+00,\n",
       "         2.70000000e+00,   2.69000000e+00,   2.68000000e+00,\n",
       "         2.67000000e+00,   2.66000000e+00,   2.65000000e+00,\n",
       "         2.64000000e+00,   2.63000000e+00,   2.62000000e+00,\n",
       "         2.61000000e+00,   2.60000000e+00,   2.59000000e+00,\n",
       "         2.58000000e+00,   2.57000000e+00,   2.56000000e+00,\n",
       "         2.54000000e+00,   2.53000000e+00,   2.52000000e+00,\n",
       "         2.51000000e+00,   2.50000000e+00,   2.49000000e+00,\n",
       "         2.48000000e+00,   2.47000000e+00,   2.46000000e+00,\n",
       "         2.45000000e+00,   2.44000000e+00,   2.43000000e+00,\n",
       "         2.42000000e+00,   2.41000000e+00,   2.40000000e+00,\n",
       "         2.39000000e+00,   2.38000000e+00,   2.37000000e+00,\n",
       "         2.36000000e+00,   2.35000000e+00,   2.34000000e+00,\n",
       "         2.33000000e+00,   2.32000000e+00,   2.31000000e+00,\n",
       "         2.30000000e+00,   2.29000000e+00,   2.28000000e+00,\n",
       "         2.27000000e+00,   2.26000000e+00,   2.25000000e+00,\n",
       "         2.24000000e+00,   2.23000000e+00,   2.22000000e+00,\n",
       "         2.21000000e+00,   2.20000000e+00,   2.19000000e+00,\n",
       "         2.18000000e+00,   2.17000000e+00,   2.16000000e+00,\n",
       "         2.15000000e+00,   2.14000000e+00,   2.13000000e+00,\n",
       "         2.12000000e+00,   2.11000000e+00,   2.10000000e+00,\n",
       "         2.09000000e+00,   2.08000000e+00,   2.07000000e+00,\n",
       "         2.06000000e+00,   2.05000000e+00,   2.04000000e+00,\n",
       "         2.03000000e+00,   2.02000000e+00,   2.01000000e+00,\n",
       "         2.00000000e+00,   1.99000000e+00,   1.98000000e+00,\n",
       "         1.97000000e+00,   1.96000000e+00,   1.95000000e+00,\n",
       "         1.94000000e+00,   1.93000000e+00,   1.92000000e+00,\n",
       "         1.91000000e+00,   1.90000000e+00,   1.89000000e+00,\n",
       "         1.88000000e+00,   1.87000000e+00,   1.86000000e+00,\n",
       "         1.85000000e+00,   1.84000000e+00,   1.83000000e+00,\n",
       "         1.82000000e+00,   1.81000000e+00,   1.80000000e+00,\n",
       "         1.79000000e+00,   1.78000000e+00,   1.77000000e+00,\n",
       "         1.76000000e+00,   1.75000000e+00,   1.74000000e+00,\n",
       "         1.73000000e+00,   1.72000000e+00,   1.71000000e+00,\n",
       "         1.70000000e+00,   1.69000000e+00,   1.68000000e+00,\n",
       "         1.67000000e+00,   1.66000000e+00,   1.65000000e+00,\n",
       "         1.64000000e+00,   1.63000000e+00,   1.62000000e+00,\n",
       "         1.61000000e+00,   1.60000000e+00,   1.59000000e+00,\n",
       "         1.58000000e+00,   1.57000000e+00,   1.56000000e+00,\n",
       "         1.55000000e+00,   1.54000000e+00,   1.53000000e+00,\n",
       "         1.52000000e+00,   1.51000000e+00,   1.50000000e+00,\n",
       "         1.49000000e+00,   1.48000000e+00,   1.47000000e+00,\n",
       "         1.46000000e+00,   1.45000000e+00,   1.44000000e+00,\n",
       "         1.43000000e+00,   1.42000000e+00,   1.41000000e+00,\n",
       "         1.40000000e+00,   1.39000000e+00,   1.38000000e+00,\n",
       "         1.37000000e+00,   1.36000000e+00,   1.35000000e+00,\n",
       "         1.34000000e+00,   1.33000000e+00,   1.32000000e+00,\n",
       "         1.31000000e+00,   1.30000000e+00,   1.29000000e+00,\n",
       "         1.28000000e+00,   1.27000000e+00,   1.26000000e+00,\n",
       "         1.25000000e+00,   1.24000000e+00,   1.23000000e+00,\n",
       "         1.22000000e+00,   1.21000000e+00,   1.20000000e+00,\n",
       "         1.19000000e+00,   1.18000000e+00,   1.17000000e+00,\n",
       "         1.16000000e+00,   1.15000000e+00,   1.14000000e+00,\n",
       "         1.13000000e+00,   1.12000000e+00,   1.11000000e+00,\n",
       "         1.10000000e+00,   1.09000000e+00,   1.08000000e+00,\n",
       "         1.07000000e+00,   1.06000000e+00,   1.05000000e+00,\n",
       "         1.04000000e+00,   1.03000000e+00,   1.02000000e+00,\n",
       "         1.01000000e+00,   1.00000000e+00,   9.90000000e-01,\n",
       "         9.80000000e-01,   9.70000000e-01,   9.60000000e-01,\n",
       "         9.50000000e-01,   9.40000000e-01,   9.30000000e-01,\n",
       "         9.20000000e-01,   9.10000000e-01,   9.00000000e-01,\n",
       "         8.90000000e-01,   8.80000000e-01,   8.70000000e-01,\n",
       "         8.60000000e-01,   8.50000000e-01,   8.40000000e-01,\n",
       "         8.30000000e-01,   8.20000000e-01,   8.10000000e-01,\n",
       "         8.00000000e-01,   7.90000000e-01,   7.80000000e-01,\n",
       "         7.70000000e-01,   7.60000000e-01,   7.50000000e-01,\n",
       "         7.40000000e-01,   7.30000000e-01,   7.20000000e-01,\n",
       "         7.10000000e-01,   7.00000000e-01,   6.90000000e-01,\n",
       "         6.80000000e-01,   6.70000000e-01,   6.60000000e-01,\n",
       "         6.50000000e-01,   6.40000000e-01,   6.30000000e-01,\n",
       "         6.20000000e-01,   6.10000000e-01,   6.00000000e-01,\n",
       "         5.90000000e-01,   5.80000000e-01,   5.70000000e-01,\n",
       "         5.60000000e-01,   5.50000000e-01,   5.40000000e-01,\n",
       "         5.30000000e-01,   5.20000000e-01,   5.10000000e-01,\n",
       "         5.00000000e-01,   4.90000000e-01,   4.80000000e-01,\n",
       "         4.70000000e-01,   4.60000000e-01,   4.50000000e-01,\n",
       "         4.40000000e-01,   4.30000000e-01,   4.20000000e-01,\n",
       "         4.10000000e-01,   4.00000000e-01,   3.90000000e-01,\n",
       "         3.80000000e-01,   3.70000000e-01,   3.60000000e-01,\n",
       "         3.50000000e-01,   3.40000000e-01,   3.30000000e-01,\n",
       "         3.20000000e-01,   3.10000000e-01,   3.00000000e-01,\n",
       "         2.90000000e-01,   2.80000000e-01,   2.70000000e-01,\n",
       "         2.60000000e-01,   2.50000000e-01,   2.40000000e-01,\n",
       "         2.30000000e-01,   2.20000000e-01,   2.10000000e-01,\n",
       "         2.00000000e-01,   1.90000000e-01,   1.80000000e-01,\n",
       "         1.70000000e-01,   1.60000000e-01,   1.50000000e-01,\n",
       "         1.40000000e-01,   1.30000000e-01,   1.20000000e-01,\n",
       "         1.10000000e-01,   1.00000000e-01,   9.00000000e-02,\n",
       "         8.00000000e-02,   7.00000000e-02,   6.00000000e-02,\n",
       "         5.00000000e-02,   4.00000000e-02,   3.00000000e-02,\n",
       "         2.00000000e-02,   1.00000000e-02])"
      ]
     },
     "execution_count": 81,
     "metadata": {},
     "output_type": "execute_result"
    }
   ],
   "source": [
    "data['Global_Sales'].unique()"
   ]
  },
  {
   "cell_type": "markdown",
   "metadata": {},
   "source": [
    "Выведем уникальные значения для столбца общих продаж, их невероятно много, поэтому на классы разделим так как строили графики, было ли продано больше 500000 копий или нет."
   ]
  },
  {
   "cell_type": "code",
   "execution_count": 82,
   "metadata": {},
   "outputs": [
    {
     "data": {
      "text/plain": [
       "1980.0"
      ]
     },
     "execution_count": 82,
     "metadata": {},
     "output_type": "execute_result"
    }
   ],
   "source": [
    "data['Year'].min()"
   ]
  },
  {
   "cell_type": "markdown",
   "metadata": {},
   "source": [
    "Посмотрим самую старую игру в списке."
   ]
  },
  {
   "cell_type": "code",
   "execution_count": 83,
   "metadata": {},
   "outputs": [
    {
     "data": {
      "image/png": "[encoded data removed]",
      "text/plain": [
       "<matplotlib.figure.Figure at 0x1bc9ea592b0>"
      ]
     },
     "metadata": {},
     "output_type": "display_data"
    }
   ],
   "source": [
    "plt.figure(figsize = (20, 15))\n",
    "\n",
    "plt.scatter(data[data['Global_Sales'] > 0.5]['NA_Sales'],\n",
    "            data[data['Global_Sales'] > 0.5]['EU_Sales'],\n",
    "            alpha = 0.9,\n",
    "            label = 'o',\n",
    "            color = 'black')\n",
    "\n",
    "plt.scatter(data[data['Global_Sales'] < 0.5]['NA_Sales'],\n",
    "            data[data['Global_Sales'] < 0.5]['EU_Sales'],\n",
    "            alpha = 0.6,\n",
    "            label = '*',\n",
    "            color = 'gold')\n",
    "\n",
    "plt.xlabel('NA_Sales')\n",
    "plt.ylabel('EU_Sales')\n",
    "plt.legend()\n",
    "plt.grid()"
   ]
  },
  {
   "cell_type": "markdown",
   "metadata": {},
   "source": [
    "Выведем все даннные на одной диаграме, выглядит не очень, надо что-то менять..."
   ]
  },
  {
   "cell_type": "code",
   "execution_count": 84,
   "metadata": {},
   "outputs": [
    {
     "data": {
      "image/png": "[encoded data removed]",
      "text/plain": [
       "<matplotlib.figure.Figure at 0x1bc9eac1160>"
      ]
     },
     "metadata": {},
     "output_type": "display_data"
    }
   ],
   "source": [
    "plt.figure(figsize = (20, 15))\n",
    "ln = len(data[data['Global_Sales'] > 0.5]['NA_Sales'])\n",
    "plt.scatter(data[data['Global_Sales'] > 0.5]['NA_Sales'][ln - 1000:ln],\n",
    "            data[data['Global_Sales'] > 0.5]['EU_Sales'][ln - 1000:ln],\n",
    "            alpha = 0.9,\n",
    "            label = 'o',\n",
    "            color = 'black')\n",
    "\n",
    "plt.scatter(data[data['Global_Sales'] < 0.5]['NA_Sales'][1:1000],\n",
    "            data[data['Global_Sales'] < 0.5]['EU_Sales'][1:1000],\n",
    "            alpha = 0.6,\n",
    "            label = '*',\n",
    "            color = 'gold')\n",
    "\n",
    "plt.xlabel('NA_Sales')\n",
    "plt.ylabel('EU_Sales')\n",
    "plt.legend()\n",
    "plt.grid()"
   ]
  },
  {
   "cell_type": "markdown",
   "metadata": {},
   "source": [
    "Для более удобной визуализации границы провернём хитрый трюк, выберем первую тысячу элементов из тех, чьи продажи были меньше 500000 и последнюю тысячу из тех, чьи продажи были больше 500000."
   ]
  },
  {
   "cell_type": "code",
   "execution_count": 85,
   "metadata": {},
   "outputs": [
    {
     "data": {
      "text/plain": [
       "(12,)"
      ]
     },
     "execution_count": 85,
     "metadata": {},
     "output_type": "execute_result"
    }
   ],
   "source": [
    "data['Genre'].unique().shape"
   ]
  },
  {
   "cell_type": "code",
   "execution_count": 86,
   "metadata": {},
   "outputs": [
    {
     "data": {
      "text/plain": [
       "(16598,)"
      ]
     },
     "execution_count": 86,
     "metadata": {},
     "output_type": "execute_result"
    }
   ],
   "source": [
    "data['Genre'].shape\n"
   ]
  },
  {
   "cell_type": "markdown",
   "metadata": {},
   "source": [
    "Посмотрим все ли наши игры имеют разные жанры. (Конечно нет)"
   ]
  },
  {
   "cell_type": "code",
   "execution_count": 87,
   "metadata": {
    "collapsed": true
   },
   "outputs": [],
   "source": [
    "y = np.array([1 if sales > 0.5 else 0 for sales in data['Global_Sales']])"
   ]
  },
  {
   "cell_type": "markdown",
   "metadata": {},
   "source": [
    "Более очевидно разобьём данные на классы, для этого классу с хорошими продажами присвоим значение 1, а меньше 0."
   ]
  },
  {
   "cell_type": "code",
   "execution_count": 88,
   "metadata": {},
   "outputs": [
    {
     "name": "stdout",
     "output_type": "stream",
     "text": [
      "[1 1 1 ..., 0 0 0]\n"
     ]
    }
   ],
   "source": [
    "print(y)"
   ]
  },
  {
   "cell_type": "code",
   "execution_count": 89,
   "metadata": {
    "collapsed": true
   },
   "outputs": [],
   "source": [
    "data = data.drop((\"Global_Sales\"), axis=1)"
   ]
  },
  {
   "cell_type": "markdown",
   "metadata": {},
   "source": [
    "И удалим столбец с результатами."
   ]
  },
  {
   "cell_type": "code",
   "execution_count": 90,
   "metadata": {},
   "outputs": [
    {
     "name": "stdout",
     "output_type": "stream",
     "text": [
      "['Name', 'Platform', 'Genre', 'Publisher']\n"
     ]
    }
   ],
   "source": [
    "categorical_columns = [i for i in data.columns if data[i].dtype.name == 'object']\n",
    "print(categorical_columns)"
   ]
  },
  {
   "cell_type": "code",
   "execution_count": 91,
   "metadata": {},
   "outputs": [
    {
     "name": "stdout",
     "output_type": "stream",
     "text": [
      "['Rank', 'Year', 'NA_Sales', 'EU_Sales', 'JP_Sales', 'Other_Sales']\n"
     ]
    }
   ],
   "source": [
    "numerical_columns   = [i for i in data.columns if data[i].dtype.name != 'object']\n",
    "print(numerical_columns)"
   ]
  },
  {
   "cell_type": "code",
   "execution_count": 92,
   "metadata": {},
   "outputs": [
    {
     "data": {
      "text/plain": [
       "Rank           16598\n",
       "Year           16327\n",
       "NA_Sales       16598\n",
       "EU_Sales       16598\n",
       "JP_Sales       16598\n",
       "Other_Sales    16598\n",
       "dtype: int64"
      ]
     },
     "execution_count": 92,
     "metadata": {},
     "output_type": "execute_result"
    }
   ],
   "source": [
    "data[numerical_columns].count(axis = 0)"
   ]
  },
  {
   "cell_type": "markdown",
   "metadata": {},
   "source": [
    "Посмотрим на наши количественные признаки, в столбце Year есть пропуски. Информация в нём не самая важная, поэтому его можно удалить."
   ]
  },
  {
   "cell_type": "code",
   "execution_count": 93,
   "metadata": {
    "collapsed": true
   },
   "outputs": [],
   "source": [
    "data = data.drop(('Year'), axis=1)"
   ]
  },
  {
   "cell_type": "markdown",
   "metadata": {},
   "source": [
    "Можем удалить так же столбец Rank, так как это просто нумерация."
   ]
  },
  {
   "cell_type": "code",
   "execution_count": 94,
   "metadata": {
    "collapsed": true
   },
   "outputs": [],
   "source": [
    "data = data.drop(('Rank'), axis=1)"
   ]
  },
  {
   "cell_type": "code",
   "execution_count": 95,
   "metadata": {},
   "outputs": [
    {
     "data": {
      "text/html": [
       "<div>\n",
       "<style>\n",
       "    .dataframe thead tr:only-child th {\n",
       "        text-align: right;\n",
       "    }\n",
       "\n",
       "    .dataframe thead th {\n",
       "        text-align: left;\n",
       "    }\n",
       "\n",
       "    .dataframe tbody tr th {\n",
       "        vertical-align: top;\n",
       "    }\n",
       "</style>\n",
       "<table border=\"1\" class=\"dataframe\">\n",
       "  <thead>\n",
       "    <tr style=\"text-align: right;\">\n",
       "      <th></th>\n",
       "      <th>Name</th>\n",
       "      <th>Platform</th>\n",
       "      <th>Genre</th>\n",
       "      <th>Publisher</th>\n",
       "      <th>NA_Sales</th>\n",
       "      <th>EU_Sales</th>\n",
       "      <th>JP_Sales</th>\n",
       "      <th>Other_Sales</th>\n",
       "    </tr>\n",
       "  </thead>\n",
       "  <tbody>\n",
       "    <tr>\n",
       "      <th>0</th>\n",
       "      <td>Wii Sports</td>\n",
       "      <td>Wii</td>\n",
       "      <td>Sports</td>\n",
       "      <td>Nintendo</td>\n",
       "      <td>41.49</td>\n",
       "      <td>29.02</td>\n",
       "      <td>3.77</td>\n",
       "      <td>8.46</td>\n",
       "    </tr>\n",
       "    <tr>\n",
       "      <th>1</th>\n",
       "      <td>Super Mario Bros.</td>\n",
       "      <td>NES</td>\n",
       "      <td>Platform</td>\n",
       "      <td>Nintendo</td>\n",
       "      <td>29.08</td>\n",
       "      <td>3.58</td>\n",
       "      <td>6.81</td>\n",
       "      <td>0.77</td>\n",
       "    </tr>\n",
       "    <tr>\n",
       "      <th>2</th>\n",
       "      <td>Mario Kart Wii</td>\n",
       "      <td>Wii</td>\n",
       "      <td>Racing</td>\n",
       "      <td>Nintendo</td>\n",
       "      <td>15.85</td>\n",
       "      <td>12.88</td>\n",
       "      <td>3.79</td>\n",
       "      <td>3.31</td>\n",
       "    </tr>\n",
       "    <tr>\n",
       "      <th>3</th>\n",
       "      <td>Wii Sports Resort</td>\n",
       "      <td>Wii</td>\n",
       "      <td>Sports</td>\n",
       "      <td>Nintendo</td>\n",
       "      <td>15.75</td>\n",
       "      <td>11.01</td>\n",
       "      <td>3.28</td>\n",
       "      <td>2.96</td>\n",
       "    </tr>\n",
       "    <tr>\n",
       "      <th>4</th>\n",
       "      <td>Pokemon Red/Pokemon Blue</td>\n",
       "      <td>GB</td>\n",
       "      <td>Role-Playing</td>\n",
       "      <td>Nintendo</td>\n",
       "      <td>11.27</td>\n",
       "      <td>8.89</td>\n",
       "      <td>10.22</td>\n",
       "      <td>1.00</td>\n",
       "    </tr>\n",
       "    <tr>\n",
       "      <th>5</th>\n",
       "      <td>Tetris</td>\n",
       "      <td>GB</td>\n",
       "      <td>Puzzle</td>\n",
       "      <td>Nintendo</td>\n",
       "      <td>23.20</td>\n",
       "      <td>2.26</td>\n",
       "      <td>4.22</td>\n",
       "      <td>0.58</td>\n",
       "    </tr>\n",
       "    <tr>\n",
       "      <th>6</th>\n",
       "      <td>New Super Mario Bros.</td>\n",
       "      <td>DS</td>\n",
       "      <td>Platform</td>\n",
       "      <td>Nintendo</td>\n",
       "      <td>11.38</td>\n",
       "      <td>9.23</td>\n",
       "      <td>6.50</td>\n",
       "      <td>2.90</td>\n",
       "    </tr>\n",
       "    <tr>\n",
       "      <th>7</th>\n",
       "      <td>Wii Play</td>\n",
       "      <td>Wii</td>\n",
       "      <td>Misc</td>\n",
       "      <td>Nintendo</td>\n",
       "      <td>14.03</td>\n",
       "      <td>9.20</td>\n",
       "      <td>2.93</td>\n",
       "      <td>2.85</td>\n",
       "    </tr>\n",
       "    <tr>\n",
       "      <th>8</th>\n",
       "      <td>New Super Mario Bros. Wii</td>\n",
       "      <td>Wii</td>\n",
       "      <td>Platform</td>\n",
       "      <td>Nintendo</td>\n",
       "      <td>14.59</td>\n",
       "      <td>7.06</td>\n",
       "      <td>4.70</td>\n",
       "      <td>2.26</td>\n",
       "    </tr>\n",
       "    <tr>\n",
       "      <th>9</th>\n",
       "      <td>Duck Hunt</td>\n",
       "      <td>NES</td>\n",
       "      <td>Shooter</td>\n",
       "      <td>Nintendo</td>\n",
       "      <td>26.93</td>\n",
       "      <td>0.63</td>\n",
       "      <td>0.28</td>\n",
       "      <td>0.47</td>\n",
       "    </tr>\n",
       "    <tr>\n",
       "      <th>10</th>\n",
       "      <td>Nintendogs</td>\n",
       "      <td>DS</td>\n",
       "      <td>Simulation</td>\n",
       "      <td>Nintendo</td>\n",
       "      <td>9.07</td>\n",
       "      <td>11.00</td>\n",
       "      <td>1.93</td>\n",
       "      <td>2.75</td>\n",
       "    </tr>\n",
       "    <tr>\n",
       "      <th>11</th>\n",
       "      <td>Mario Kart DS</td>\n",
       "      <td>DS</td>\n",
       "      <td>Racing</td>\n",
       "      <td>Nintendo</td>\n",
       "      <td>9.81</td>\n",
       "      <td>7.57</td>\n",
       "      <td>4.13</td>\n",
       "      <td>1.92</td>\n",
       "    </tr>\n",
       "    <tr>\n",
       "      <th>12</th>\n",
       "      <td>Pokemon Gold/Pokemon Silver</td>\n",
       "      <td>GB</td>\n",
       "      <td>Role-Playing</td>\n",
       "      <td>Nintendo</td>\n",
       "      <td>9.00</td>\n",
       "      <td>6.18</td>\n",
       "      <td>7.20</td>\n",
       "      <td>0.71</td>\n",
       "    </tr>\n",
       "    <tr>\n",
       "      <th>13</th>\n",
       "      <td>Wii Fit</td>\n",
       "      <td>Wii</td>\n",
       "      <td>Sports</td>\n",
       "      <td>Nintendo</td>\n",
       "      <td>8.94</td>\n",
       "      <td>8.03</td>\n",
       "      <td>3.60</td>\n",
       "      <td>2.15</td>\n",
       "    </tr>\n",
       "    <tr>\n",
       "      <th>14</th>\n",
       "      <td>Wii Fit Plus</td>\n",
       "      <td>Wii</td>\n",
       "      <td>Sports</td>\n",
       "      <td>Nintendo</td>\n",
       "      <td>9.09</td>\n",
       "      <td>8.59</td>\n",
       "      <td>2.53</td>\n",
       "      <td>1.79</td>\n",
       "    </tr>\n",
       "    <tr>\n",
       "      <th>15</th>\n",
       "      <td>Kinect Adventures!</td>\n",
       "      <td>X360</td>\n",
       "      <td>Misc</td>\n",
       "      <td>Microsoft Game Studios</td>\n",
       "      <td>14.97</td>\n",
       "      <td>4.94</td>\n",
       "      <td>0.24</td>\n",
       "      <td>1.67</td>\n",
       "    </tr>\n",
       "    <tr>\n",
       "      <th>16</th>\n",
       "      <td>Grand Theft Auto V</td>\n",
       "      <td>PS3</td>\n",
       "      <td>Action</td>\n",
       "      <td>Take-Two Interactive</td>\n",
       "      <td>7.01</td>\n",
       "      <td>9.27</td>\n",
       "      <td>0.97</td>\n",
       "      <td>4.14</td>\n",
       "    </tr>\n",
       "    <tr>\n",
       "      <th>17</th>\n",
       "      <td>Grand Theft Auto: San Andreas</td>\n",
       "      <td>PS2</td>\n",
       "      <td>Action</td>\n",
       "      <td>Take-Two Interactive</td>\n",
       "      <td>9.43</td>\n",
       "      <td>0.40</td>\n",
       "      <td>0.41</td>\n",
       "      <td>10.57</td>\n",
       "    </tr>\n",
       "    <tr>\n",
       "      <th>18</th>\n",
       "      <td>Super Mario World</td>\n",
       "      <td>SNES</td>\n",
       "      <td>Platform</td>\n",
       "      <td>Nintendo</td>\n",
       "      <td>12.78</td>\n",
       "      <td>3.75</td>\n",
       "      <td>3.54</td>\n",
       "      <td>0.55</td>\n",
       "    </tr>\n",
       "    <tr>\n",
       "      <th>19</th>\n",
       "      <td>Brain Age: Train Your Brain in Minutes a Day</td>\n",
       "      <td>DS</td>\n",
       "      <td>Misc</td>\n",
       "      <td>Nintendo</td>\n",
       "      <td>4.75</td>\n",
       "      <td>9.26</td>\n",
       "      <td>4.16</td>\n",
       "      <td>2.05</td>\n",
       "    </tr>\n",
       "    <tr>\n",
       "      <th>20</th>\n",
       "      <td>Pokemon Diamond/Pokemon Pearl</td>\n",
       "      <td>DS</td>\n",
       "      <td>Role-Playing</td>\n",
       "      <td>Nintendo</td>\n",
       "      <td>6.42</td>\n",
       "      <td>4.52</td>\n",
       "      <td>6.04</td>\n",
       "      <td>1.37</td>\n",
       "    </tr>\n",
       "    <tr>\n",
       "      <th>21</th>\n",
       "      <td>Super Mario Land</td>\n",
       "      <td>GB</td>\n",
       "      <td>Platform</td>\n",
       "      <td>Nintendo</td>\n",
       "      <td>10.83</td>\n",
       "      <td>2.71</td>\n",
       "      <td>4.18</td>\n",
       "      <td>0.42</td>\n",
       "    </tr>\n",
       "    <tr>\n",
       "      <th>22</th>\n",
       "      <td>Super Mario Bros. 3</td>\n",
       "      <td>NES</td>\n",
       "      <td>Platform</td>\n",
       "      <td>Nintendo</td>\n",
       "      <td>9.54</td>\n",
       "      <td>3.44</td>\n",
       "      <td>3.84</td>\n",
       "      <td>0.46</td>\n",
       "    </tr>\n",
       "    <tr>\n",
       "      <th>23</th>\n",
       "      <td>Grand Theft Auto V</td>\n",
       "      <td>X360</td>\n",
       "      <td>Action</td>\n",
       "      <td>Take-Two Interactive</td>\n",
       "      <td>9.63</td>\n",
       "      <td>5.31</td>\n",
       "      <td>0.06</td>\n",
       "      <td>1.38</td>\n",
       "    </tr>\n",
       "    <tr>\n",
       "      <th>24</th>\n",
       "      <td>Grand Theft Auto: Vice City</td>\n",
       "      <td>PS2</td>\n",
       "      <td>Action</td>\n",
       "      <td>Take-Two Interactive</td>\n",
       "      <td>8.41</td>\n",
       "      <td>5.49</td>\n",
       "      <td>0.47</td>\n",
       "      <td>1.78</td>\n",
       "    </tr>\n",
       "    <tr>\n",
       "      <th>25</th>\n",
       "      <td>Pokemon Ruby/Pokemon Sapphire</td>\n",
       "      <td>GBA</td>\n",
       "      <td>Role-Playing</td>\n",
       "      <td>Nintendo</td>\n",
       "      <td>6.06</td>\n",
       "      <td>3.90</td>\n",
       "      <td>5.38</td>\n",
       "      <td>0.50</td>\n",
       "    </tr>\n",
       "    <tr>\n",
       "      <th>26</th>\n",
       "      <td>Pokemon Black/Pokemon White</td>\n",
       "      <td>DS</td>\n",
       "      <td>Role-Playing</td>\n",
       "      <td>Nintendo</td>\n",
       "      <td>5.57</td>\n",
       "      <td>3.28</td>\n",
       "      <td>5.65</td>\n",
       "      <td>0.82</td>\n",
       "    </tr>\n",
       "    <tr>\n",
       "      <th>27</th>\n",
       "      <td>Brain Age 2: More Training in Minutes a Day</td>\n",
       "      <td>DS</td>\n",
       "      <td>Puzzle</td>\n",
       "      <td>Nintendo</td>\n",
       "      <td>3.44</td>\n",
       "      <td>5.36</td>\n",
       "      <td>5.32</td>\n",
       "      <td>1.18</td>\n",
       "    </tr>\n",
       "    <tr>\n",
       "      <th>28</th>\n",
       "      <td>Gran Turismo 3: A-Spec</td>\n",
       "      <td>PS2</td>\n",
       "      <td>Racing</td>\n",
       "      <td>Sony Computer Entertainment</td>\n",
       "      <td>6.85</td>\n",
       "      <td>5.09</td>\n",
       "      <td>1.87</td>\n",
       "      <td>1.16</td>\n",
       "    </tr>\n",
       "    <tr>\n",
       "      <th>29</th>\n",
       "      <td>Call of Duty: Modern Warfare 3</td>\n",
       "      <td>X360</td>\n",
       "      <td>Shooter</td>\n",
       "      <td>Activision</td>\n",
       "      <td>9.03</td>\n",
       "      <td>4.28</td>\n",
       "      <td>0.13</td>\n",
       "      <td>1.32</td>\n",
       "    </tr>\n",
       "    <tr>\n",
       "      <th>...</th>\n",
       "      <td>...</td>\n",
       "      <td>...</td>\n",
       "      <td>...</td>\n",
       "      <td>...</td>\n",
       "      <td>...</td>\n",
       "      <td>...</td>\n",
       "      <td>...</td>\n",
       "      <td>...</td>\n",
       "    </tr>\n",
       "    <tr>\n",
       "      <th>16568</th>\n",
       "      <td>XI Coliseum</td>\n",
       "      <td>PSP</td>\n",
       "      <td>Puzzle</td>\n",
       "      <td>Sony Computer Entertainment</td>\n",
       "      <td>0.00</td>\n",
       "      <td>0.00</td>\n",
       "      <td>0.01</td>\n",
       "      <td>0.00</td>\n",
       "    </tr>\n",
       "    <tr>\n",
       "      <th>16569</th>\n",
       "      <td>Resident Evil 4 HD</td>\n",
       "      <td>XOne</td>\n",
       "      <td>Shooter</td>\n",
       "      <td>Capcom</td>\n",
       "      <td>0.01</td>\n",
       "      <td>0.00</td>\n",
       "      <td>0.00</td>\n",
       "      <td>0.00</td>\n",
       "    </tr>\n",
       "    <tr>\n",
       "      <th>16570</th>\n",
       "      <td>Farming 2017 - The Simulation</td>\n",
       "      <td>PS4</td>\n",
       "      <td>Simulation</td>\n",
       "      <td>UIG Entertainment</td>\n",
       "      <td>0.00</td>\n",
       "      <td>0.01</td>\n",
       "      <td>0.00</td>\n",
       "      <td>0.00</td>\n",
       "    </tr>\n",
       "    <tr>\n",
       "      <th>16571</th>\n",
       "      <td>Grisaia no Kajitsu: La Fruit de la Grisaia</td>\n",
       "      <td>PSP</td>\n",
       "      <td>Adventure</td>\n",
       "      <td>Prototype</td>\n",
       "      <td>0.00</td>\n",
       "      <td>0.00</td>\n",
       "      <td>0.01</td>\n",
       "      <td>0.00</td>\n",
       "    </tr>\n",
       "    <tr>\n",
       "      <th>16572</th>\n",
       "      <td>Scarlett: Nichijou no Kyoukaisen</td>\n",
       "      <td>PS2</td>\n",
       "      <td>Adventure</td>\n",
       "      <td>Kadokawa Shoten</td>\n",
       "      <td>0.00</td>\n",
       "      <td>0.00</td>\n",
       "      <td>0.01</td>\n",
       "      <td>0.00</td>\n",
       "    </tr>\n",
       "    <tr>\n",
       "      <th>16573</th>\n",
       "      <td>Mini Desktop Racing</td>\n",
       "      <td>Wii</td>\n",
       "      <td>Racing</td>\n",
       "      <td>Popcorn Arcade</td>\n",
       "      <td>0.01</td>\n",
       "      <td>0.00</td>\n",
       "      <td>0.00</td>\n",
       "      <td>0.00</td>\n",
       "    </tr>\n",
       "    <tr>\n",
       "      <th>16574</th>\n",
       "      <td>Yattaman Wii: BikkuriDokkiri Machine de Mou Ra...</td>\n",
       "      <td>Wii</td>\n",
       "      <td>Racing</td>\n",
       "      <td>Takara Tomy</td>\n",
       "      <td>0.00</td>\n",
       "      <td>0.00</td>\n",
       "      <td>0.01</td>\n",
       "      <td>0.00</td>\n",
       "    </tr>\n",
       "    <tr>\n",
       "      <th>16575</th>\n",
       "      <td>Neo Angelique Special</td>\n",
       "      <td>PSP</td>\n",
       "      <td>Adventure</td>\n",
       "      <td>Tecmo Koei</td>\n",
       "      <td>0.00</td>\n",
       "      <td>0.00</td>\n",
       "      <td>0.01</td>\n",
       "      <td>0.00</td>\n",
       "    </tr>\n",
       "    <tr>\n",
       "      <th>16576</th>\n",
       "      <td>Rugby Challenge 3</td>\n",
       "      <td>XOne</td>\n",
       "      <td>Sports</td>\n",
       "      <td>Alternative Software</td>\n",
       "      <td>0.00</td>\n",
       "      <td>0.01</td>\n",
       "      <td>0.00</td>\n",
       "      <td>0.00</td>\n",
       "    </tr>\n",
       "    <tr>\n",
       "      <th>16577</th>\n",
       "      <td>Damnation</td>\n",
       "      <td>PC</td>\n",
       "      <td>Shooter</td>\n",
       "      <td>Codemasters</td>\n",
       "      <td>0.00</td>\n",
       "      <td>0.01</td>\n",
       "      <td>0.00</td>\n",
       "      <td>0.00</td>\n",
       "    </tr>\n",
       "    <tr>\n",
       "      <th>16578</th>\n",
       "      <td>Outdoors Unleashed: Africa 3D</td>\n",
       "      <td>3DS</td>\n",
       "      <td>Sports</td>\n",
       "      <td>Mastiff</td>\n",
       "      <td>0.01</td>\n",
       "      <td>0.00</td>\n",
       "      <td>0.00</td>\n",
       "      <td>0.00</td>\n",
       "    </tr>\n",
       "    <tr>\n",
       "      <th>16579</th>\n",
       "      <td>PGA European Tour</td>\n",
       "      <td>N64</td>\n",
       "      <td>Sports</td>\n",
       "      <td>Infogrames</td>\n",
       "      <td>0.01</td>\n",
       "      <td>0.00</td>\n",
       "      <td>0.00</td>\n",
       "      <td>0.00</td>\n",
       "    </tr>\n",
       "    <tr>\n",
       "      <th>16580</th>\n",
       "      <td>Real Rode</td>\n",
       "      <td>PS2</td>\n",
       "      <td>Adventure</td>\n",
       "      <td>Kadokawa Shoten</td>\n",
       "      <td>0.00</td>\n",
       "      <td>0.00</td>\n",
       "      <td>0.01</td>\n",
       "      <td>0.00</td>\n",
       "    </tr>\n",
       "    <tr>\n",
       "      <th>16581</th>\n",
       "      <td>Fit &amp; Fun</td>\n",
       "      <td>Wii</td>\n",
       "      <td>Sports</td>\n",
       "      <td>Unknown</td>\n",
       "      <td>0.00</td>\n",
       "      <td>0.01</td>\n",
       "      <td>0.00</td>\n",
       "      <td>0.00</td>\n",
       "    </tr>\n",
       "    <tr>\n",
       "      <th>16582</th>\n",
       "      <td>Planet Monsters</td>\n",
       "      <td>GBA</td>\n",
       "      <td>Action</td>\n",
       "      <td>Titus</td>\n",
       "      <td>0.01</td>\n",
       "      <td>0.00</td>\n",
       "      <td>0.00</td>\n",
       "      <td>0.00</td>\n",
       "    </tr>\n",
       "    <tr>\n",
       "      <th>16583</th>\n",
       "      <td>Carmageddon 64</td>\n",
       "      <td>N64</td>\n",
       "      <td>Action</td>\n",
       "      <td>Virgin Interactive</td>\n",
       "      <td>0.01</td>\n",
       "      <td>0.00</td>\n",
       "      <td>0.00</td>\n",
       "      <td>0.00</td>\n",
       "    </tr>\n",
       "    <tr>\n",
       "      <th>16584</th>\n",
       "      <td>Bust-A-Move 3000</td>\n",
       "      <td>GC</td>\n",
       "      <td>Puzzle</td>\n",
       "      <td>Ubisoft</td>\n",
       "      <td>0.01</td>\n",
       "      <td>0.00</td>\n",
       "      <td>0.00</td>\n",
       "      <td>0.00</td>\n",
       "    </tr>\n",
       "    <tr>\n",
       "      <th>16585</th>\n",
       "      <td>Breach</td>\n",
       "      <td>PC</td>\n",
       "      <td>Shooter</td>\n",
       "      <td>Destineer</td>\n",
       "      <td>0.01</td>\n",
       "      <td>0.00</td>\n",
       "      <td>0.00</td>\n",
       "      <td>0.00</td>\n",
       "    </tr>\n",
       "    <tr>\n",
       "      <th>16586</th>\n",
       "      <td>Secret Files 2: Puritas Cordis</td>\n",
       "      <td>DS</td>\n",
       "      <td>Adventure</td>\n",
       "      <td>Deep Silver</td>\n",
       "      <td>0.00</td>\n",
       "      <td>0.01</td>\n",
       "      <td>0.00</td>\n",
       "      <td>0.00</td>\n",
       "    </tr>\n",
       "    <tr>\n",
       "      <th>16587</th>\n",
       "      <td>Mezase!! Tsuri Master DS</td>\n",
       "      <td>DS</td>\n",
       "      <td>Sports</td>\n",
       "      <td>Hudson Soft</td>\n",
       "      <td>0.00</td>\n",
       "      <td>0.00</td>\n",
       "      <td>0.01</td>\n",
       "      <td>0.00</td>\n",
       "    </tr>\n",
       "    <tr>\n",
       "      <th>16588</th>\n",
       "      <td>Mega Brain Boost</td>\n",
       "      <td>DS</td>\n",
       "      <td>Puzzle</td>\n",
       "      <td>Majesco Entertainment</td>\n",
       "      <td>0.01</td>\n",
       "      <td>0.00</td>\n",
       "      <td>0.00</td>\n",
       "      <td>0.00</td>\n",
       "    </tr>\n",
       "    <tr>\n",
       "      <th>16589</th>\n",
       "      <td>Chou Ezaru wa Akai Hana: Koi wa Tsuki ni Shiru...</td>\n",
       "      <td>PSV</td>\n",
       "      <td>Action</td>\n",
       "      <td>dramatic create</td>\n",
       "      <td>0.00</td>\n",
       "      <td>0.00</td>\n",
       "      <td>0.01</td>\n",
       "      <td>0.00</td>\n",
       "    </tr>\n",
       "    <tr>\n",
       "      <th>16590</th>\n",
       "      <td>Eiyuu Densetsu: Sora no Kiseki Material Collec...</td>\n",
       "      <td>PSP</td>\n",
       "      <td>Role-Playing</td>\n",
       "      <td>Falcom Corporation</td>\n",
       "      <td>0.00</td>\n",
       "      <td>0.00</td>\n",
       "      <td>0.01</td>\n",
       "      <td>0.00</td>\n",
       "    </tr>\n",
       "    <tr>\n",
       "      <th>16591</th>\n",
       "      <td>Myst IV: Revelation</td>\n",
       "      <td>PC</td>\n",
       "      <td>Adventure</td>\n",
       "      <td>Ubisoft</td>\n",
       "      <td>0.01</td>\n",
       "      <td>0.00</td>\n",
       "      <td>0.00</td>\n",
       "      <td>0.00</td>\n",
       "    </tr>\n",
       "    <tr>\n",
       "      <th>16592</th>\n",
       "      <td>Plushees</td>\n",
       "      <td>DS</td>\n",
       "      <td>Simulation</td>\n",
       "      <td>Destineer</td>\n",
       "      <td>0.01</td>\n",
       "      <td>0.00</td>\n",
       "      <td>0.00</td>\n",
       "      <td>0.00</td>\n",
       "    </tr>\n",
       "    <tr>\n",
       "      <th>16593</th>\n",
       "      <td>Woody Woodpecker in Crazy Castle 5</td>\n",
       "      <td>GBA</td>\n",
       "      <td>Platform</td>\n",
       "      <td>Kemco</td>\n",
       "      <td>0.01</td>\n",
       "      <td>0.00</td>\n",
       "      <td>0.00</td>\n",
       "      <td>0.00</td>\n",
       "    </tr>\n",
       "    <tr>\n",
       "      <th>16594</th>\n",
       "      <td>Men in Black II: Alien Escape</td>\n",
       "      <td>GC</td>\n",
       "      <td>Shooter</td>\n",
       "      <td>Infogrames</td>\n",
       "      <td>0.01</td>\n",
       "      <td>0.00</td>\n",
       "      <td>0.00</td>\n",
       "      <td>0.00</td>\n",
       "    </tr>\n",
       "    <tr>\n",
       "      <th>16595</th>\n",
       "      <td>SCORE International Baja 1000: The Official Game</td>\n",
       "      <td>PS2</td>\n",
       "      <td>Racing</td>\n",
       "      <td>Activision</td>\n",
       "      <td>0.00</td>\n",
       "      <td>0.00</td>\n",
       "      <td>0.00</td>\n",
       "      <td>0.00</td>\n",
       "    </tr>\n",
       "    <tr>\n",
       "      <th>16596</th>\n",
       "      <td>Know How 2</td>\n",
       "      <td>DS</td>\n",
       "      <td>Puzzle</td>\n",
       "      <td>7G//AMES</td>\n",
       "      <td>0.00</td>\n",
       "      <td>0.01</td>\n",
       "      <td>0.00</td>\n",
       "      <td>0.00</td>\n",
       "    </tr>\n",
       "    <tr>\n",
       "      <th>16597</th>\n",
       "      <td>Spirits &amp; Spells</td>\n",
       "      <td>GBA</td>\n",
       "      <td>Platform</td>\n",
       "      <td>Wanadoo</td>\n",
       "      <td>0.01</td>\n",
       "      <td>0.00</td>\n",
       "      <td>0.00</td>\n",
       "      <td>0.00</td>\n",
       "    </tr>\n",
       "  </tbody>\n",
       "</table>\n",
       "<p>16598 rows × 8 columns</p>\n",
       "</div>"
      ],
      "text/plain": [
       "                                                    Name Platform  \\\n",
       "0                                             Wii Sports      Wii   \n",
       "1                                      Super Mario Bros.      NES   \n",
       "2                                         Mario Kart Wii      Wii   \n",
       "3                                      Wii Sports Resort      Wii   \n",
       "4                               Pokemon Red/Pokemon Blue       GB   \n",
       "5                                                 Tetris       GB   \n",
       "6                                  New Super Mario Bros.       DS   \n",
       "7                                               Wii Play      Wii   \n",
       "8                              New Super Mario Bros. Wii      Wii   \n",
       "9                                              Duck Hunt      NES   \n",
       "10                                            Nintendogs       DS   \n",
       "11                                         Mario Kart DS       DS   \n",
       "12                           Pokemon Gold/Pokemon Silver       GB   \n",
       "13                                               Wii Fit      Wii   \n",
       "14                                          Wii Fit Plus      Wii   \n",
       "15                                    Kinect Adventures!     X360   \n",
       "16                                    Grand Theft Auto V      PS3   \n",
       "17                         Grand Theft Auto: San Andreas      PS2   \n",
       "18                                     Super Mario World     SNES   \n",
       "19          Brain Age: Train Your Brain in Minutes a Day       DS   \n",
       "20                         Pokemon Diamond/Pokemon Pearl       DS   \n",
       "21                                      Super Mario Land       GB   \n",
       "22                                   Super Mario Bros. 3      NES   \n",
       "23                                    Grand Theft Auto V     X360   \n",
       "24                           Grand Theft Auto: Vice City      PS2   \n",
       "25                         Pokemon Ruby/Pokemon Sapphire      GBA   \n",
       "26                           Pokemon Black/Pokemon White       DS   \n",
       "27           Brain Age 2: More Training in Minutes a Day       DS   \n",
       "28                                Gran Turismo 3: A-Spec      PS2   \n",
       "29                        Call of Duty: Modern Warfare 3     X360   \n",
       "...                                                  ...      ...   \n",
       "16568                                        XI Coliseum      PSP   \n",
       "16569                                 Resident Evil 4 HD     XOne   \n",
       "16570                      Farming 2017 - The Simulation      PS4   \n",
       "16571         Grisaia no Kajitsu: La Fruit de la Grisaia      PSP   \n",
       "16572                   Scarlett: Nichijou no Kyoukaisen      PS2   \n",
       "16573                                Mini Desktop Racing      Wii   \n",
       "16574  Yattaman Wii: BikkuriDokkiri Machine de Mou Ra...      Wii   \n",
       "16575                              Neo Angelique Special      PSP   \n",
       "16576                                  Rugby Challenge 3     XOne   \n",
       "16577                                          Damnation       PC   \n",
       "16578                      Outdoors Unleashed: Africa 3D      3DS   \n",
       "16579                                  PGA European Tour      N64   \n",
       "16580                                          Real Rode      PS2   \n",
       "16581                                          Fit & Fun      Wii   \n",
       "16582                                    Planet Monsters      GBA   \n",
       "16583                                     Carmageddon 64      N64   \n",
       "16584                                   Bust-A-Move 3000       GC   \n",
       "16585                                             Breach       PC   \n",
       "16586                     Secret Files 2: Puritas Cordis       DS   \n",
       "16587                           Mezase!! Tsuri Master DS       DS   \n",
       "16588                                   Mega Brain Boost       DS   \n",
       "16589  Chou Ezaru wa Akai Hana: Koi wa Tsuki ni Shiru...      PSV   \n",
       "16590  Eiyuu Densetsu: Sora no Kiseki Material Collec...      PSP   \n",
       "16591                                Myst IV: Revelation       PC   \n",
       "16592                                           Plushees       DS   \n",
       "16593                 Woody Woodpecker in Crazy Castle 5      GBA   \n",
       "16594                      Men in Black II: Alien Escape       GC   \n",
       "16595   SCORE International Baja 1000: The Official Game      PS2   \n",
       "16596                                         Know How 2       DS   \n",
       "16597                                   Spirits & Spells      GBA   \n",
       "\n",
       "              Genre                    Publisher  NA_Sales  EU_Sales  \\\n",
       "0            Sports                     Nintendo     41.49     29.02   \n",
       "1          Platform                     Nintendo     29.08      3.58   \n",
       "2            Racing                     Nintendo     15.85     12.88   \n",
       "3            Sports                     Nintendo     15.75     11.01   \n",
       "4      Role-Playing                     Nintendo     11.27      8.89   \n",
       "5            Puzzle                     Nintendo     23.20      2.26   \n",
       "6          Platform                     Nintendo     11.38      9.23   \n",
       "7              Misc                     Nintendo     14.03      9.20   \n",
       "8          Platform                     Nintendo     14.59      7.06   \n",
       "9           Shooter                     Nintendo     26.93      0.63   \n",
       "10       Simulation                     Nintendo      9.07     11.00   \n",
       "11           Racing                     Nintendo      9.81      7.57   \n",
       "12     Role-Playing                     Nintendo      9.00      6.18   \n",
       "13           Sports                     Nintendo      8.94      8.03   \n",
       "14           Sports                     Nintendo      9.09      8.59   \n",
       "15             Misc       Microsoft Game Studios     14.97      4.94   \n",
       "16           Action         Take-Two Interactive      7.01      9.27   \n",
       "17           Action         Take-Two Interactive      9.43      0.40   \n",
       "18         Platform                     Nintendo     12.78      3.75   \n",
       "19             Misc                     Nintendo      4.75      9.26   \n",
       "20     Role-Playing                     Nintendo      6.42      4.52   \n",
       "21         Platform                     Nintendo     10.83      2.71   \n",
       "22         Platform                     Nintendo      9.54      3.44   \n",
       "23           Action         Take-Two Interactive      9.63      5.31   \n",
       "24           Action         Take-Two Interactive      8.41      5.49   \n",
       "25     Role-Playing                     Nintendo      6.06      3.90   \n",
       "26     Role-Playing                     Nintendo      5.57      3.28   \n",
       "27           Puzzle                     Nintendo      3.44      5.36   \n",
       "28           Racing  Sony Computer Entertainment      6.85      5.09   \n",
       "29          Shooter                   Activision      9.03      4.28   \n",
       "...             ...                          ...       ...       ...   \n",
       "16568        Puzzle  Sony Computer Entertainment      0.00      0.00   \n",
       "16569       Shooter                       Capcom      0.01      0.00   \n",
       "16570    Simulation            UIG Entertainment      0.00      0.01   \n",
       "16571     Adventure                    Prototype      0.00      0.00   \n",
       "16572     Adventure              Kadokawa Shoten      0.00      0.00   \n",
       "16573        Racing               Popcorn Arcade      0.01      0.00   \n",
       "16574        Racing                  Takara Tomy      0.00      0.00   \n",
       "16575     Adventure                   Tecmo Koei      0.00      0.00   \n",
       "16576        Sports         Alternative Software      0.00      0.01   \n",
       "16577       Shooter                  Codemasters      0.00      0.01   \n",
       "16578        Sports                      Mastiff      0.01      0.00   \n",
       "16579        Sports                   Infogrames      0.01      0.00   \n",
       "16580     Adventure              Kadokawa Shoten      0.00      0.00   \n",
       "16581        Sports                      Unknown      0.00      0.01   \n",
       "16582        Action                        Titus      0.01      0.00   \n",
       "16583        Action           Virgin Interactive      0.01      0.00   \n",
       "16584        Puzzle                      Ubisoft      0.01      0.00   \n",
       "16585       Shooter                    Destineer      0.01      0.00   \n",
       "16586     Adventure                  Deep Silver      0.00      0.01   \n",
       "16587        Sports                  Hudson Soft      0.00      0.00   \n",
       "16588        Puzzle        Majesco Entertainment      0.01      0.00   \n",
       "16589        Action              dramatic create      0.00      0.00   \n",
       "16590  Role-Playing           Falcom Corporation      0.00      0.00   \n",
       "16591     Adventure                      Ubisoft      0.01      0.00   \n",
       "16592    Simulation                    Destineer      0.01      0.00   \n",
       "16593      Platform                        Kemco      0.01      0.00   \n",
       "16594       Shooter                   Infogrames      0.01      0.00   \n",
       "16595        Racing                   Activision      0.00      0.00   \n",
       "16596        Puzzle                     7G//AMES      0.00      0.01   \n",
       "16597      Platform                      Wanadoo      0.01      0.00   \n",
       "\n",
       "       JP_Sales  Other_Sales  \n",
       "0          3.77         8.46  \n",
       "1          6.81         0.77  \n",
       "2          3.79         3.31  \n",
       "3          3.28         2.96  \n",
       "4         10.22         1.00  \n",
       "5          4.22         0.58  \n",
       "6          6.50         2.90  \n",
       "7          2.93         2.85  \n",
       "8          4.70         2.26  \n",
       "9          0.28         0.47  \n",
       "10         1.93         2.75  \n",
       "11         4.13         1.92  \n",
       "12         7.20         0.71  \n",
       "13         3.60         2.15  \n",
       "14         2.53         1.79  \n",
       "15         0.24         1.67  \n",
       "16         0.97         4.14  \n",
       "17         0.41        10.57  \n",
       "18         3.54         0.55  \n",
       "19         4.16         2.05  \n",
       "20         6.04         1.37  \n",
       "21         4.18         0.42  \n",
       "22         3.84         0.46  \n",
       "23         0.06         1.38  \n",
       "24         0.47         1.78  \n",
       "25         5.38         0.50  \n",
       "26         5.65         0.82  \n",
       "27         5.32         1.18  \n",
       "28         1.87         1.16  \n",
       "29         0.13         1.32  \n",
       "...         ...          ...  \n",
       "16568      0.01         0.00  \n",
       "16569      0.00         0.00  \n",
       "16570      0.00         0.00  \n",
       "16571      0.01         0.00  \n",
       "16572      0.01         0.00  \n",
       "16573      0.00         0.00  \n",
       "16574      0.01         0.00  \n",
       "16575      0.01         0.00  \n",
       "16576      0.00         0.00  \n",
       "16577      0.00         0.00  \n",
       "16578      0.00         0.00  \n",
       "16579      0.00         0.00  \n",
       "16580      0.01         0.00  \n",
       "16581      0.00         0.00  \n",
       "16582      0.00         0.00  \n",
       "16583      0.00         0.00  \n",
       "16584      0.00         0.00  \n",
       "16585      0.00         0.00  \n",
       "16586      0.00         0.00  \n",
       "16587      0.01         0.00  \n",
       "16588      0.00         0.00  \n",
       "16589      0.01         0.00  \n",
       "16590      0.01         0.00  \n",
       "16591      0.00         0.00  \n",
       "16592      0.00         0.00  \n",
       "16593      0.00         0.00  \n",
       "16594      0.00         0.00  \n",
       "16595      0.00         0.00  \n",
       "16596      0.00         0.00  \n",
       "16597      0.00         0.00  \n",
       "\n",
       "[16598 rows x 8 columns]"
      ]
     },
     "execution_count": 95,
     "metadata": {},
     "output_type": "execute_result"
    }
   ],
   "source": [
    "data"
   ]
  },
  {
   "cell_type": "code",
   "execution_count": 96,
   "metadata": {},
   "outputs": [
    {
     "data": {
      "text/plain": [
       "NA_Sales       16598\n",
       "EU_Sales       16598\n",
       "JP_Sales       16598\n",
       "Other_Sales    16598\n",
       "dtype: int64"
      ]
     },
     "execution_count": 96,
     "metadata": {},
     "output_type": "execute_result"
    }
   ],
   "source": [
    "numerical_columns   = [i for i in data.columns if data[i].dtype.name != 'object']\n",
    "data[numerical_columns].count(axis = 0)"
   ]
  },
  {
   "cell_type": "markdown",
   "metadata": {},
   "source": [
    "Видим, что пропущенных значений нет."
   ]
  },
  {
   "cell_type": "code",
   "execution_count": 97,
   "metadata": {},
   "outputs": [
    {
     "data": {
      "text/plain": [
       "NA_Sales       0.08\n",
       "EU_Sales       0.02\n",
       "JP_Sales       0.00\n",
       "Other_Sales    0.01\n",
       "dtype: float64"
      ]
     },
     "execution_count": 97,
     "metadata": {},
     "output_type": "execute_result"
    }
   ],
   "source": [
    "data.median(axis = 0)"
   ]
  },
  {
   "cell_type": "markdown",
   "metadata": {},
   "source": [
    "Посмотрим средние значения по столбцам"
   ]
  },
  {
   "cell_type": "markdown",
   "metadata": {},
   "source": [
    "# Векторизация данных"
   ]
  },
  {
   "cell_type": "code",
   "execution_count": 98,
   "metadata": {},
   "outputs": [
    {
     "name": "stdout",
     "output_type": "stream",
     "text": [
      "[] ['Name', 'Platform', 'Genre', 'Publisher']\n"
     ]
    }
   ],
   "source": [
    "data_describe = data.describe(include = [object])\n",
    "binary_columns = [c for c in categorical_columns if data_describe[c]['unique'] == 2]\n",
    "nonbinary_columns = [c for c in categorical_columns if data_describe[c]['unique'] > 2]\n",
    "print(binary_columns, nonbinary_columns)"
   ]
  },
  {
   "cell_type": "markdown",
   "metadata": {},
   "source": [
    "Бинарные признаки отсутствуют."
   ]
  },
  {
   "cell_type": "code",
   "execution_count": 99,
   "metadata": {},
   "outputs": [
    {
     "data": {
      "text/plain": [
       "array(['Wii Sports', 'Super Mario Bros.', 'Mario Kart Wii', ...,\n",
       "       'Plushees', 'Woody Woodpecker in Crazy Castle 5', 'Know How 2'], dtype=object)"
      ]
     },
     "execution_count": 99,
     "metadata": {},
     "output_type": "execute_result"
    }
   ],
   "source": [
    "data['Name'].unique()"
   ]
  },
  {
   "cell_type": "code",
   "execution_count": 100,
   "metadata": {},
   "outputs": [
    {
     "data": {
      "text/plain": [
       "array(['Wii', 'NES', 'GB', 'DS', 'X360', 'PS3', 'PS2', 'SNES', 'GBA',\n",
       "       '3DS', 'PS4', 'N64', 'PS', 'XB', 'PC', '2600', 'PSP', 'XOne', 'GC',\n",
       "       'WiiU', 'GEN', 'DC', 'PSV', 'SAT', 'SCD', 'WS', 'NG', 'TG16', '3DO',\n",
       "       'GG', 'PCFX'], dtype=object)"
      ]
     },
     "execution_count": 100,
     "metadata": {},
     "output_type": "execute_result"
    }
   ],
   "source": [
    "data['Platform'].unique()"
   ]
  },
  {
   "cell_type": "code",
   "execution_count": 101,
   "metadata": {},
   "outputs": [
    {
     "data": {
      "text/plain": [
       "array(['Sports', 'Platform', 'Racing', 'Role-Playing', 'Puzzle', 'Misc',\n",
       "       'Shooter', 'Simulation', 'Action', 'Fighting', 'Adventure',\n",
       "       'Strategy'], dtype=object)"
      ]
     },
     "execution_count": 101,
     "metadata": {},
     "output_type": "execute_result"
    }
   ],
   "source": [
    "data['Genre'].unique()"
   ]
  },
  {
   "cell_type": "code",
   "execution_count": 102,
   "metadata": {},
   "outputs": [
    {
     "data": {
      "text/plain": [
       "array(['Nintendo', 'Microsoft Game Studios', 'Take-Two Interactive',\n",
       "       'Sony Computer Entertainment', 'Activision', 'Ubisoft',\n",
       "       'Bethesda Softworks', 'Electronic Arts', 'Sega', 'SquareSoft',\n",
       "       'Atari', '505 Games', 'Capcom', 'GT Interactive',\n",
       "       'Konami Digital Entertainment',\n",
       "       'Sony Computer Entertainment Europe', 'Square Enix', 'LucasArts',\n",
       "       'Virgin Interactive', 'Warner Bros. Interactive Entertainment',\n",
       "       'Universal Interactive', 'Eidos Interactive', 'RedOctane',\n",
       "       'Vivendi Games', 'Enix Corporation', 'Namco Bandai Games', 'Palcom',\n",
       "       'Hasbro Interactive', 'THQ', 'Fox Interactive',\n",
       "       'Acclaim Entertainment', 'MTV Games', 'Disney Interactive Studios',\n",
       "       nan, 'Majesco Entertainment', 'Codemasters', 'Red Orb', 'Level 5',\n",
       "       'Arena Entertainment', 'Midway Games', 'JVC', 'Deep Silver',\n",
       "       '989 Studios', 'NCSoft', 'UEP Systems', 'Parker Bros.', 'Maxis',\n",
       "       'Imagic', 'Tecmo Koei', 'Valve Software', 'ASCII Entertainment',\n",
       "       'Mindscape', 'Infogrames', 'Unknown', 'Square', 'Valve',\n",
       "       'Activision Value', 'Banpresto', 'D3Publisher',\n",
       "       'Oxygen Interactive', 'Red Storm Entertainment', 'Video System',\n",
       "       'Hello Games', 'Global Star', 'Gotham Games', 'Westwood Studios',\n",
       "       'GungHo', 'Crave Entertainment', 'Hudson Soft', 'Coleco',\n",
       "       'Rising Star Games', 'Atlus', 'TDK Mediactive', 'ASC Games',\n",
       "       'Zoo Games', 'Accolade', 'Sony Online Entertainment', '3DO', 'RTL',\n",
       "       'Natsume', 'Focus Home Interactive', 'Alchemist',\n",
       "       'Black Label Games', 'SouthPeak Games', 'Mastertronic', 'Ocean',\n",
       "       'Zoo Digital Publishing', 'Psygnosis', 'City Interactive',\n",
       "       'Empire Interactive', 'Success', 'Compile', 'Russel', 'Taito',\n",
       "       'Agetec', 'GSP', 'Microprose', 'Play It', 'Slightly Mad Studios',\n",
       "       'Tomy Corporation', 'Sammy Corporation', 'Koch Media',\n",
       "       'Game Factory', 'Titus', 'Marvelous Entertainment', 'Genki',\n",
       "       'Mojang', 'Pinnacle', 'CTO SpA', 'TalonSoft', 'Crystal Dynamics',\n",
       "       'SCi', 'Quelle', 'mixi, Inc', 'Rage Software', 'Ubisoft Annecy',\n",
       "       'Scholastic Inc.', 'Interplay', 'Mystique', 'ChunSoft', 'Square EA',\n",
       "       '20th Century Fox Video Games', 'Avanquest Software',\n",
       "       'Hudson Entertainment', 'Nordic Games', 'Men-A-Vision', 'Nobilis',\n",
       "       'Big Ben Interactive', 'Touchstone', 'Spike', 'Jester Interactive',\n",
       "       'Nippon Ichi Software', 'LEGO Media', 'Quest', 'Illusion Softworks',\n",
       "       'Tigervision', 'Funbox Media', 'Rocket Company', 'Metro 3D',\n",
       "       'Mattel Interactive', 'IE Institute', 'Rondomedia',\n",
       "       'Sony Computer Entertainment America', 'Universal Gamex',\n",
       "       'Ghostlight', 'Wizard Video Games', 'BMG Interactive Entertainment',\n",
       "       'PQube', 'Trion Worlds', 'Laguna', 'Ignition Entertainment',\n",
       "       'Takara', 'Kadokawa Shoten', 'Destineer', 'Enterbrain',\n",
       "       'Xseed Games', 'Imagineer', 'System 3 Arcade Software',\n",
       "       'CPG Products', 'Aruze Corp', 'Gamebridge',\n",
       "       'Midas Interactive Entertainment', 'Jaleco', 'Answer Software',\n",
       "       'XS Games', 'Activision Blizzard', 'Pack In Soft', 'Rebellion',\n",
       "       'Xplosiv', 'Ultravision', 'GameMill Entertainment', 'Wanadoo',\n",
       "       'NovaLogic', 'Telltale Games', 'Epoch', 'BAM! Entertainment',\n",
       "       'Knowledge Adventure', 'Mastiff', 'Tetris Online',\n",
       "       'Harmonix Music Systems', 'ESP', 'TYO', 'Telegames',\n",
       "       'Mud Duck Productions', 'Screenlife', 'Pioneer LDC',\n",
       "       'Magical Company', 'Mentor Interactive', 'Kemco',\n",
       "       'Human Entertainment', 'Avanquest', 'Data Age',\n",
       "       'Electronic Arts Victor', 'Black Bean Games', 'Jack of All Games',\n",
       "       '989 Sports', 'Takara Tomy', 'Media Rings', 'Elf', 'Kalypso Media',\n",
       "       'Starfish', 'Zushi Games', 'Jorudan', 'Destination Software, Inc',\n",
       "       'New', 'Brash Entertainment', 'ITT Family Games', 'PopCap Games',\n",
       "       'Home Entertainment Suppliers', 'Ackkstudios', 'Starpath Corp.',\n",
       "       'P2 Games', 'BPS', 'Gathering of Developers', 'NewKidCo',\n",
       "       'Storm City Games', 'CokeM Interactive', 'CBS Electronics', 'Magix',\n",
       "       'Marvelous Interactive', 'Nihon Falcom Corporation',\n",
       "       'Wargaming.net', 'Angel Studios', 'Arc System Works', 'Playmates',\n",
       "       'SNK Playmore', 'Hamster Corporation', 'From Software',\n",
       "       'Nippon Columbia', 'Nichibutsu', 'Little Orbit',\n",
       "       'Conspiracy Entertainment', 'DTP Entertainment', 'Hect',\n",
       "       'Mumbo Jumbo', 'Pacific Century Cyber Works', 'Indie Games',\n",
       "       'Liquid Games', 'NEC', 'Axela', 'ArtDink', 'Sunsoft', 'Gust', 'SNK',\n",
       "       'NEC Interchannel', 'FuRyu', 'Xing Entertainment', 'ValuSoft',\n",
       "       'Victor Interactive', 'Detn8 Games', 'American Softworks',\n",
       "       'Nordcurrent', 'Bomb', 'Falcom Corporation', 'AQ Interactive',\n",
       "       'CCP', 'Milestone S.r.l.', 'Sears', 'JoWood Productions',\n",
       "       'Seta Corporation', 'On Demand', 'NCS', 'Aspyr',\n",
       "       'Gremlin Interactive Ltd', 'Agatsuma Entertainment',\n",
       "       'Compile Heart', 'Culture Brain', 'Mad Catz', 'Shogakukan',\n",
       "       'Merscom LLC', 'Rebellion Developments', 'Nippon Telenet',\n",
       "       'TDK Core', 'bitComposer Games', 'Foreign Media Games', 'Astragon',\n",
       "       'SSI', 'Kadokawa Games', 'Idea Factory',\n",
       "       'Performance Designed Products', 'Asylum Entertainment',\n",
       "       'Core Design Ltd.', 'PlayV', 'UFO Interactive',\n",
       "       'Idea Factory International', 'Playlogic Game Factory',\n",
       "       'Essential Games', 'Adeline Software', 'Funcom', 'Panther Software',\n",
       "       'Blast! Entertainment Ltd', 'Game Life', 'DSI Games',\n",
       "       'Avalon Interactive', 'Popcorn Arcade', 'Neko Entertainment',\n",
       "       'Vir2L Studios', 'Aques', 'Syscom', 'White Park Bay Software',\n",
       "       'System 3', 'Vatical Entertainment', 'Daedalic', 'EA Games',\n",
       "       'Media Factory', 'Vic Tokai', 'The Adventure Company', 'Game Arts',\n",
       "       'Broccoli', 'Acquire', 'General Entertainment',\n",
       "       'Excalibur Publishing', 'Imadio', 'Swing! Entertainment',\n",
       "       'Sony Music Entertainment', 'Aqua Plus', 'Paradox Interactive',\n",
       "       'Hip Interactive', 'DreamCatcher Interactive',\n",
       "       'Tripwire Interactive', 'Sting', 'Yacht Club Games', 'SCS Software',\n",
       "       'Bigben Interactive', 'Havas Interactive', 'Slitherine Software',\n",
       "       'Graffiti', 'Funsta', 'Telstar', 'U.S. Gold',\n",
       "       'DreamWorks Interactive', 'Data Design Interactive', 'MTO',\n",
       "       'DHM Interactive', 'FunSoft', 'SPS', 'Bohemia Interactive',\n",
       "       'Reef Entertainment', 'Tru Blu Entertainment', 'Moss', 'T&E Soft',\n",
       "       'O-Games', 'Aksys Games', 'NDA Productions', 'Data East',\n",
       "       'Time Warner Interactive', 'Gainax Network Systems', 'Daito',\n",
       "       'O3 Entertainment', 'Gameloft', 'Xicat Interactive',\n",
       "       'Simon & Schuster Interactive', 'Valcon Games', 'PopTop Software',\n",
       "       'TOHO', 'HMH Interactive', '5pb', 'Cave',\n",
       "       'CDV Software Entertainment', 'Microids', 'PM Studios', 'Paon',\n",
       "       'Micro Cabin', 'GameTek', 'Benesse', 'Type-Moon',\n",
       "       'Enjoy Gaming ltd.', 'Asmik Corp', 'Interplay Productions',\n",
       "       'Asmik Ace Entertainment', 'inXile Entertainment', 'Image Epoch',\n",
       "       'Phantom EFX', 'Evolved Games', 'responDESIGN',\n",
       "       'Culture Publishers', 'Griffin International', 'Hackberry',\n",
       "       'Hearty Robin', 'Nippon Amuse', 'Origin Systems', 'Seventh Chord',\n",
       "       'Mitsui', 'Milestone', 'Abylight', 'Flight-Plan', 'Glams', 'Locus',\n",
       "       'Warp', 'Daedalic Entertainment', 'Alternative Software',\n",
       "       'Myelin Media', 'Mercury Games', 'Irem Software Engineering',\n",
       "       'Sunrise Interactive', 'Elite', 'Evolution Games', 'Tivola',\n",
       "       'Global A Entertainment', 'Edia', 'Athena', 'Aria', 'Gamecock',\n",
       "       'Tommo', 'Altron', 'Happinet', 'iWin', 'Media Works', 'Fortyfive',\n",
       "       'Revolution Software', 'Imax', 'Crimson Cow', '10TACLE Studios',\n",
       "       'Groove Games', 'Pack-In-Video', 'Insomniac Games',\n",
       "       'Ascaron Entertainment GmbH', 'Asgard', 'Ecole', 'Yumedia',\n",
       "       'Phenomedia', 'HAL Laboratory', 'Grand Prix Games', 'DigiCube',\n",
       "       'Creative Core', 'Kaga Create', 'WayForward Technologies',\n",
       "       'LSP Games', 'ASCII Media Works', 'Coconuts Japan', 'Arika',\n",
       "       'Ertain', 'Marvel Entertainment', 'Prototype',\n",
       "       'TopWare Interactive', 'Phantagram', '1C Company',\n",
       "       'The Learning Company', 'TechnoSoft', 'Vap', 'Misawa', 'Tradewest',\n",
       "       'Team17 Software', 'Yeti', 'Pow', 'Navarre Corp', 'MediaQuest',\n",
       "       'Max Five', 'Comfort', 'Monte Christo Multimedia', 'Pony Canyon',\n",
       "       'Riverhillsoft', 'Summitsoft', 'Milestone S.r.l', 'Playmore',\n",
       "       'MLB.com', 'Kool Kizz', 'Flashpoint Games', '49Games',\n",
       "       'Legacy Interactive', 'Alawar Entertainment', 'CyberFront',\n",
       "       'Cloud Imperium Games Corporation', 'Societa', 'Virtual Play Games',\n",
       "       'Interchannel', 'Sonnet', 'Experience Inc.', 'Zenrin',\n",
       "       'Iceberg Interactive', 'Ivolgamus', '2D Boy', 'MC2 Entertainment',\n",
       "       'Kando Games', 'Just Flight', 'Office Create', 'Mamba Games',\n",
       "       'Fields', 'Princess Soft', 'Maximum Family Games', 'Berkeley',\n",
       "       'Fuji', 'Dusenberry Martin Racing', 'imageepoch Inc.',\n",
       "       'Big Fish Games', 'Her Interactive', 'Kamui', 'ASK', 'Headup Games',\n",
       "       'KSS', 'Cygames', 'KID', 'Quinrose', 'Sunflowers',\n",
       "       'dramatic create', 'TGL', 'Encore', 'Extreme Entertainment Group',\n",
       "       'Intergrow', 'G.Rev', 'Sweets', 'Kokopeli Digital Studios',\n",
       "       'Number None', 'Nexon', 'id Software', 'BushiRoad', 'Tryfirst',\n",
       "       'Strategy First', '7G//AMES', 'GN Software', \"Yuke's\",\n",
       "       'Easy Interactive', 'Licensed 4U', 'FuRyu Corporation',\n",
       "       'Lexicon Entertainment', 'Paon Corporation', 'Kids Station', 'GOA',\n",
       "       'Graphsim Entertainment', 'King Records', 'Introversion Software',\n",
       "       'Minato Station', 'Devolver Digital', 'Blue Byte', 'Gaga',\n",
       "       'Yamasa Entertainment', 'Plenty', 'Views', 'fonfun', 'NetRevo',\n",
       "       'Codemasters Online', 'Quintet', 'Phoenix Games', 'Dorart',\n",
       "       'Marvelous Games', 'Focus Multimedia', 'Imageworks',\n",
       "       'Karin Entertainment', 'Aerosoft', 'Technos Japan Corporation',\n",
       "       'Gakken', 'Mirai Shounen', 'Datam Polystar', 'Saurus', 'HuneX',\n",
       "       'Revolution (Japan)', 'Giza10', 'Visco', 'Alvion', 'Mycom', 'Giga',\n",
       "       'Warashi', 'System Soft', 'Sold Out', 'Lighthouse Interactive',\n",
       "       'Masque Publishing', 'RED Entertainment', 'Michaelsoft',\n",
       "       'Media Entertainment', 'New World Computing', 'Genterprise',\n",
       "       'Interworks Unlimited, Inc.', 'Boost On', 'Stainless Games',\n",
       "       'EON Digital Entertainment', 'Epic Games', 'Naxat Soft',\n",
       "       'Ascaron Entertainment', 'Piacci', 'Nitroplus',\n",
       "       'Paradox Development', 'Otomate', 'Ongakukan', 'Commseed',\n",
       "       'Inti Creates', 'Takuyo', 'Interchannel-Holon', 'Rain Games',\n",
       "       'UIG Entertainment'], dtype=object)"
      ]
     },
     "execution_count": 102,
     "metadata": {},
     "output_type": "execute_result"
    }
   ],
   "source": [
    "data['Publisher'].unique()"
   ]
  },
  {
   "cell_type": "code",
   "execution_count": 103,
   "metadata": {
    "collapsed": true
   },
   "outputs": [],
   "source": [
    "data = data.drop(('Publisher'), axis=1)"
   ]
  },
  {
   "cell_type": "code",
   "execution_count": 104,
   "metadata": {
    "collapsed": true
   },
   "outputs": [],
   "source": [
    "data = data.drop(('Name'), axis=1)"
   ]
  },
  {
   "cell_type": "markdown",
   "metadata": {},
   "source": [
    "Удалим столбец с названиями, платформами и издателями, чтобы новая таблица не получилась слишком большой."
   ]
  },
  {
   "cell_type": "code",
   "execution_count": 105,
   "metadata": {},
   "outputs": [
    {
     "data": {
      "text/html": [
       "<div>\n",
       "<style>\n",
       "    .dataframe thead tr:only-child th {\n",
       "        text-align: right;\n",
       "    }\n",
       "\n",
       "    .dataframe thead th {\n",
       "        text-align: left;\n",
       "    }\n",
       "\n",
       "    .dataframe tbody tr th {\n",
       "        vertical-align: top;\n",
       "    }\n",
       "</style>\n",
       "<table border=\"1\" class=\"dataframe\">\n",
       "  <thead>\n",
       "    <tr style=\"text-align: right;\">\n",
       "      <th></th>\n",
       "      <th>Platform</th>\n",
       "      <th>Genre</th>\n",
       "      <th>NA_Sales</th>\n",
       "      <th>EU_Sales</th>\n",
       "      <th>JP_Sales</th>\n",
       "      <th>Other_Sales</th>\n",
       "    </tr>\n",
       "  </thead>\n",
       "  <tbody>\n",
       "    <tr>\n",
       "      <th>0</th>\n",
       "      <td>Wii</td>\n",
       "      <td>Sports</td>\n",
       "      <td>41.49</td>\n",
       "      <td>29.02</td>\n",
       "      <td>3.77</td>\n",
       "      <td>8.46</td>\n",
       "    </tr>\n",
       "    <tr>\n",
       "      <th>1</th>\n",
       "      <td>NES</td>\n",
       "      <td>Platform</td>\n",
       "      <td>29.08</td>\n",
       "      <td>3.58</td>\n",
       "      <td>6.81</td>\n",
       "      <td>0.77</td>\n",
       "    </tr>\n",
       "    <tr>\n",
       "      <th>2</th>\n",
       "      <td>Wii</td>\n",
       "      <td>Racing</td>\n",
       "      <td>15.85</td>\n",
       "      <td>12.88</td>\n",
       "      <td>3.79</td>\n",
       "      <td>3.31</td>\n",
       "    </tr>\n",
       "    <tr>\n",
       "      <th>3</th>\n",
       "      <td>Wii</td>\n",
       "      <td>Sports</td>\n",
       "      <td>15.75</td>\n",
       "      <td>11.01</td>\n",
       "      <td>3.28</td>\n",
       "      <td>2.96</td>\n",
       "    </tr>\n",
       "    <tr>\n",
       "      <th>4</th>\n",
       "      <td>GB</td>\n",
       "      <td>Role-Playing</td>\n",
       "      <td>11.27</td>\n",
       "      <td>8.89</td>\n",
       "      <td>10.22</td>\n",
       "      <td>1.00</td>\n",
       "    </tr>\n",
       "    <tr>\n",
       "      <th>5</th>\n",
       "      <td>GB</td>\n",
       "      <td>Puzzle</td>\n",
       "      <td>23.20</td>\n",
       "      <td>2.26</td>\n",
       "      <td>4.22</td>\n",
       "      <td>0.58</td>\n",
       "    </tr>\n",
       "    <tr>\n",
       "      <th>6</th>\n",
       "      <td>DS</td>\n",
       "      <td>Platform</td>\n",
       "      <td>11.38</td>\n",
       "      <td>9.23</td>\n",
       "      <td>6.50</td>\n",
       "      <td>2.90</td>\n",
       "    </tr>\n",
       "    <tr>\n",
       "      <th>7</th>\n",
       "      <td>Wii</td>\n",
       "      <td>Misc</td>\n",
       "      <td>14.03</td>\n",
       "      <td>9.20</td>\n",
       "      <td>2.93</td>\n",
       "      <td>2.85</td>\n",
       "    </tr>\n",
       "    <tr>\n",
       "      <th>8</th>\n",
       "      <td>Wii</td>\n",
       "      <td>Platform</td>\n",
       "      <td>14.59</td>\n",
       "      <td>7.06</td>\n",
       "      <td>4.70</td>\n",
       "      <td>2.26</td>\n",
       "    </tr>\n",
       "    <tr>\n",
       "      <th>9</th>\n",
       "      <td>NES</td>\n",
       "      <td>Shooter</td>\n",
       "      <td>26.93</td>\n",
       "      <td>0.63</td>\n",
       "      <td>0.28</td>\n",
       "      <td>0.47</td>\n",
       "    </tr>\n",
       "    <tr>\n",
       "      <th>10</th>\n",
       "      <td>DS</td>\n",
       "      <td>Simulation</td>\n",
       "      <td>9.07</td>\n",
       "      <td>11.00</td>\n",
       "      <td>1.93</td>\n",
       "      <td>2.75</td>\n",
       "    </tr>\n",
       "    <tr>\n",
       "      <th>11</th>\n",
       "      <td>DS</td>\n",
       "      <td>Racing</td>\n",
       "      <td>9.81</td>\n",
       "      <td>7.57</td>\n",
       "      <td>4.13</td>\n",
       "      <td>1.92</td>\n",
       "    </tr>\n",
       "    <tr>\n",
       "      <th>12</th>\n",
       "      <td>GB</td>\n",
       "      <td>Role-Playing</td>\n",
       "      <td>9.00</td>\n",
       "      <td>6.18</td>\n",
       "      <td>7.20</td>\n",
       "      <td>0.71</td>\n",
       "    </tr>\n",
       "    <tr>\n",
       "      <th>13</th>\n",
       "      <td>Wii</td>\n",
       "      <td>Sports</td>\n",
       "      <td>8.94</td>\n",
       "      <td>8.03</td>\n",
       "      <td>3.60</td>\n",
       "      <td>2.15</td>\n",
       "    </tr>\n",
       "    <tr>\n",
       "      <th>14</th>\n",
       "      <td>Wii</td>\n",
       "      <td>Sports</td>\n",
       "      <td>9.09</td>\n",
       "      <td>8.59</td>\n",
       "      <td>2.53</td>\n",
       "      <td>1.79</td>\n",
       "    </tr>\n",
       "    <tr>\n",
       "      <th>15</th>\n",
       "      <td>X360</td>\n",
       "      <td>Misc</td>\n",
       "      <td>14.97</td>\n",
       "      <td>4.94</td>\n",
       "      <td>0.24</td>\n",
       "      <td>1.67</td>\n",
       "    </tr>\n",
       "    <tr>\n",
       "      <th>16</th>\n",
       "      <td>PS3</td>\n",
       "      <td>Action</td>\n",
       "      <td>7.01</td>\n",
       "      <td>9.27</td>\n",
       "      <td>0.97</td>\n",
       "      <td>4.14</td>\n",
       "    </tr>\n",
       "    <tr>\n",
       "      <th>17</th>\n",
       "      <td>PS2</td>\n",
       "      <td>Action</td>\n",
       "      <td>9.43</td>\n",
       "      <td>0.40</td>\n",
       "      <td>0.41</td>\n",
       "      <td>10.57</td>\n",
       "    </tr>\n",
       "    <tr>\n",
       "      <th>18</th>\n",
       "      <td>SNES</td>\n",
       "      <td>Platform</td>\n",
       "      <td>12.78</td>\n",
       "      <td>3.75</td>\n",
       "      <td>3.54</td>\n",
       "      <td>0.55</td>\n",
       "    </tr>\n",
       "    <tr>\n",
       "      <th>19</th>\n",
       "      <td>DS</td>\n",
       "      <td>Misc</td>\n",
       "      <td>4.75</td>\n",
       "      <td>9.26</td>\n",
       "      <td>4.16</td>\n",
       "      <td>2.05</td>\n",
       "    </tr>\n",
       "    <tr>\n",
       "      <th>20</th>\n",
       "      <td>DS</td>\n",
       "      <td>Role-Playing</td>\n",
       "      <td>6.42</td>\n",
       "      <td>4.52</td>\n",
       "      <td>6.04</td>\n",
       "      <td>1.37</td>\n",
       "    </tr>\n",
       "    <tr>\n",
       "      <th>21</th>\n",
       "      <td>GB</td>\n",
       "      <td>Platform</td>\n",
       "      <td>10.83</td>\n",
       "      <td>2.71</td>\n",
       "      <td>4.18</td>\n",
       "      <td>0.42</td>\n",
       "    </tr>\n",
       "    <tr>\n",
       "      <th>22</th>\n",
       "      <td>NES</td>\n",
       "      <td>Platform</td>\n",
       "      <td>9.54</td>\n",
       "      <td>3.44</td>\n",
       "      <td>3.84</td>\n",
       "      <td>0.46</td>\n",
       "    </tr>\n",
       "    <tr>\n",
       "      <th>23</th>\n",
       "      <td>X360</td>\n",
       "      <td>Action</td>\n",
       "      <td>9.63</td>\n",
       "      <td>5.31</td>\n",
       "      <td>0.06</td>\n",
       "      <td>1.38</td>\n",
       "    </tr>\n",
       "    <tr>\n",
       "      <th>24</th>\n",
       "      <td>PS2</td>\n",
       "      <td>Action</td>\n",
       "      <td>8.41</td>\n",
       "      <td>5.49</td>\n",
       "      <td>0.47</td>\n",
       "      <td>1.78</td>\n",
       "    </tr>\n",
       "    <tr>\n",
       "      <th>25</th>\n",
       "      <td>GBA</td>\n",
       "      <td>Role-Playing</td>\n",
       "      <td>6.06</td>\n",
       "      <td>3.90</td>\n",
       "      <td>5.38</td>\n",
       "      <td>0.50</td>\n",
       "    </tr>\n",
       "    <tr>\n",
       "      <th>26</th>\n",
       "      <td>DS</td>\n",
       "      <td>Role-Playing</td>\n",
       "      <td>5.57</td>\n",
       "      <td>3.28</td>\n",
       "      <td>5.65</td>\n",
       "      <td>0.82</td>\n",
       "    </tr>\n",
       "    <tr>\n",
       "      <th>27</th>\n",
       "      <td>DS</td>\n",
       "      <td>Puzzle</td>\n",
       "      <td>3.44</td>\n",
       "      <td>5.36</td>\n",
       "      <td>5.32</td>\n",
       "      <td>1.18</td>\n",
       "    </tr>\n",
       "    <tr>\n",
       "      <th>28</th>\n",
       "      <td>PS2</td>\n",
       "      <td>Racing</td>\n",
       "      <td>6.85</td>\n",
       "      <td>5.09</td>\n",
       "      <td>1.87</td>\n",
       "      <td>1.16</td>\n",
       "    </tr>\n",
       "    <tr>\n",
       "      <th>29</th>\n",
       "      <td>X360</td>\n",
       "      <td>Shooter</td>\n",
       "      <td>9.03</td>\n",
       "      <td>4.28</td>\n",
       "      <td>0.13</td>\n",
       "      <td>1.32</td>\n",
       "    </tr>\n",
       "    <tr>\n",
       "      <th>...</th>\n",
       "      <td>...</td>\n",
       "      <td>...</td>\n",
       "      <td>...</td>\n",
       "      <td>...</td>\n",
       "      <td>...</td>\n",
       "      <td>...</td>\n",
       "    </tr>\n",
       "    <tr>\n",
       "      <th>16568</th>\n",
       "      <td>PSP</td>\n",
       "      <td>Puzzle</td>\n",
       "      <td>0.00</td>\n",
       "      <td>0.00</td>\n",
       "      <td>0.01</td>\n",
       "      <td>0.00</td>\n",
       "    </tr>\n",
       "    <tr>\n",
       "      <th>16569</th>\n",
       "      <td>XOne</td>\n",
       "      <td>Shooter</td>\n",
       "      <td>0.01</td>\n",
       "      <td>0.00</td>\n",
       "      <td>0.00</td>\n",
       "      <td>0.00</td>\n",
       "    </tr>\n",
       "    <tr>\n",
       "      <th>16570</th>\n",
       "      <td>PS4</td>\n",
       "      <td>Simulation</td>\n",
       "      <td>0.00</td>\n",
       "      <td>0.01</td>\n",
       "      <td>0.00</td>\n",
       "      <td>0.00</td>\n",
       "    </tr>\n",
       "    <tr>\n",
       "      <th>16571</th>\n",
       "      <td>PSP</td>\n",
       "      <td>Adventure</td>\n",
       "      <td>0.00</td>\n",
       "      <td>0.00</td>\n",
       "      <td>0.01</td>\n",
       "      <td>0.00</td>\n",
       "    </tr>\n",
       "    <tr>\n",
       "      <th>16572</th>\n",
       "      <td>PS2</td>\n",
       "      <td>Adventure</td>\n",
       "      <td>0.00</td>\n",
       "      <td>0.00</td>\n",
       "      <td>0.01</td>\n",
       "      <td>0.00</td>\n",
       "    </tr>\n",
       "    <tr>\n",
       "      <th>16573</th>\n",
       "      <td>Wii</td>\n",
       "      <td>Racing</td>\n",
       "      <td>0.01</td>\n",
       "      <td>0.00</td>\n",
       "      <td>0.00</td>\n",
       "      <td>0.00</td>\n",
       "    </tr>\n",
       "    <tr>\n",
       "      <th>16574</th>\n",
       "      <td>Wii</td>\n",
       "      <td>Racing</td>\n",
       "      <td>0.00</td>\n",
       "      <td>0.00</td>\n",
       "      <td>0.01</td>\n",
       "      <td>0.00</td>\n",
       "    </tr>\n",
       "    <tr>\n",
       "      <th>16575</th>\n",
       "      <td>PSP</td>\n",
       "      <td>Adventure</td>\n",
       "      <td>0.00</td>\n",
       "      <td>0.00</td>\n",
       "      <td>0.01</td>\n",
       "      <td>0.00</td>\n",
       "    </tr>\n",
       "    <tr>\n",
       "      <th>16576</th>\n",
       "      <td>XOne</td>\n",
       "      <td>Sports</td>\n",
       "      <td>0.00</td>\n",
       "      <td>0.01</td>\n",
       "      <td>0.00</td>\n",
       "      <td>0.00</td>\n",
       "    </tr>\n",
       "    <tr>\n",
       "      <th>16577</th>\n",
       "      <td>PC</td>\n",
       "      <td>Shooter</td>\n",
       "      <td>0.00</td>\n",
       "      <td>0.01</td>\n",
       "      <td>0.00</td>\n",
       "      <td>0.00</td>\n",
       "    </tr>\n",
       "    <tr>\n",
       "      <th>16578</th>\n",
       "      <td>3DS</td>\n",
       "      <td>Sports</td>\n",
       "      <td>0.01</td>\n",
       "      <td>0.00</td>\n",
       "      <td>0.00</td>\n",
       "      <td>0.00</td>\n",
       "    </tr>\n",
       "    <tr>\n",
       "      <th>16579</th>\n",
       "      <td>N64</td>\n",
       "      <td>Sports</td>\n",
       "      <td>0.01</td>\n",
       "      <td>0.00</td>\n",
       "      <td>0.00</td>\n",
       "      <td>0.00</td>\n",
       "    </tr>\n",
       "    <tr>\n",
       "      <th>16580</th>\n",
       "      <td>PS2</td>\n",
       "      <td>Adventure</td>\n",
       "      <td>0.00</td>\n",
       "      <td>0.00</td>\n",
       "      <td>0.01</td>\n",
       "      <td>0.00</td>\n",
       "    </tr>\n",
       "    <tr>\n",
       "      <th>16581</th>\n",
       "      <td>Wii</td>\n",
       "      <td>Sports</td>\n",
       "      <td>0.00</td>\n",
       "      <td>0.01</td>\n",
       "      <td>0.00</td>\n",
       "      <td>0.00</td>\n",
       "    </tr>\n",
       "    <tr>\n",
       "      <th>16582</th>\n",
       "      <td>GBA</td>\n",
       "      <td>Action</td>\n",
       "      <td>0.01</td>\n",
       "      <td>0.00</td>\n",
       "      <td>0.00</td>\n",
       "      <td>0.00</td>\n",
       "    </tr>\n",
       "    <tr>\n",
       "      <th>16583</th>\n",
       "      <td>N64</td>\n",
       "      <td>Action</td>\n",
       "      <td>0.01</td>\n",
       "      <td>0.00</td>\n",
       "      <td>0.00</td>\n",
       "      <td>0.00</td>\n",
       "    </tr>\n",
       "    <tr>\n",
       "      <th>16584</th>\n",
       "      <td>GC</td>\n",
       "      <td>Puzzle</td>\n",
       "      <td>0.01</td>\n",
       "      <td>0.00</td>\n",
       "      <td>0.00</td>\n",
       "      <td>0.00</td>\n",
       "    </tr>\n",
       "    <tr>\n",
       "      <th>16585</th>\n",
       "      <td>PC</td>\n",
       "      <td>Shooter</td>\n",
       "      <td>0.01</td>\n",
       "      <td>0.00</td>\n",
       "      <td>0.00</td>\n",
       "      <td>0.00</td>\n",
       "    </tr>\n",
       "    <tr>\n",
       "      <th>16586</th>\n",
       "      <td>DS</td>\n",
       "      <td>Adventure</td>\n",
       "      <td>0.00</td>\n",
       "      <td>0.01</td>\n",
       "      <td>0.00</td>\n",
       "      <td>0.00</td>\n",
       "    </tr>\n",
       "    <tr>\n",
       "      <th>16587</th>\n",
       "      <td>DS</td>\n",
       "      <td>Sports</td>\n",
       "      <td>0.00</td>\n",
       "      <td>0.00</td>\n",
       "      <td>0.01</td>\n",
       "      <td>0.00</td>\n",
       "    </tr>\n",
       "    <tr>\n",
       "      <th>16588</th>\n",
       "      <td>DS</td>\n",
       "      <td>Puzzle</td>\n",
       "      <td>0.01</td>\n",
       "      <td>0.00</td>\n",
       "      <td>0.00</td>\n",
       "      <td>0.00</td>\n",
       "    </tr>\n",
       "    <tr>\n",
       "      <th>16589</th>\n",
       "      <td>PSV</td>\n",
       "      <td>Action</td>\n",
       "      <td>0.00</td>\n",
       "      <td>0.00</td>\n",
       "      <td>0.01</td>\n",
       "      <td>0.00</td>\n",
       "    </tr>\n",
       "    <tr>\n",
       "      <th>16590</th>\n",
       "      <td>PSP</td>\n",
       "      <td>Role-Playing</td>\n",
       "      <td>0.00</td>\n",
       "      <td>0.00</td>\n",
       "      <td>0.01</td>\n",
       "      <td>0.00</td>\n",
       "    </tr>\n",
       "    <tr>\n",
       "      <th>16591</th>\n",
       "      <td>PC</td>\n",
       "      <td>Adventure</td>\n",
       "      <td>0.01</td>\n",
       "      <td>0.00</td>\n",
       "      <td>0.00</td>\n",
       "      <td>0.00</td>\n",
       "    </tr>\n",
       "    <tr>\n",
       "      <th>16592</th>\n",
       "      <td>DS</td>\n",
       "      <td>Simulation</td>\n",
       "      <td>0.01</td>\n",
       "      <td>0.00</td>\n",
       "      <td>0.00</td>\n",
       "      <td>0.00</td>\n",
       "    </tr>\n",
       "    <tr>\n",
       "      <th>16593</th>\n",
       "      <td>GBA</td>\n",
       "      <td>Platform</td>\n",
       "      <td>0.01</td>\n",
       "      <td>0.00</td>\n",
       "      <td>0.00</td>\n",
       "      <td>0.00</td>\n",
       "    </tr>\n",
       "    <tr>\n",
       "      <th>16594</th>\n",
       "      <td>GC</td>\n",
       "      <td>Shooter</td>\n",
       "      <td>0.01</td>\n",
       "      <td>0.00</td>\n",
       "      <td>0.00</td>\n",
       "      <td>0.00</td>\n",
       "    </tr>\n",
       "    <tr>\n",
       "      <th>16595</th>\n",
       "      <td>PS2</td>\n",
       "      <td>Racing</td>\n",
       "      <td>0.00</td>\n",
       "      <td>0.00</td>\n",
       "      <td>0.00</td>\n",
       "      <td>0.00</td>\n",
       "    </tr>\n",
       "    <tr>\n",
       "      <th>16596</th>\n",
       "      <td>DS</td>\n",
       "      <td>Puzzle</td>\n",
       "      <td>0.00</td>\n",
       "      <td>0.01</td>\n",
       "      <td>0.00</td>\n",
       "      <td>0.00</td>\n",
       "    </tr>\n",
       "    <tr>\n",
       "      <th>16597</th>\n",
       "      <td>GBA</td>\n",
       "      <td>Platform</td>\n",
       "      <td>0.01</td>\n",
       "      <td>0.00</td>\n",
       "      <td>0.00</td>\n",
       "      <td>0.00</td>\n",
       "    </tr>\n",
       "  </tbody>\n",
       "</table>\n",
       "<p>16598 rows × 6 columns</p>\n",
       "</div>"
      ],
      "text/plain": [
       "      Platform         Genre  NA_Sales  EU_Sales  JP_Sales  Other_Sales\n",
       "0          Wii        Sports     41.49     29.02      3.77         8.46\n",
       "1          NES      Platform     29.08      3.58      6.81         0.77\n",
       "2          Wii        Racing     15.85     12.88      3.79         3.31\n",
       "3          Wii        Sports     15.75     11.01      3.28         2.96\n",
       "4           GB  Role-Playing     11.27      8.89     10.22         1.00\n",
       "5           GB        Puzzle     23.20      2.26      4.22         0.58\n",
       "6           DS      Platform     11.38      9.23      6.50         2.90\n",
       "7          Wii          Misc     14.03      9.20      2.93         2.85\n",
       "8          Wii      Platform     14.59      7.06      4.70         2.26\n",
       "9          NES       Shooter     26.93      0.63      0.28         0.47\n",
       "10          DS    Simulation      9.07     11.00      1.93         2.75\n",
       "11          DS        Racing      9.81      7.57      4.13         1.92\n",
       "12          GB  Role-Playing      9.00      6.18      7.20         0.71\n",
       "13         Wii        Sports      8.94      8.03      3.60         2.15\n",
       "14         Wii        Sports      9.09      8.59      2.53         1.79\n",
       "15        X360          Misc     14.97      4.94      0.24         1.67\n",
       "16         PS3        Action      7.01      9.27      0.97         4.14\n",
       "17         PS2        Action      9.43      0.40      0.41        10.57\n",
       "18        SNES      Platform     12.78      3.75      3.54         0.55\n",
       "19          DS          Misc      4.75      9.26      4.16         2.05\n",
       "20          DS  Role-Playing      6.42      4.52      6.04         1.37\n",
       "21          GB      Platform     10.83      2.71      4.18         0.42\n",
       "22         NES      Platform      9.54      3.44      3.84         0.46\n",
       "23        X360        Action      9.63      5.31      0.06         1.38\n",
       "24         PS2        Action      8.41      5.49      0.47         1.78\n",
       "25         GBA  Role-Playing      6.06      3.90      5.38         0.50\n",
       "26          DS  Role-Playing      5.57      3.28      5.65         0.82\n",
       "27          DS        Puzzle      3.44      5.36      5.32         1.18\n",
       "28         PS2        Racing      6.85      5.09      1.87         1.16\n",
       "29        X360       Shooter      9.03      4.28      0.13         1.32\n",
       "...        ...           ...       ...       ...       ...          ...\n",
       "16568      PSP        Puzzle      0.00      0.00      0.01         0.00\n",
       "16569     XOne       Shooter      0.01      0.00      0.00         0.00\n",
       "16570      PS4    Simulation      0.00      0.01      0.00         0.00\n",
       "16571      PSP     Adventure      0.00      0.00      0.01         0.00\n",
       "16572      PS2     Adventure      0.00      0.00      0.01         0.00\n",
       "16573      Wii        Racing      0.01      0.00      0.00         0.00\n",
       "16574      Wii        Racing      0.00      0.00      0.01         0.00\n",
       "16575      PSP     Adventure      0.00      0.00      0.01         0.00\n",
       "16576     XOne        Sports      0.00      0.01      0.00         0.00\n",
       "16577       PC       Shooter      0.00      0.01      0.00         0.00\n",
       "16578      3DS        Sports      0.01      0.00      0.00         0.00\n",
       "16579      N64        Sports      0.01      0.00      0.00         0.00\n",
       "16580      PS2     Adventure      0.00      0.00      0.01         0.00\n",
       "16581      Wii        Sports      0.00      0.01      0.00         0.00\n",
       "16582      GBA        Action      0.01      0.00      0.00         0.00\n",
       "16583      N64        Action      0.01      0.00      0.00         0.00\n",
       "16584       GC        Puzzle      0.01      0.00      0.00         0.00\n",
       "16585       PC       Shooter      0.01      0.00      0.00         0.00\n",
       "16586       DS     Adventure      0.00      0.01      0.00         0.00\n",
       "16587       DS        Sports      0.00      0.00      0.01         0.00\n",
       "16588       DS        Puzzle      0.01      0.00      0.00         0.00\n",
       "16589      PSV        Action      0.00      0.00      0.01         0.00\n",
       "16590      PSP  Role-Playing      0.00      0.00      0.01         0.00\n",
       "16591       PC     Adventure      0.01      0.00      0.00         0.00\n",
       "16592       DS    Simulation      0.01      0.00      0.00         0.00\n",
       "16593      GBA      Platform      0.01      0.00      0.00         0.00\n",
       "16594       GC       Shooter      0.01      0.00      0.00         0.00\n",
       "16595      PS2        Racing      0.00      0.00      0.00         0.00\n",
       "16596       DS        Puzzle      0.00      0.01      0.00         0.00\n",
       "16597      GBA      Platform      0.01      0.00      0.00         0.00\n",
       "\n",
       "[16598 rows x 6 columns]"
      ]
     },
     "execution_count": 105,
     "metadata": {},
     "output_type": "execute_result"
    }
   ],
   "source": [
    "data"
   ]
  },
  {
   "cell_type": "code",
   "execution_count": 106,
   "metadata": {},
   "outputs": [
    {
     "name": "stdout",
     "output_type": "stream",
     "text": [
      "Index(['Action', 'Adventure', 'Fighting', 'Misc', 'Platform', 'Puzzle',\n",
      "       'Racing', 'Role-Playing', 'Shooter', 'Simulation', 'Sports',\n",
      "       'Strategy'],\n",
      "      dtype='object')\n"
     ]
    }
   ],
   "source": [
    "data_nonbinary = pd.get_dummies(data['Genre'])\n",
    "print(data_nonbinary.columns)"
   ]
  },
  {
   "cell_type": "markdown",
   "metadata": {},
   "source": [
    "Векторизовали оставшийся категориальный признак."
   ]
  },
  {
   "cell_type": "markdown",
   "metadata": {},
   "source": [
    "# Нормализация количественных признаков"
   ]
  },
  {
   "cell_type": "code",
   "execution_count": 107,
   "metadata": {},
   "outputs": [
    {
     "data": {
      "text/html": [
       "<div>\n",
       "<style>\n",
       "    .dataframe thead tr:only-child th {\n",
       "        text-align: right;\n",
       "    }\n",
       "\n",
       "    .dataframe thead th {\n",
       "        text-align: left;\n",
       "    }\n",
       "\n",
       "    .dataframe tbody tr th {\n",
       "        vertical-align: top;\n",
       "    }\n",
       "</style>\n",
       "<table border=\"1\" class=\"dataframe\">\n",
       "  <thead>\n",
       "    <tr style=\"text-align: right;\">\n",
       "      <th></th>\n",
       "      <th>NA_Sales</th>\n",
       "      <th>EU_Sales</th>\n",
       "      <th>JP_Sales</th>\n",
       "      <th>Other_Sales</th>\n",
       "    </tr>\n",
       "  </thead>\n",
       "  <tbody>\n",
       "    <tr>\n",
       "      <th>count</th>\n",
       "      <td>16598.000000</td>\n",
       "      <td>16598.000000</td>\n",
       "      <td>16598.000000</td>\n",
       "      <td>16598.000000</td>\n",
       "    </tr>\n",
       "    <tr>\n",
       "      <th>mean</th>\n",
       "      <td>0.264667</td>\n",
       "      <td>0.146652</td>\n",
       "      <td>0.077782</td>\n",
       "      <td>0.048063</td>\n",
       "    </tr>\n",
       "    <tr>\n",
       "      <th>std</th>\n",
       "      <td>0.816683</td>\n",
       "      <td>0.505351</td>\n",
       "      <td>0.309291</td>\n",
       "      <td>0.188588</td>\n",
       "    </tr>\n",
       "    <tr>\n",
       "      <th>min</th>\n",
       "      <td>0.000000</td>\n",
       "      <td>0.000000</td>\n",
       "      <td>0.000000</td>\n",
       "      <td>0.000000</td>\n",
       "    </tr>\n",
       "    <tr>\n",
       "      <th>25%</th>\n",
       "      <td>0.000000</td>\n",
       "      <td>0.000000</td>\n",
       "      <td>0.000000</td>\n",
       "      <td>0.000000</td>\n",
       "    </tr>\n",
       "    <tr>\n",
       "      <th>50%</th>\n",
       "      <td>0.080000</td>\n",
       "      <td>0.020000</td>\n",
       "      <td>0.000000</td>\n",
       "      <td>0.010000</td>\n",
       "    </tr>\n",
       "    <tr>\n",
       "      <th>75%</th>\n",
       "      <td>0.240000</td>\n",
       "      <td>0.110000</td>\n",
       "      <td>0.040000</td>\n",
       "      <td>0.040000</td>\n",
       "    </tr>\n",
       "    <tr>\n",
       "      <th>max</th>\n",
       "      <td>41.490000</td>\n",
       "      <td>29.020000</td>\n",
       "      <td>10.220000</td>\n",
       "      <td>10.570000</td>\n",
       "    </tr>\n",
       "  </tbody>\n",
       "</table>\n",
       "</div>"
      ],
      "text/plain": [
       "           NA_Sales      EU_Sales      JP_Sales   Other_Sales\n",
       "count  16598.000000  16598.000000  16598.000000  16598.000000\n",
       "mean       0.264667      0.146652      0.077782      0.048063\n",
       "std        0.816683      0.505351      0.309291      0.188588\n",
       "min        0.000000      0.000000      0.000000      0.000000\n",
       "25%        0.000000      0.000000      0.000000      0.000000\n",
       "50%        0.080000      0.020000      0.000000      0.010000\n",
       "75%        0.240000      0.110000      0.040000      0.040000\n",
       "max       41.490000     29.020000     10.220000     10.570000"
      ]
     },
     "execution_count": 107,
     "metadata": {},
     "output_type": "execute_result"
    }
   ],
   "source": [
    "data_numerical = data[numerical_columns]\n",
    "data_numerical.describe()"
   ]
  },
  {
   "cell_type": "code",
   "execution_count": 108,
   "metadata": {},
   "outputs": [
    {
     "data": {
      "text/html": [
       "<div>\n",
       "<style>\n",
       "    .dataframe thead tr:only-child th {\n",
       "        text-align: right;\n",
       "    }\n",
       "\n",
       "    .dataframe thead th {\n",
       "        text-align: left;\n",
       "    }\n",
       "\n",
       "    .dataframe tbody tr th {\n",
       "        vertical-align: top;\n",
       "    }\n",
       "</style>\n",
       "<table border=\"1\" class=\"dataframe\">\n",
       "  <thead>\n",
       "    <tr style=\"text-align: right;\">\n",
       "      <th></th>\n",
       "      <th>NA_Sales</th>\n",
       "      <th>EU_Sales</th>\n",
       "      <th>JP_Sales</th>\n",
       "      <th>Other_Sales</th>\n",
       "    </tr>\n",
       "  </thead>\n",
       "  <tbody>\n",
       "    <tr>\n",
       "      <th>count</th>\n",
       "      <td>1.659800e+04</td>\n",
       "      <td>1.659800e+04</td>\n",
       "      <td>1.659800e+04</td>\n",
       "      <td>1.659800e+04</td>\n",
       "    </tr>\n",
       "    <tr>\n",
       "      <th>mean</th>\n",
       "      <td>-3.145335e-14</td>\n",
       "      <td>-6.160151e-14</td>\n",
       "      <td>1.270088e-14</td>\n",
       "      <td>4.582867e-14</td>\n",
       "    </tr>\n",
       "    <tr>\n",
       "      <th>std</th>\n",
       "      <td>1.000000e+00</td>\n",
       "      <td>1.000000e+00</td>\n",
       "      <td>1.000000e+00</td>\n",
       "      <td>1.000000e+00</td>\n",
       "    </tr>\n",
       "    <tr>\n",
       "      <th>min</th>\n",
       "      <td>-3.240761e-01</td>\n",
       "      <td>-2.901982e-01</td>\n",
       "      <td>-2.514840e-01</td>\n",
       "      <td>-2.548567e-01</td>\n",
       "    </tr>\n",
       "    <tr>\n",
       "      <th>25%</th>\n",
       "      <td>-3.240761e-01</td>\n",
       "      <td>-2.901982e-01</td>\n",
       "      <td>-2.514840e-01</td>\n",
       "      <td>-2.548567e-01</td>\n",
       "    </tr>\n",
       "    <tr>\n",
       "      <th>50%</th>\n",
       "      <td>-2.261189e-01</td>\n",
       "      <td>-2.506217e-01</td>\n",
       "      <td>-2.514840e-01</td>\n",
       "      <td>-2.018312e-01</td>\n",
       "    </tr>\n",
       "    <tr>\n",
       "      <th>75%</th>\n",
       "      <td>-3.020441e-02</td>\n",
       "      <td>-7.252779e-02</td>\n",
       "      <td>-1.221558e-01</td>\n",
       "      <td>-4.275459e-02</td>\n",
       "    </tr>\n",
       "    <tr>\n",
       "      <th>max</th>\n",
       "      <td>5.047899e+01</td>\n",
       "      <td>5.713521e+01</td>\n",
       "      <td>3.279187e+01</td>\n",
       "      <td>5.579313e+01</td>\n",
       "    </tr>\n",
       "  </tbody>\n",
       "</table>\n",
       "</div>"
      ],
      "text/plain": [
       "           NA_Sales      EU_Sales      JP_Sales   Other_Sales\n",
       "count  1.659800e+04  1.659800e+04  1.659800e+04  1.659800e+04\n",
       "mean  -3.145335e-14 -6.160151e-14  1.270088e-14  4.582867e-14\n",
       "std    1.000000e+00  1.000000e+00  1.000000e+00  1.000000e+00\n",
       "min   -3.240761e-01 -2.901982e-01 -2.514840e-01 -2.548567e-01\n",
       "25%   -3.240761e-01 -2.901982e-01 -2.514840e-01 -2.548567e-01\n",
       "50%   -2.261189e-01 -2.506217e-01 -2.514840e-01 -2.018312e-01\n",
       "75%   -3.020441e-02 -7.252779e-02 -1.221558e-01 -4.275459e-02\n",
       "max    5.047899e+01  5.713521e+01  3.279187e+01  5.579313e+01"
      ]
     },
     "execution_count": 108,
     "metadata": {},
     "output_type": "execute_result"
    }
   ],
   "source": [
    "data_numerical = (data_numerical - data_numerical.mean(axis = 0))/data_numerical.std(axis = 0)\n",
    "data_numerical.describe()"
   ]
  },
  {
   "cell_type": "code",
   "execution_count": 109,
   "metadata": {},
   "outputs": [
    {
     "name": "stdout",
     "output_type": "stream",
     "text": [
      "(16598, 16)\n"
     ]
    }
   ],
   "source": [
    "data = pd.concat((data_numerical, data_nonbinary, data[binary_columns]), axis = 1)\n",
    "print(data.shape)"
   ]
  },
  {
   "cell_type": "code",
   "execution_count": 110,
   "metadata": {},
   "outputs": [
    {
     "data": {
      "text/html": [
       "<div>\n",
       "<style>\n",
       "    .dataframe thead tr:only-child th {\n",
       "        text-align: right;\n",
       "    }\n",
       "\n",
       "    .dataframe thead th {\n",
       "        text-align: left;\n",
       "    }\n",
       "\n",
       "    .dataframe tbody tr th {\n",
       "        vertical-align: top;\n",
       "    }\n",
       "</style>\n",
       "<table border=\"1\" class=\"dataframe\">\n",
       "  <thead>\n",
       "    <tr style=\"text-align: right;\">\n",
       "      <th></th>\n",
       "      <th>NA_Sales</th>\n",
       "      <th>EU_Sales</th>\n",
       "      <th>JP_Sales</th>\n",
       "      <th>Other_Sales</th>\n",
       "      <th>Action</th>\n",
       "      <th>Adventure</th>\n",
       "      <th>Fighting</th>\n",
       "      <th>Misc</th>\n",
       "      <th>Platform</th>\n",
       "      <th>Puzzle</th>\n",
       "      <th>Racing</th>\n",
       "      <th>Role-Playing</th>\n",
       "      <th>Shooter</th>\n",
       "      <th>Simulation</th>\n",
       "      <th>Sports</th>\n",
       "      <th>Strategy</th>\n",
       "    </tr>\n",
       "  </thead>\n",
       "  <tbody>\n",
       "    <tr>\n",
       "      <th>count</th>\n",
       "      <td>1.659800e+04</td>\n",
       "      <td>1.659800e+04</td>\n",
       "      <td>1.659800e+04</td>\n",
       "      <td>1.659800e+04</td>\n",
       "      <td>16598.000000</td>\n",
       "      <td>16598.000000</td>\n",
       "      <td>16598.000000</td>\n",
       "      <td>16598.000000</td>\n",
       "      <td>16598.000000</td>\n",
       "      <td>16598.000000</td>\n",
       "      <td>16598.000000</td>\n",
       "      <td>16598.000000</td>\n",
       "      <td>16598.000000</td>\n",
       "      <td>16598.000000</td>\n",
       "      <td>16598.000000</td>\n",
       "      <td>16598.000000</td>\n",
       "    </tr>\n",
       "    <tr>\n",
       "      <th>mean</th>\n",
       "      <td>-3.145335e-14</td>\n",
       "      <td>-6.160151e-14</td>\n",
       "      <td>1.270088e-14</td>\n",
       "      <td>4.582867e-14</td>\n",
       "      <td>0.199783</td>\n",
       "      <td>0.077479</td>\n",
       "      <td>0.051090</td>\n",
       "      <td>0.104772</td>\n",
       "      <td>0.053380</td>\n",
       "      <td>0.035064</td>\n",
       "      <td>0.075250</td>\n",
       "      <td>0.089649</td>\n",
       "      <td>0.078925</td>\n",
       "      <td>0.052235</td>\n",
       "      <td>0.141342</td>\n",
       "      <td>0.041029</td>\n",
       "    </tr>\n",
       "    <tr>\n",
       "      <th>std</th>\n",
       "      <td>1.000000e+00</td>\n",
       "      <td>1.000000e+00</td>\n",
       "      <td>1.000000e+00</td>\n",
       "      <td>1.000000e+00</td>\n",
       "      <td>0.399849</td>\n",
       "      <td>0.267358</td>\n",
       "      <td>0.220189</td>\n",
       "      <td>0.306268</td>\n",
       "      <td>0.224797</td>\n",
       "      <td>0.183948</td>\n",
       "      <td>0.263802</td>\n",
       "      <td>0.285687</td>\n",
       "      <td>0.269630</td>\n",
       "      <td>0.222508</td>\n",
       "      <td>0.348385</td>\n",
       "      <td>0.198363</td>\n",
       "    </tr>\n",
       "    <tr>\n",
       "      <th>min</th>\n",
       "      <td>-3.240761e-01</td>\n",
       "      <td>-2.901982e-01</td>\n",
       "      <td>-2.514840e-01</td>\n",
       "      <td>-2.548567e-01</td>\n",
       "      <td>0.000000</td>\n",
       "      <td>0.000000</td>\n",
       "      <td>0.000000</td>\n",
       "      <td>0.000000</td>\n",
       "      <td>0.000000</td>\n",
       "      <td>0.000000</td>\n",
       "      <td>0.000000</td>\n",
       "      <td>0.000000</td>\n",
       "      <td>0.000000</td>\n",
       "      <td>0.000000</td>\n",
       "      <td>0.000000</td>\n",
       "      <td>0.000000</td>\n",
       "    </tr>\n",
       "    <tr>\n",
       "      <th>25%</th>\n",
       "      <td>-3.240761e-01</td>\n",
       "      <td>-2.901982e-01</td>\n",
       "      <td>-2.514840e-01</td>\n",
       "      <td>-2.548567e-01</td>\n",
       "      <td>0.000000</td>\n",
       "      <td>0.000000</td>\n",
       "      <td>0.000000</td>\n",
       "      <td>0.000000</td>\n",
       "      <td>0.000000</td>\n",
       "      <td>0.000000</td>\n",
       "      <td>0.000000</td>\n",
       "      <td>0.000000</td>\n",
       "      <td>0.000000</td>\n",
       "      <td>0.000000</td>\n",
       "      <td>0.000000</td>\n",
       "      <td>0.000000</td>\n",
       "    </tr>\n",
       "    <tr>\n",
       "      <th>50%</th>\n",
       "      <td>-2.261189e-01</td>\n",
       "      <td>-2.506217e-01</td>\n",
       "      <td>-2.514840e-01</td>\n",
       "      <td>-2.018312e-01</td>\n",
       "      <td>0.000000</td>\n",
       "      <td>0.000000</td>\n",
       "      <td>0.000000</td>\n",
       "      <td>0.000000</td>\n",
       "      <td>0.000000</td>\n",
       "      <td>0.000000</td>\n",
       "      <td>0.000000</td>\n",
       "      <td>0.000000</td>\n",
       "      <td>0.000000</td>\n",
       "      <td>0.000000</td>\n",
       "      <td>0.000000</td>\n",
       "      <td>0.000000</td>\n",
       "    </tr>\n",
       "    <tr>\n",
       "      <th>75%</th>\n",
       "      <td>-3.020441e-02</td>\n",
       "      <td>-7.252779e-02</td>\n",
       "      <td>-1.221558e-01</td>\n",
       "      <td>-4.275459e-02</td>\n",
       "      <td>0.000000</td>\n",
       "      <td>0.000000</td>\n",
       "      <td>0.000000</td>\n",
       "      <td>0.000000</td>\n",
       "      <td>0.000000</td>\n",
       "      <td>0.000000</td>\n",
       "      <td>0.000000</td>\n",
       "      <td>0.000000</td>\n",
       "      <td>0.000000</td>\n",
       "      <td>0.000000</td>\n",
       "      <td>0.000000</td>\n",
       "      <td>0.000000</td>\n",
       "    </tr>\n",
       "    <tr>\n",
       "      <th>max</th>\n",
       "      <td>5.047899e+01</td>\n",
       "      <td>5.713521e+01</td>\n",
       "      <td>3.279187e+01</td>\n",
       "      <td>5.579313e+01</td>\n",
       "      <td>1.000000</td>\n",
       "      <td>1.000000</td>\n",
       "      <td>1.000000</td>\n",
       "      <td>1.000000</td>\n",
       "      <td>1.000000</td>\n",
       "      <td>1.000000</td>\n",
       "      <td>1.000000</td>\n",
       "      <td>1.000000</td>\n",
       "      <td>1.000000</td>\n",
       "      <td>1.000000</td>\n",
       "      <td>1.000000</td>\n",
       "      <td>1.000000</td>\n",
       "    </tr>\n",
       "  </tbody>\n",
       "</table>\n",
       "</div>"
      ],
      "text/plain": [
       "           NA_Sales      EU_Sales      JP_Sales   Other_Sales        Action  \\\n",
       "count  1.659800e+04  1.659800e+04  1.659800e+04  1.659800e+04  16598.000000   \n",
       "mean  -3.145335e-14 -6.160151e-14  1.270088e-14  4.582867e-14      0.199783   \n",
       "std    1.000000e+00  1.000000e+00  1.000000e+00  1.000000e+00      0.399849   \n",
       "min   -3.240761e-01 -2.901982e-01 -2.514840e-01 -2.548567e-01      0.000000   \n",
       "25%   -3.240761e-01 -2.901982e-01 -2.514840e-01 -2.548567e-01      0.000000   \n",
       "50%   -2.261189e-01 -2.506217e-01 -2.514840e-01 -2.018312e-01      0.000000   \n",
       "75%   -3.020441e-02 -7.252779e-02 -1.221558e-01 -4.275459e-02      0.000000   \n",
       "max    5.047899e+01  5.713521e+01  3.279187e+01  5.579313e+01      1.000000   \n",
       "\n",
       "          Adventure      Fighting          Misc      Platform        Puzzle  \\\n",
       "count  16598.000000  16598.000000  16598.000000  16598.000000  16598.000000   \n",
       "mean       0.077479      0.051090      0.104772      0.053380      0.035064   \n",
       "std        0.267358      0.220189      0.306268      0.224797      0.183948   \n",
       "min        0.000000      0.000000      0.000000      0.000000      0.000000   \n",
       "25%        0.000000      0.000000      0.000000      0.000000      0.000000   \n",
       "50%        0.000000      0.000000      0.000000      0.000000      0.000000   \n",
       "75%        0.000000      0.000000      0.000000      0.000000      0.000000   \n",
       "max        1.000000      1.000000      1.000000      1.000000      1.000000   \n",
       "\n",
       "             Racing  Role-Playing       Shooter    Simulation        Sports  \\\n",
       "count  16598.000000  16598.000000  16598.000000  16598.000000  16598.000000   \n",
       "mean       0.075250      0.089649      0.078925      0.052235      0.141342   \n",
       "std        0.263802      0.285687      0.269630      0.222508      0.348385   \n",
       "min        0.000000      0.000000      0.000000      0.000000      0.000000   \n",
       "25%        0.000000      0.000000      0.000000      0.000000      0.000000   \n",
       "50%        0.000000      0.000000      0.000000      0.000000      0.000000   \n",
       "75%        0.000000      0.000000      0.000000      0.000000      0.000000   \n",
       "max        1.000000      1.000000      1.000000      1.000000      1.000000   \n",
       "\n",
       "           Strategy  \n",
       "count  16598.000000  \n",
       "mean       0.041029  \n",
       "std        0.198363  \n",
       "min        0.000000  \n",
       "25%        0.000000  \n",
       "50%        0.000000  \n",
       "75%        0.000000  \n",
       "max        1.000000  "
      ]
     },
     "execution_count": 110,
     "metadata": {},
     "output_type": "execute_result"
    }
   ],
   "source": [
    "data.describe()"
   ]
  },
  {
   "cell_type": "markdown",
   "metadata": {},
   "source": [
    "Здесь мы объединили данные в одну таблицу"
   ]
  },
  {
   "cell_type": "code",
   "execution_count": 111,
   "metadata": {
    "collapsed": true
   },
   "outputs": [],
   "source": [
    "X = data\n",
    "feature_names = X.columns"
   ]
  },
  {
   "cell_type": "code",
   "execution_count": 112,
   "metadata": {},
   "outputs": [
    {
     "data": {
      "text/plain": [
       "pandas.core.indexes.base.Index"
      ]
     },
     "execution_count": 112,
     "metadata": {},
     "output_type": "execute_result"
    }
   ],
   "source": [
    "type(feature_names)"
   ]
  },
  {
   "cell_type": "code",
   "execution_count": 113,
   "metadata": {},
   "outputs": [
    {
     "data": {
      "text/plain": [
       "Index(['NA_Sales', 'EU_Sales', 'JP_Sales', 'Other_Sales', 'Action',\n",
       "       'Adventure', 'Fighting', 'Misc', 'Platform', 'Puzzle', 'Racing',\n",
       "       'Role-Playing', 'Shooter', 'Simulation', 'Sports', 'Strategy'],\n",
       "      dtype='object')"
      ]
     },
     "execution_count": 113,
     "metadata": {},
     "output_type": "execute_result"
    }
   ],
   "source": [
    "feature_names"
   ]
  },
  {
   "cell_type": "code",
   "execution_count": 114,
   "metadata": {},
   "outputs": [
    {
     "name": "stdout",
     "output_type": "stream",
     "text": [
      "(16598, 16)\n",
      "(16598,)\n"
     ]
    }
   ],
   "source": [
    "print(X.shape)\n",
    "print(y.shape)\n",
    "N, d = X.shape"
   ]
  },
  {
   "cell_type": "code",
   "execution_count": 115,
   "metadata": {},
   "outputs": [
    {
     "data": {
      "text/plain": [
       "numpy.ndarray"
      ]
     },
     "execution_count": 115,
     "metadata": {},
     "output_type": "execute_result"
    }
   ],
   "source": [
    "type(y)"
   ]
  },
  {
   "cell_type": "code",
   "execution_count": 116,
   "metadata": {},
   "outputs": [
    {
     "name": "stdout",
     "output_type": "stream",
     "text": [
      "11618 4980\n"
     ]
    }
   ],
   "source": [
    "from sklearn.model_selection import train_test_split\n",
    "X_train, X_test, y_train, y_test = train_test_split(X, y, test_size = 0.3, random_state = 1)\n",
    "\n",
    "N_train, _ = X_train.shape \n",
    "N_test,  _ = X_test.shape \n",
    "\n",
    "print(N_train, N_test)"
   ]
  },
  {
   "cell_type": "markdown",
   "metadata": {},
   "source": [
    "# KNN"
   ]
  },
  {
   "cell_type": "markdown",
   "metadata": {},
   "source": [
    "Выберем количество соседей равным, например, 5."
   ]
  },
  {
   "cell_type": "code",
   "execution_count": 117,
   "metadata": {},
   "outputs": [
    {
     "data": {
      "text/plain": [
       "KNeighborsClassifier(algorithm='auto', leaf_size=30, metric='minkowski',\n",
       "           metric_params=None, n_jobs=1, n_neighbors=5, p=2,\n",
       "           weights='uniform')"
      ]
     },
     "execution_count": 117,
     "metadata": {},
     "output_type": "execute_result"
    }
   ],
   "source": [
    "import numpy as np\n",
    "from sklearn.neighbors import KNeighborsClassifier\n",
    "\n",
    "knn = KNeighborsClassifier(n_neighbors = 5)\n",
    "knn.fit(X_train, y_train)"
   ]
  },
  {
   "cell_type": "code",
   "execution_count": 118,
   "metadata": {},
   "outputs": [
    {
     "data": {
      "text/plain": [
       "(0.0089516267860216912, 0.01566265060240964)"
      ]
     },
     "execution_count": 118,
     "metadata": {},
     "output_type": "execute_result"
    }
   ],
   "source": [
    "knn\n",
    "y_train_predict = knn.predict(X_train)\n",
    "y_test_predict = knn.predict(X_test)   \n",
    "err_train = np.mean(y_train != y_train_predict)\n",
    "err_test  = np.mean(y_test != y_test_predict)\n",
    "err_train, err_test"
   ]
  },
  {
   "cell_type": "markdown",
   "metadata": {},
   "source": [
    "Посмотрели значение ошибки для обучающей и тестовой выборки."
   ]
  },
  {
   "cell_type": "code",
   "execution_count": 119,
   "metadata": {},
   "outputs": [
    {
     "data": {
      "text/plain": [
       "0.015662650602409678"
      ]
     },
     "execution_count": 119,
     "metadata": {},
     "output_type": "execute_result"
    }
   ],
   "source": [
    "err_test = 1 - knn.score(X_test, y_test)\n",
    "err_test"
   ]
  },
  {
   "cell_type": "markdown",
   "metadata": {},
   "source": [
    "Теперь другим способом."
   ]
  },
  {
   "cell_type": "code",
   "execution_count": 120,
   "metadata": {},
   "outputs": [
    {
     "name": "stdout",
     "output_type": "stream",
     "text": [
      "[[3761   20]\n",
      " [  58 1141]]\n"
     ]
    }
   ],
   "source": [
    "from sklearn.metrics import confusion_matrix\n",
    "\n",
    "print(confusion_matrix(y_test, y_test_predict))"
   ]
  },
  {
   "cell_type": "markdown",
   "metadata": {},
   "source": [
    "Матрица ошибок. Так нагляднее."
   ]
  },
  {
   "cell_type": "markdown",
   "metadata": {},
   "source": [
    "# Подбор параметров"
   ]
  },
  {
   "cell_type": "markdown",
   "metadata": {},
   "source": [
    "Попробуем подобрать число соседей, для которых алгоритм будет работать лучше."
   ]
  },
  {
   "cell_type": "code",
   "execution_count": 121,
   "metadata": {},
   "outputs": [
    {
     "name": "stdout",
     "output_type": "stream",
     "text": [
      "0.0146324668618 1\n"
     ]
    }
   ],
   "source": [
    "from sklearn.model_selection import GridSearchCV\n",
    "another_k = [1,2,3,5,7,9,11,15,20,35,55]\n",
    "knn = KNeighborsClassifier()\n",
    "grid = GridSearchCV(knn, param_grid = {'n_neighbors': another_k}, cv=10)\n",
    "grid.fit(X_train, y_train)\n",
    "\n",
    "best_cv_err = 1 - grid.best_score_\n",
    "best_n_neighbors = grid.best_estimator_.n_neighbors\n",
    "print(best_cv_err, best_n_neighbors)"
   ]
  },
  {
   "cell_type": "markdown",
   "metadata": {},
   "source": [
    "Получилось, что лучший случай с одним соседом. "
   ]
  },
  {
   "cell_type": "code",
   "execution_count": 122,
   "metadata": {},
   "outputs": [
    {
     "name": "stdout",
     "output_type": "stream",
     "text": [
      "0.000258220003443 0.0178714859438\n"
     ]
    }
   ],
   "source": [
    "knn = KNeighborsClassifier(n_neighbors = best_n_neighbors).fit(X_train, y_train)\n",
    "\n",
    "err_train = np.mean(y_train != knn.predict(X_train))\n",
    "err_test  = np.mean(y_test  != knn.predict(X_test))\n",
    "\n",
    "print(err_train, err_test)"
   ]
  },
  {
   "cell_type": "markdown",
   "metadata": {},
   "source": [
    "\n",
    "\n",
    "# Конец"
   ]
  },
  {
   "cell_type": "markdown",
   "metadata": {},
   "source": [
    "# Домашняя работа 2"
   ]
  },
  {
   "cell_type": "markdown",
   "metadata": {},
   "source": [
    "На исходном наборе данных решим задачу классификации (Определение пола команды) при помощи нейронных сетей\n",
    "\n",
    "Разбиваем данные на обучающую и тестовую выборки. Тестовая выборка содержит 33% данных"
   ]
  },
  {
   "cell_type": "code",
   "execution_count": 123,
   "metadata": {
    "collapsed": true
   },
   "outputs": [],
   "source": [
    "from sklearn.model_selection import train_test_split\n",
    "X_train, X_test, y_train, y_testimport = train_test_split(X, y, test_size = 0.33, random_state = 5)\n",
    "N_test, _ = X_test.shape"
   ]
  },
  {
   "cell_type": "markdown",
   "metadata": {},
   "source": [
    "\n",
    "Обучаем MLP классификатор с 1 скрытым слоем из 2 нейронов, активационная функция - логистическая сигмоидальная"
   ]
  },
  {
   "cell_type": "code",
   "execution_count": 124,
   "metadata": {},
   "outputs": [
    {
     "data": {
      "text/plain": [
       "MLPClassifier(activation='logistic', alpha=0.0001, batch_size='auto',\n",
       "       beta_1=0.9, beta_2=0.999, early_stopping=False, epsilon=1e-08,\n",
       "       hidden_layer_sizes=2, learning_rate='constant',\n",
       "       learning_rate_init=0.001, max_iter=200, momentum=0.9,\n",
       "       nesterovs_momentum=True, power_t=0.5, random_state=5, shuffle=True,\n",
       "       solver='lbfgs', tol=0.0001, validation_fraction=0.1, verbose=False,\n",
       "       warm_start=False)"
      ]
     },
     "execution_count": 124,
     "metadata": {},
     "output_type": "execute_result"
    }
   ],
   "source": [
    "from sklearn.neural_network import MLPClassifier\n",
    "mlp_model = MLPClassifier(hidden_layer_sizes = (2), solver = 'lbfgs', activation = 'logistic', random_state = 5)\n",
    "mlp_model.fit(X_train, y_train)"
   ]
  },
  {
   "cell_type": "markdown",
   "metadata": {},
   "source": [
    "1. hidden_layer_sizes - показывает количество нейронов на скрытом слое\n",
    "2. solver (Определение из документации) - The solver for weight optimization.\n",
    "‘lbfgs’ is an optimizer in the family of quasi-Newton methods.\n",
    "‘sgd’ refers to stochastic gradient descent.\n",
    "‘adam’ refers to a stochastic gradient-based optimizer proposed by Kingma, Diederik, and Jimmy Ba\n",
    "3. activation - функция активации для скрытых слоев\n",
    "‘identity’ - f(x) = x\n",
    "‘logistic’ - f(x) = 1 / (1 + exp(-x))\n",
    "‘tanh’ - f(x) = tanh(x)\n",
    "‘relu’, - f(x) = max(0, x)\n",
    "4. random_state (Определение из документации)\n",
    "If int, random_state is the seed used by the random number generator\n",
    "If RandomState instance, random_state is the random number generator\n",
    "If None, the random number generator is the RandomState instance used by np.random."
   ]
  },
  {
   "cell_type": "markdown",
   "metadata": {},
   "source": [
    "\n",
    "Проверяем качество классификатора по величине ошибки"
   ]
  },
  {
   "cell_type": "code",
   "execution_count": 127,
   "metadata": {
    "collapsed": true
   },
   "outputs": [],
   "source": [
    "def errors(x):\n",
    "    true_arg = 0\n",
    "    for i in x:\n",
    "        true_arg += 1 if i else 0\n",
    "    return true_arg / len(x)"
   ]
  },
  {
   "cell_type": "code",
   "execution_count": 129,
   "metadata": {},
   "outputs": [
    {
     "data": {
      "text/plain": [
       "(0.0007194244604316547, 0.3755020080321285)"
      ]
     },
     "execution_count": 129,
     "metadata": {},
     "output_type": "execute_result"
    }
   ],
   "source": [
    "y_train_pred = mlp_model.predict(X_train)\n",
    "y_test_pred = mlp_model.predict(X_test)\n",
    "my_mean = lambda x, y: [x[i] != y[i] for i in range(len(x))]\n",
    "err_train = errors(my_mean(y_train, y_train_pred))\n",
    "err_test = errors(my_mean(y_test, y_test_pred))\n",
    "err_train, err_test"
   ]
  },
  {
   "cell_type": "markdown",
   "metadata": {},
   "source": [
    "Наблюдается ситуация переобучения, так как ошибка на тестовой выборке больше ошибки на обучающей выборке."
   ]
  },
  {
   "cell_type": "markdown",
   "metadata": {},
   "source": [
    "\n",
    "Для решения проблемы переобучения увеличим число нейронов в скрытом слое:"
   ]
  },
  {
   "cell_type": "code",
   "execution_count": 130,
   "metadata": {},
   "outputs": [
    {
     "data": {
      "text/plain": [
       "MLPClassifier(activation='logistic', alpha=0.0001, batch_size='auto',\n",
       "       beta_1=0.9, beta_2=0.999, early_stopping=False, epsilon=1e-08,\n",
       "       hidden_layer_sizes=6, learning_rate='constant',\n",
       "       learning_rate_init=0.001, max_iter=200, momentum=0.9,\n",
       "       nesterovs_momentum=True, power_t=0.5, random_state=5, shuffle=True,\n",
       "       solver='lbfgs', tol=0.0001, validation_fraction=0.1, verbose=False,\n",
       "       warm_start=False)"
      ]
     },
     "execution_count": 130,
     "metadata": {},
     "output_type": "execute_result"
    }
   ],
   "source": [
    "mlp_model = MLPClassifier(hidden_layer_sizes = (6), solver = 'lbfgs', activation = 'logistic', random_state = 5)\n",
    "mlp_model.fit(X_train, y_train)"
   ]
  },
  {
   "cell_type": "markdown",
   "metadata": {},
   "source": [
    "И проверим значения ошибок повторно:"
   ]
  },
  {
   "cell_type": "code",
   "execution_count": 131,
   "metadata": {},
   "outputs": [
    {
     "data": {
      "text/plain": [
       "(0.0009892086330935252, 0.3759036144578313)"
      ]
     },
     "execution_count": 131,
     "metadata": {},
     "output_type": "execute_result"
    }
   ],
   "source": [
    "y_train_pred = mlp_model.predict(X_train)\n",
    "y_test_pred = mlp_model.predict(X_test)\n",
    "err_train = 0\n",
    "err_test = 0\n",
    "err_train = errors(my_mean(y_train, y_train_pred))\n",
    "err_test = errors(my_mean(y_test, y_test_pred))\n",
    "err_train, err_test"
   ]
  },
  {
   "cell_type": "markdown",
   "metadata": {},
   "source": [
    "Ошибки увеличились"
   ]
  },
  {
   "cell_type": "markdown",
   "metadata": {},
   "source": [
    "\n",
    "Также, попробуем увеличить число скрытых слоев нейронной сети. Рассмотрим нейронную сеть с двумя скрытыми слоями, количество нейронов в первом слое равно 5, во втором - 7"
   ]
  },
  {
   "cell_type": "code",
   "execution_count": 132,
   "metadata": {},
   "outputs": [
    {
     "data": {
      "text/plain": [
       "MLPClassifier(activation='logistic', alpha=0.0001, batch_size='auto',\n",
       "       beta_1=0.9, beta_2=0.999, early_stopping=False, epsilon=1e-08,\n",
       "       hidden_layer_sizes=(5, 7), learning_rate='constant',\n",
       "       learning_rate_init=0.001, max_iter=200, momentum=0.9,\n",
       "       nesterovs_momentum=True, power_t=0.5, random_state=5, shuffle=True,\n",
       "       solver='lbfgs', tol=0.0001, validation_fraction=0.1, verbose=False,\n",
       "       warm_start=False)"
      ]
     },
     "execution_count": 132,
     "metadata": {},
     "output_type": "execute_result"
    }
   ],
   "source": [
    "\n",
    "from sklearn.neural_network import MLPClassifier\n",
    "mlp_model = MLPClassifier(hidden_layer_sizes = (5, 7), solver = 'lbfgs', activation = 'logistic', random_state = 5)\n",
    "mlp_model.fit(X_train, y_train)"
   ]
  },
  {
   "cell_type": "code",
   "execution_count": 133,
   "metadata": {},
   "outputs": [
    {
     "data": {
      "text/plain": [
       "(0.0004496402877697842, 0.3757028112449799)"
      ]
     },
     "execution_count": 133,
     "metadata": {},
     "output_type": "execute_result"
    }
   ],
   "source": [
    "y_train_pred = mlp_model.predict(X_train)\n",
    "y_test_pred = mlp_model.predict(X_test)\n",
    "err_train = errors(my_mean(y_train, y_train_pred))\n",
    "err_test = errors(my_mean(y_test, y_test_pred))\n",
    "err_train, err_test"
   ]
  },
  {
   "cell_type": "markdown",
   "metadata": {},
   "source": [
    "Таким образом, можем заключить, что в данной задаче проблема переобучения возникает при уменьшении числа нейронов."
   ]
  },
  {
   "cell_type": "markdown",
   "metadata": {},
   "source": [
    "# Подбор гиперпараметров\n",
    "Подберем оптимальное значение параметра регуляризации alpha"
   ]
  },
  {
   "cell_type": "code",
   "execution_count": 134,
   "metadata": {
    "collapsed": true
   },
   "outputs": [],
   "source": [
    "alpha_arr = np.logspace(-5, 5, 20)\n",
    "test_err = []\n",
    "train_err = []\n",
    "for alpha in alpha_arr:\n",
    "    mlp_model = MLPClassifier(alpha = alpha, hidden_layer_sizes = (2), \n",
    "                              solver = 'lbfgs', activation = 'logistic', random_state = 5)\n",
    "    mlp_model.fit(X_train, y_train)\n",
    "\n",
    "    y_train_pred = mlp_model.predict(X_train)\n",
    "    y_test_pred = mlp_model.predict(X_test)\n",
    "    train_err.append(errors(my_mean(y_train, y_train_pred)))\n",
    "    test_err.append(errors(my_mean(y_test, y_test_pred)))"
   ]
  },
  {
   "cell_type": "markdown",
   "metadata": {},
   "source": [
    "Построим график зависимости ошибки от параметра alpha"
   ]
  },
  {
   "cell_type": "code",
   "execution_count": 135,
   "metadata": {},
   "outputs": [
    {
     "data": {
      "image/png": "[encoded data removed]",
      "text/plain": [
       "<matplotlib.figure.Figure at 0x1bc9ebd5940>"
      ]
     },
     "metadata": {},
     "output_type": "display_data"
    }
   ],
   "source": [
    "plt.semilogx(alpha_arr, test_err, 'b-o', label = 'test')\n",
    "plt.semilogx(alpha_arr, train_err, 'r-o', label = 'train')\n",
    "plt.xlim([np.max(alpha_arr), np.min(alpha_arr)])\n",
    "plt.title('Error vs. alpha')\n",
    "plt.xlabel('alpha')\n",
    "plt.ylabel('error')\n",
    "plt.legend()\n",
    "pass"
   ]
  },
  {
   "cell_type": "markdown",
   "metadata": {},
   "source": [
    "Посмотрим на значения параметра alpha"
   ]
  },
  {
   "cell_type": "code",
   "execution_count": 136,
   "metadata": {},
   "outputs": [
    {
     "name": "stdout",
     "output_type": "stream",
     "text": [
      "[  1.00000000e-05   3.35981829e-05   1.12883789e-04   3.79269019e-04\n",
      "   1.27427499e-03   4.28133240e-03   1.43844989e-02   4.83293024e-02\n",
      "   1.62377674e-01   5.45559478e-01   1.83298071e+00   6.15848211e+00\n",
      "   2.06913808e+01   6.95192796e+01   2.33572147e+02   7.84759970e+02\n",
      "   2.63665090e+03   8.85866790e+03   2.97635144e+04   1.00000000e+05]\n"
     ]
    }
   ],
   "source": [
    "print(alpha_arr)"
   ]
  },
  {
   "cell_type": "markdown",
   "metadata": {},
   "source": [
    "При alpha > 7.84759970e+02 всё нормально, при значениях меньше - переобучение"
   ]
  },
  {
   "cell_type": "markdown",
   "metadata": {},
   "source": [
    "Минимальное значение ошибки"
   ]
  },
  {
   "cell_type": "code",
   "execution_count": 137,
   "metadata": {},
   "outputs": [
    {
     "name": "stdout",
     "output_type": "stream",
     "text": [
      "0.000629496402878 0.240763052209\n"
     ]
    }
   ],
   "source": [
    "min_train_err = np.min(train_err)\n",
    "min_test_err = np.min(test_err)\n",
    "print(min_train_err, min_test_err)"
   ]
  },
  {
   "cell_type": "markdown",
   "metadata": {},
   "source": [
    "Оптимальное значение alpha:"
   ]
  },
  {
   "cell_type": "code",
   "execution_count": 138,
   "metadata": {},
   "outputs": [
    {
     "name": "stdout",
     "output_type": "stream",
     "text": [
      "784.759970351\n"
     ]
    }
   ],
   "source": [
    "alpha_opt = alpha_arr[test_err == min_test_err]\n",
    "alpha_opt = alpha_opt[0]\n",
    "print(alpha_opt)"
   ]
  },
  {
   "cell_type": "markdown",
   "metadata": {},
   "source": [
    "Классификатор при найденном оптимальном значении alpha:"
   ]
  },
  {
   "cell_type": "markdown",
   "metadata": {},
   "source": [
    "Повторим обучение с исходными параметрами:"
   ]
  },
  {
   "cell_type": "code",
   "execution_count": 139,
   "metadata": {},
   "outputs": [
    {
     "name": "stdout",
     "output_type": "stream",
     "text": [
      "0.2379496402877698\n",
      "0.24076305220883534\n"
     ]
    }
   ],
   "source": [
    "mlp_model = MLPClassifier(alpha = alpha_opt, hidden_layer_sizes = (2),\n",
    "                          solver = 'lbfgs', activation = 'logistic', random_state = 5)\n",
    "mlp_model.fit(X_train, y_train)\n",
    "\n",
    "y_train_pred = mlp_model.predict(X_train)\n",
    "y_test_pred = mlp_model.predict(X_test)\n",
    "print(errors(my_mean(y_train, y_train_pred)))\n",
    "print(errors(my_mean(y_test, y_test_pred)))"
   ]
  },
  {
   "cell_type": "markdown",
   "metadata": {},
   "source": [
    "\n",
    "Построим матрицу рассогласования. Элемент матрицы (i, j) равна числу объектов, которые, принадлежат группе i, но, по прогнозам, находятся в группе j."
   ]
  },
  {
   "cell_type": "markdown",
   "metadata": {},
   "source": [
    "\n",
    "# Поиск оптимального количества нейронов\n",
    "Проанализируем оптимальное количество нейронов для MLP классификатора с одним скрытым слоев."
   ]
  },
  {
   "cell_type": "code",
   "execution_count": 140,
   "metadata": {
    "collapsed": true
   },
   "outputs": [],
   "source": [
    "neurons_arr = (1, 2, 3, 4, 5, 6, 7, 8, 9, 10, 20, 30, 40, 50, 60, 70, 80, 90, 100)\n",
    "test_err = []\n",
    "train_err = []\n",
    "for neuron in neurons_arr:\n",
    "    mlp_model = MLPClassifier(alpha = alpha_opt, hidden_layer_sizes = (neuron), \n",
    "                              solver = 'lbfgs', activation = 'logistic', random_state = 5)\n",
    "    mlp_model.fit(X_train, y_train)\n",
    "\n",
    "    y_train_pred = mlp_model.predict(X_train)\n",
    "    y_test_pred = mlp_model.predict(X_test)\n",
    "    train_err.append(errors(my_mean(y_train, y_train_pred)))\n",
    "    test_err.append(errors(my_mean(y_test, y_test_pred)))"
   ]
  },
  {
   "cell_type": "markdown",
   "metadata": {},
   "source": [
    "Построим график зависимости ошибки от количества нейронов"
   ]
  },
  {
   "cell_type": "code",
   "execution_count": 141,
   "metadata": {},
   "outputs": [
    {
     "data": {
      "image/png": "[encoded data removed]",
      "text/plain": [
       "<matplotlib.figure.Figure at 0x1bc9eb57e80>"
      ]
     },
     "metadata": {},
     "output_type": "display_data"
    }
   ],
   "source": [
    "plt.semilogx(neurons_arr, test_err, 'b-o', label = 'test')\n",
    "plt.semilogx(neurons_arr, train_err, 'r-o', label = 'train')\n",
    "plt.xlim([np.min(neurons_arr), np.max(neurons_arr)])\n",
    "plt.title('Error vs neuron count')\n",
    "plt.xlabel('neuron ')\n",
    "plt.ylabel('error')\n",
    "plt.legend()\n",
    "pass"
   ]
  },
  {
   "cell_type": "markdown",
   "metadata": {},
   "source": [
    "Анализируя график можно сделаь вывод, что в этой задаче количество нейронов ни на что особо не влияет"
   ]
  },
  {
   "cell_type": "code",
   "execution_count": 142,
   "metadata": {},
   "outputs": [
    {
     "name": "stdout",
     "output_type": "stream",
     "text": [
      "0.23785971223 0.240763052209\n"
     ]
    }
   ],
   "source": [
    "min_train_err = np.min(train_err)\n",
    "min_test_err = np.min(test_err)\n",
    "print(min_train_err, min_test_err)"
   ]
  },
  {
   "cell_type": "markdown",
   "metadata": {},
   "source": [
    "Проанализируем оптимальное количество нейронов для MLP классификатора с двумя скрытыми слоями."
   ]
  },
  {
   "cell_type": "code",
   "execution_count": 143,
   "metadata": {
    "collapsed": true
   },
   "outputs": [],
   "source": [
    "neurons_arr = (1, 2, 3, 4, 5, 6, 7, 8, 9, 10, 20, 30, 40, 50, 60, 70, 80, 90, 100)\n",
    "test_err = []\n",
    "train_err = []\n",
    "for neuron in neurons_arr:\n",
    "    mlp_model = MLPClassifier(alpha = alpha_opt, hidden_layer_sizes = (neuron, 7), \n",
    "                              solver = 'lbfgs', activation = 'logistic', random_state = 5)\n",
    "    mlp_model.fit(X_train, y_train)\n",
    "\n",
    "    y_train_pred = mlp_model.predict(X_train)\n",
    "    y_test_pred = mlp_model.predict(X_test)\n",
    "    train_err.append(errors(my_mean(y_train, y_train_pred)))\n",
    "    test_err.append(errors(my_mean(y_test, y_test_pred)))"
   ]
  },
  {
   "cell_type": "markdown",
   "metadata": {},
   "source": [
    "Построим график зависимости ошибки от количества нейронов"
   ]
  },
  {
   "cell_type": "code",
   "execution_count": 144,
   "metadata": {},
   "outputs": [
    {
     "data": {
      "image/png": "[encoded data removed]",
      "text/plain": [
       "<matplotlib.figure.Figure at 0x1bc9ea51438>"
      ]
     },
     "metadata": {},
     "output_type": "display_data"
    }
   ],
   "source": [
    "\n",
    "plt.semilogx(neurons_arr, test_err, 'b-o', label = 'test')\n",
    "plt.semilogx(neurons_arr, train_err, 'r-o', label = 'train')\n",
    "plt.xlim([np.min(neurons_arr), np.max(neurons_arr)])\n",
    "plt.title('Error vs neuron count')\n",
    "plt.xlabel('neuron ')\n",
    "plt.ylabel('error')\n",
    "plt.legend()\n",
    "pass"
   ]
  },
  {
   "cell_type": "markdown",
   "metadata": {},
   "source": [
    "Та же история"
   ]
  },
  {
   "cell_type": "markdown",
   "metadata": {},
   "source": [
    "# Домашнаяя работа №3\n",
    "Разбиваем данные на обучающую и тестовую выборки. Тестовая выборка содержит 33% данных"
   ]
  },
  {
   "cell_type": "code",
   "execution_count": 161,
   "metadata": {
    "collapsed": true
   },
   "outputs": [],
   "source": [
    "X_train, X_test, y_train, y_test = train_test_split(X, y, test_size = 0.33, random_state = 5)"
   ]
  },
  {
   "cell_type": "markdown",
   "metadata": {},
   "source": [
    "Random forests\n",
    "Решим задачу классификации баскетбольных команд по полу при помощи Random Forest.\n",
    "\n",
    "Обучаем Random forest классификатор с параметром n_estimators = 10 (n_estimators = количество построенных деревьев)."
   ]
  },
  {
   "cell_type": "code",
   "execution_count": 162,
   "metadata": {},
   "outputs": [
    {
     "data": {
      "text/plain": [
       "RandomForestClassifier(bootstrap=True, class_weight=None, criterion='gini',\n",
       "            max_depth=None, max_features='auto', max_leaf_nodes=None,\n",
       "            min_impurity_split=1e-07, min_samples_leaf=1,\n",
       "            min_samples_split=2, min_weight_fraction_leaf=0.0,\n",
       "            n_estimators=10, n_jobs=1, oob_score=False, random_state=None,\n",
       "            verbose=0, warm_start=False)"
      ]
     },
     "execution_count": 162,
     "metadata": {},
     "output_type": "execute_result"
    }
   ],
   "source": [
    "from sklearn import ensemble\n",
    "rf = ensemble.RandomForestClassifier(n_estimators = 10)\n",
    "rf.fit(X_train, y_train)"
   ]
  },
  {
   "cell_type": "markdown",
   "metadata": {},
   "source": [
    "\n",
    "Проверим качество классификатора по величине ошибки на тестовой и обучающей выборках"
   ]
  },
  {
   "cell_type": "code",
   "execution_count": 164,
   "metadata": {},
   "outputs": [
    {
     "name": "stdout",
     "output_type": "stream",
     "text": [
      "Ошибка на обучающей выборке:  0.0009892086330935252\n",
      "Ошибка на тестовой выборке:  0.01022270901788974\n"
     ]
    }
   ],
   "source": [
    "err_train = errors(my_mean(y_train, rf.predict(X_train)))\n",
    "err_test  = errors(my_mean(y_test, rf.predict(X_test)))\n",
    "\n",
    "print(\"Ошибка на обучающей выборке: \", err_train)\n",
    "print(\"Ошибка на тестовой выборке: \", err_test)"
   ]
  },
  {
   "cell_type": "markdown",
   "metadata": {},
   "source": [
    "Наблюдается ситуация переобучения, т.к. ошибка на тестовой выборке оказалась выше, чем на обучающей\n",
    "\n",
    "Построим график зависимости ошибки на тестовой и обучающей выборках.\n",
    "Тут должна была быть проверка oob-ошибки, но у меня он её считать почему-то не хочет :("
   ]
  },
  {
   "cell_type": "code",
   "execution_count": 178,
   "metadata": {},
   "outputs": [],
   "source": [
    "tree_arr = np.arange(1, 10, 1)\n",
    "test_err = []\n",
    "train_err = []\n",
    "\n",
    "for tree in tree_arr:\n",
    "    rf = ensemble.RandomForestClassifier(n_estimators = tree, oob_score = False)\n",
    "    rf.fit(X_train, y_train)\n",
    "    y_train_pred = rf.predict(X_train)\n",
    "    y_test_pred = rf.predict(X_test)\n",
    "    train_err.append(np.mean(y_train != y_train_pred))\n",
    "    test_err.append(np.mean(y_test != y_test_pred))"
   ]
  },
  {
   "cell_type": "code",
   "execution_count": 179,
   "metadata": {},
   "outputs": [
    {
     "data": {
      "image/png": "[encoded data removed]",
      "text/plain": [
       "<matplotlib.figure.Figure at 0x1bc9beadd30>"
      ]
     },
     "metadata": {},
     "output_type": "display_data"
    }
   ],
   "source": [
    "\n",
    "plt.plot(tree_arr, train_err, 'b-o', label = 'train')\n",
    "plt.plot(tree_arr, test_err, 'r-o', label = 'test')\n",
    "plt.xlim([np.min(tree_arr), np.max(tree_arr)])\n",
    "plt.title('Error vs. Count of tree')\n",
    "plt.xlabel('Count of tree')\n",
    "plt.ylabel('Error')\n",
    "plt.legend()\n",
    "pass"
   ]
  },
  {
   "cell_type": "markdown",
   "metadata": {},
   "source": [
    "На всем диапазоне значений наблюдается ситуация переобучения."
   ]
  },
  {
   "cell_type": "markdown",
   "metadata": {},
   "source": [
    "Рассмотрим график на диапазоне от 1 до 50."
   ]
  },
  {
   "cell_type": "code",
   "execution_count": 188,
   "metadata": {},
   "outputs": [],
   "source": [
    "tree_arr = np.arange(1, 50, 5)\n",
    "test_err = []\n",
    "train_err = []\n",
    "\n",
    "for tree in tree_arr:\n",
    "    rf = ensemble.RandomForestClassifier(n_estimators = tree, oob_score = False)\n",
    "    rf.fit(X_train, y_train)\n",
    "    y_train_pred = rf.predict(X_train)\n",
    "    y_test_pred = rf.predict(X_test)\n",
    "    train_err.append(np.mean(y_train != y_train_pred))\n",
    "    test_err.append(np.mean(y_test != y_test_pred))"
   ]
  },
  {
   "cell_type": "code",
   "execution_count": 189,
   "metadata": {},
   "outputs": [
    {
     "data": {
      "image/png": "[encoded data removed]",
      "text/plain": [
       "<matplotlib.figure.Figure at 0x1bc9bd9b7f0>"
      ]
     },
     "metadata": {},
     "output_type": "display_data"
    }
   ],
   "source": [
    "plt.plot(tree_arr, train_err, 'b-o', label = 'train')\n",
    "plt.plot(tree_arr, test_err, 'r-o', label = 'test')\n",
    "plt.xlim([np.min(tree_arr), np.max(tree_arr)])\n",
    "plt.title('Error vs. Count of tree')\n",
    "plt.xlabel('Count of tree')\n",
    "plt.ylabel('Error')\n",
    "plt.legend()\n",
    "pass"
   ]
  },
  {
   "cell_type": "markdown",
   "metadata": {},
   "source": [
    "Уровень ошибки падает, но ситуация переобучения наблюдается все равно. "
   ]
  },
  {
   "cell_type": "code",
   "execution_count": 190,
   "metadata": {},
   "outputs": [
    {
     "name": "stdout",
     "output_type": "stream",
     "text": [
      "Минимальная ошибка на обучающей выборке:  0.00044964028777\n",
      "Минимальная ошибка на тестовой выборке:  0.00766703176342\n"
     ]
    }
   ],
   "source": [
    "min_train_err = np.min(train_err)\n",
    "min_test_err = np.min(test_err)\n",
    "\n",
    "print(\"Минимальная ошибка на обучающей выборке: \", min_train_err)\n",
    "print(\"Минимальная ошибка на тестовой выборке: \", min_test_err)"
   ]
  },
  {
   "cell_type": "markdown",
   "metadata": {},
   "source": [
    "Оптимальное число деревьев при этом равно:"
   ]
  },
  {
   "cell_type": "code",
   "execution_count": 191,
   "metadata": {},
   "outputs": [
    {
     "name": "stdout",
     "output_type": "stream",
     "text": [
      "[46]\n"
     ]
    }
   ],
   "source": [
    "trees_opt = tree_arr[test_err == min_test_err]\n",
    "print(trees_opt)"
   ]
  },
  {
   "cell_type": "markdown",
   "metadata": {},
   "source": [
    "\n",
    "# Extremely Randomized Trees\n",
    "\n",
    "Обучаем Extremely Randomized Trees классификатор с параметром n_estimators = 10 (n_estimators = количество построенных деревьев)."
   ]
  },
  {
   "cell_type": "code",
   "execution_count": 192,
   "metadata": {},
   "outputs": [
    {
     "data": {
      "text/plain": [
       "ExtraTreesClassifier(bootstrap=False, class_weight=None, criterion='gini',\n",
       "           max_depth=None, max_features='auto', max_leaf_nodes=None,\n",
       "           min_impurity_split=1e-07, min_samples_leaf=1,\n",
       "           min_samples_split=2, min_weight_fraction_leaf=0.0,\n",
       "           n_estimators=10, n_jobs=1, oob_score=False, random_state=None,\n",
       "           verbose=0, warm_start=False)"
      ]
     },
     "execution_count": 192,
     "metadata": {},
     "output_type": "execute_result"
    }
   ],
   "source": [
    "\n",
    "ert = ensemble.ExtraTreesClassifier(n_estimators = 10)\n",
    "ert.fit(X_train, y_train)"
   ]
  },
  {
   "cell_type": "markdown",
   "metadata": {},
   "source": [
    "Проверим качество классификатора по величине ошибки на тестовой и обучающей выборках"
   ]
  },
  {
   "cell_type": "code",
   "execution_count": 193,
   "metadata": {},
   "outputs": [
    {
     "name": "stdout",
     "output_type": "stream",
     "text": [
      "Ошибка на обучающей выборке:  0.00044964028777\n",
      "Ошибка на тестовой выборке:  0.0138736765243\n"
     ]
    }
   ],
   "source": [
    "\n",
    "err_train = np.mean(y_train != ert.predict(X_train))\n",
    "err_test  = np.mean(y_test  != ert.predict(X_test))\n",
    "\n",
    "print(\"Ошибка на обучающей выборке: \", err_train)\n",
    "print(\"Ошибка на тестовой выборке: \", err_test)"
   ]
  },
  {
   "cell_type": "markdown",
   "metadata": {},
   "source": [
    "\n",
    "Ошибка на тестовой выборке превосходит ошибку на обучающей. Наблюдается ситуация переобучения.\n",
    "\n",
    "Построим график зависимости ошибки на тестовой и обучающей выборках без obb-ошибки, потому что она на моих данных почему-то не работает"
   ]
  },
  {
   "cell_type": "code",
   "execution_count": 196,
   "metadata": {},
   "outputs": [],
   "source": [
    "tree_arr = np.arange(1, 10, 1)\n",
    "test_err = []\n",
    "train_err = []\n",
    "for tree in tree_arr:\n",
    "    ert = ensemble.ExtraTreesClassifier(n_estimators = tree, oob_score=False, bootstrap=True)\n",
    "    ert.fit(X_train, y_train)\n",
    "    train_err.append(np.mean(y_train != ert.predict(X_train)))\n",
    "    test_err.append(np.mean(y_test  != ert.predict(X_test)))"
   ]
  },
  {
   "cell_type": "code",
   "execution_count": 197,
   "metadata": {},
   "outputs": [
    {
     "data": {
      "image/png": "[encoded data removed]",
      "text/plain": [
       "<matplotlib.figure.Figure at 0x1bc99a7bf60>"
      ]
     },
     "metadata": {},
     "output_type": "display_data"
    }
   ],
   "source": [
    "\n",
    "plt.plot(tree_arr, train_err, 'b-o', label = 'train')\n",
    "plt.plot(tree_arr, test_err, 'r-o', label = 'test')\n",
    "plt.xlim([np.min(tree_arr), np.max(tree_arr)])\n",
    "plt.title('Error vs. Count of tree')\n",
    "plt.xlabel('Count of tree')\n",
    "plt.ylabel('Error')\n",
    "plt.legend()\n",
    "pass"
   ]
  },
  {
   "cell_type": "markdown",
   "metadata": {},
   "source": [
    "\n",
    "На всем диапазоне значений, кроме количества деревьев равном 8, наблюдается ситуация переобучения"
   ]
  },
  {
   "cell_type": "markdown",
   "metadata": {},
   "source": [
    "Рассмотрим график на диапазоне от 10 до 100."
   ]
  },
  {
   "cell_type": "code",
   "execution_count": 198,
   "metadata": {
    "collapsed": true
   },
   "outputs": [],
   "source": [
    "tree_arr = np.arange(10, 100, 5)\n",
    "test_err = []\n",
    "train_err = []\n",
    "for tree in tree_arr:\n",
    "    ert = ensemble.ExtraTreesClassifier(n_estimators = tree, oob_score=False, bootstrap=True)\n",
    "    ert.fit(X_train, y_train)\n",
    "    train_err.append(np.mean(y_train != ert.predict(X_train)))\n",
    "    test_err.append(np.mean(y_test  != ert.predict(X_test)))"
   ]
  },
  {
   "cell_type": "code",
   "execution_count": 199,
   "metadata": {},
   "outputs": [
    {
     "data": {
      "image/png": "[encoded data removed]",
      "text/plain": [
       "<matplotlib.figure.Figure at 0x1bc9f08d240>"
      ]
     },
     "metadata": {},
     "output_type": "display_data"
    }
   ],
   "source": [
    "plt.plot(tree_arr, train_err, 'b-o', label = 'train')\n",
    "plt.plot(tree_arr, test_err, 'r-o', label = 'test')\n",
    "plt.xlim([np.min(tree_arr), np.max(tree_arr)])\n",
    "plt.title('Error vs. Count of tree')\n",
    "plt.xlabel('Count of tree')\n",
    "plt.ylabel('Error')\n",
    "plt.legend()\n",
    "pass"
   ]
  },
  {
   "cell_type": "markdown",
   "metadata": {},
   "source": [
    "На всём промежутке переобучение.\n",
    "Минимальные значения ошибок на обучающей и тестовой выборке равны:"
   ]
  },
  {
   "cell_type": "code",
   "execution_count": 201,
   "metadata": {},
   "outputs": [
    {
     "name": "stdout",
     "output_type": "stream",
     "text": [
      "Минимальная ошибка на обучающей выборке:  0.00044964028777\n",
      "Минимальная ошибка на тестовой выборке:  0.00985761226725\n"
     ]
    }
   ],
   "source": [
    "min_train_err = np.min(train_err)\n",
    "min_test_err = np.min(test_err)\n",
    "\n",
    "print(\"Минимальная ошибка на обучающей выборке: \", min_train_err)\n",
    "print(\"Минимальная ошибка на тестовой выборке: \", min_test_err)"
   ]
  },
  {
   "cell_type": "markdown",
   "metadata": {},
   "source": [
    "Оптимальное число деревьев при этом равно:"
   ]
  },
  {
   "cell_type": "code",
   "execution_count": 202,
   "metadata": {},
   "outputs": [
    {
     "name": "stdout",
     "output_type": "stream",
     "text": [
      "[80]\n"
     ]
    }
   ],
   "source": [
    "trees_opt = tree_arr[test_err == min_test_err]\n",
    "print(trees_opt)"
   ]
  },
  {
   "cell_type": "markdown",
   "metadata": {},
   "source": [
    "# AdaBoost\n",
    "Решим задачу классификации при помощи AdaBoost.\n",
    "\n",
    "Обучаем AdaBoost классификатор с параметром n_estimators = 5."
   ]
  },
  {
   "cell_type": "code",
   "execution_count": 203,
   "metadata": {},
   "outputs": [
    {
     "data": {
      "text/plain": [
       "AdaBoostClassifier(algorithm='SAMME.R', base_estimator=None,\n",
       "          learning_rate=1.0, n_estimators=5, random_state=None)"
      ]
     },
     "execution_count": 203,
     "metadata": {},
     "output_type": "execute_result"
    }
   ],
   "source": [
    "ab = ensemble.AdaBoostClassifier(n_estimators = 5)\n",
    "ab.fit(X_train, y_train)"
   ]
  },
  {
   "cell_type": "markdown",
   "metadata": {},
   "source": [
    "Проверим качество классификатора по величине ошибки на тестовой и обучающей выборках"
   ]
  },
  {
   "cell_type": "code",
   "execution_count": 204,
   "metadata": {},
   "outputs": [
    {
     "name": "stdout",
     "output_type": "stream",
     "text": [
      "Ошибка на обучающей выборке:  0.0151978417266\n",
      "Ошибка на тестовой выборке:  0.0182548375319\n"
     ]
    }
   ],
   "source": [
    "err_train = np.mean(y_train != ab.predict(X_train))\n",
    "err_test  = np.mean(y_test  != ab.predict(X_test))\n",
    "\n",
    "print(\"Ошибка на обучающей выборке: \", err_train)\n",
    "print(\"Ошибка на тестовой выборке: \", err_test)"
   ]
  },
  {
   "cell_type": "markdown",
   "metadata": {},
   "source": [
    "\n",
    "Построим график зависимости ошибки на тестовой и обучающей выборках."
   ]
  },
  {
   "cell_type": "code",
   "execution_count": 205,
   "metadata": {
    "collapsed": true
   },
   "outputs": [],
   "source": [
    "estimator_arr = np.arange(1, 50, 2)\n",
    "test_err = []\n",
    "train_err = []\n",
    "for estimator in estimator_arr:\n",
    "    ab = ensemble.AdaBoostClassifier(n_estimators = estimator)\n",
    "    ab.fit(X_train, y_train)\n",
    "    train_err.append(np.mean(y_train != ab.predict(X_train)))\n",
    "    test_err.append(np.mean(y_test  != ab.predict(X_test)))"
   ]
  },
  {
   "cell_type": "code",
   "execution_count": 206,
   "metadata": {},
   "outputs": [
    {
     "data": {
      "image/png": "[encoded data removed]",
      "text/plain": [
       "<matplotlib.figure.Figure at 0x1bc9eb5c7b8>"
      ]
     },
     "metadata": {},
     "output_type": "display_data"
    }
   ],
   "source": [
    "plt.plot(estimator_arr, train_err, 'b-o', label = 'train')\n",
    "plt.plot(estimator_arr, test_err, 'r-o', label = 'test')\n",
    "plt.xlim([np.min(estimator_arr), np.max(estimator_arr)])\n",
    "plt.title('Error vs. Count of estimator')\n",
    "plt.xlabel('Count of estimator')\n",
    "plt.ylabel('Error')\n",
    "plt.legend()\n",
    "pass"
   ]
  },
  {
   "cell_type": "markdown",
   "metadata": {},
   "source": [
    "Ошибка почти одинакова на всём промежутке, однако чуть увеличивается разрыв начиная с 30"
   ]
  },
  {
   "cell_type": "markdown",
   "metadata": {},
   "source": [
    "\n",
    "Минимальные значения ошибок на обучающей и тестовой выборке равны:"
   ]
  },
  {
   "cell_type": "code",
   "execution_count": 207,
   "metadata": {},
   "outputs": [
    {
     "name": "stdout",
     "output_type": "stream",
     "text": [
      "Минимальная ошибка на обучающей выборке:  0.00206834532374\n",
      "Минимальная ошибка на тестовой выборке:  0.00711938663746\n"
     ]
    }
   ],
   "source": [
    "min_train_err = np.min(train_err)\n",
    "min_test_err = np.min(test_err)\n",
    "\n",
    "print(\"Минимальная ошибка на обучающей выборке: \", min_train_err)\n",
    "print(\"Минимальная ошибка на тестовой выборке: \", min_test_err)"
   ]
  },
  {
   "cell_type": "markdown",
   "metadata": {},
   "source": [
    "# Gradient boosted trees\n",
    "Решим задачу классификации при помощи Gradient boosted trees.\n",
    "\n",
    "Обучаем Gradient boosted trees классификатор с параметром n_estimators = 10 (n_estimators = количество деревьев)."
   ]
  },
  {
   "cell_type": "code",
   "execution_count": 217,
   "metadata": {},
   "outputs": [
    {
     "data": {
      "text/plain": [
       "GradientBoostingClassifier(criterion='friedman_mse', init=None,\n",
       "              learning_rate=0.1, loss='deviance', max_depth=3,\n",
       "              max_features=None, max_leaf_nodes=None,\n",
       "              min_impurity_split=1e-07, min_samples_leaf=1,\n",
       "              min_samples_split=2, min_weight_fraction_leaf=0.0,\n",
       "              n_estimators=10, presort='auto', random_state=None,\n",
       "              subsample=1.0, verbose=0, warm_start=False)"
      ]
     },
     "execution_count": 217,
     "metadata": {},
     "output_type": "execute_result"
    }
   ],
   "source": [
    "gbt = ensemble.GradientBoostingClassifier(n_estimators = 10)\n",
    "gbt.fit(X_train, y_train)"
   ]
  },
  {
   "cell_type": "markdown",
   "metadata": {},
   "source": [
    "Проверим качество классификатора по величине ошибки на тестовой и обучающей выборках"
   ]
  },
  {
   "cell_type": "code",
   "execution_count": 218,
   "metadata": {},
   "outputs": [
    {
     "name": "stdout",
     "output_type": "stream",
     "text": [
      "Ошибка на обучающей выборке:  0.0117805755396\n",
      "Ошибка на тестовой выборке:  0.0156991602775\n"
     ]
    }
   ],
   "source": [
    "err_train = np.mean(y_train != gbt.predict(X_train))\n",
    "err_test  = np.mean(y_test  != gbt.predict(X_test))\n",
    "\n",
    "print(\"Ошибка на обучающей выборке: \", err_train)\n",
    "print(\"Ошибка на тестовой выборке: \", err_test)"
   ]
  },
  {
   "cell_type": "markdown",
   "metadata": {},
   "source": [
    "Построим график зависимости ошибки на тестовой и обучающей выборках."
   ]
  },
  {
   "cell_type": "code",
   "execution_count": 219,
   "metadata": {
    "collapsed": true
   },
   "outputs": [],
   "source": [
    "tree_arr = np.arange(1, 50, 2)\n",
    "test_err = []\n",
    "train_err = []\n",
    "for tree in tree_arr:\n",
    "    gbt = ensemble.GradientBoostingClassifier(n_estimators = tree)\n",
    "    gbt.fit(X_train, y_train)\n",
    "    \n",
    "    y_train_pred = gbt.predict(X_train)\n",
    "    y_test_pred = gbt.predict(X_test)\n",
    "    train_err.append(np.mean(y_train != y_train_pred))\n",
    "    test_err.append(np.mean(y_test != y_test_pred))"
   ]
  },
  {
   "cell_type": "code",
   "execution_count": 220,
   "metadata": {},
   "outputs": [
    {
     "data": {
      "image/png": "[encoded data removed]",
      "text/plain": [
       "<matplotlib.figure.Figure at 0x1bc999bb978>"
      ]
     },
     "metadata": {},
     "output_type": "display_data"
    }
   ],
   "source": [
    "plt.plot(tree_arr, train_err, 'b-o', label = 'train')\n",
    "plt.plot(tree_arr, test_err, 'r-o', label = 'test')\n",
    "plt.xlim([np.min(tree_arr), np.max(tree_arr)])\n",
    "plt.title('Error vs. number of trees')\n",
    "plt.xlabel('Number of trees')\n",
    "plt.ylabel('Error')\n",
    "plt.legend()\n",
    "pass"
   ]
  },
  {
   "cell_type": "markdown",
   "metadata": {},
   "source": [
    "Переобучения почти не наблюдается\n",
    "Минимальное количество ошибок:"
   ]
  },
  {
   "cell_type": "code",
   "execution_count": 221,
   "metadata": {},
   "outputs": [
    {
     "name": "stdout",
     "output_type": "stream",
     "text": [
      "Минимальная ошибка на обучающей выборке:  0.00431654676259\n",
      "Минимальная ошибка на тестовой выборке:  0.0109529025192\n"
     ]
    }
   ],
   "source": [
    "min_train_err = np.min(train_err)\n",
    "min_test_err = np.min(test_err)\n",
    "\n",
    "print(\"Минимальная ошибка на обучающей выборке: \", min_train_err)\n",
    "print(\"Минимальная ошибка на тестовой выборке: \", min_test_err)"
   ]
  },
  {
   "cell_type": "markdown",
   "metadata": {},
   "source": [
    "Оптимальное число деревьев"
   ]
  },
  {
   "cell_type": "code",
   "execution_count": 222,
   "metadata": {},
   "outputs": [
    {
     "name": "stdout",
     "output_type": "stream",
     "text": [
      "[41 47 49]\n"
     ]
    }
   ],
   "source": [
    "trees_opt = tree_arr[test_err == min_test_err]\n",
    "print(trees_opt)"
   ]
  },
  {
   "cell_type": "markdown",
   "metadata": {},
   "source": [
    "# Домашнаяя работа №4"
   ]
  },
  {
   "cell_type": "markdown",
   "metadata": {},
   "source": [
    "\n",
    "# Principal Components Analysis\n",
    "С помощью метода главных компонент осуществим уменьшение размерности исходных данных и осуществим классификацию баскетбольных команд по полу\n",
    "\n",
    "Посмотрим на данные до использования PCA"
   ]
  },
  {
   "cell_type": "code",
   "execution_count": 165,
   "metadata": {},
   "outputs": [
    {
     "data": {
      "text/plain": [
       "(16598, 16)"
      ]
     },
     "execution_count": 165,
     "metadata": {},
     "output_type": "execute_result"
    }
   ],
   "source": [
    "X.shape"
   ]
  },
  {
   "cell_type": "markdown",
   "metadata": {},
   "source": [
    "Исходные данные имеют 16 столбцов, обучим PCA"
   ]
  },
  {
   "cell_type": "code",
   "execution_count": 166,
   "metadata": {},
   "outputs": [
    {
     "data": {
      "text/plain": [
       "PCA(copy=True, iterated_power='auto', n_components=10, random_state=None,\n",
       "  svd_solver='auto', tol=0.0, whiten=False)"
      ]
     },
     "execution_count": 166,
     "metadata": {},
     "output_type": "execute_result"
    }
   ],
   "source": [
    "from sklearn.decomposition import PCA\n",
    "pca = PCA(n_components = 10)\n",
    "pca.fit(X)"
   ]
  },
  {
   "cell_type": "markdown",
   "metadata": {},
   "source": [
    "Уменьшать размерность данных до 10, я же умею"
   ]
  },
  {
   "cell_type": "code",
   "execution_count": 167,
   "metadata": {
    "collapsed": true
   },
   "outputs": [],
   "source": [
    "pca_x = pca.transform(X)"
   ]
  },
  {
   "cell_type": "code",
   "execution_count": 168,
   "metadata": {},
   "outputs": [
    {
     "data": {
      "text/plain": [
       "(16598, 10)"
      ]
     },
     "execution_count": 168,
     "metadata": {},
     "output_type": "execute_result"
    }
   ],
   "source": [
    "pca_x.shape"
   ]
  },
  {
   "cell_type": "markdown",
   "metadata": {},
   "source": [
    "Разбиваем данные после применения PCA на обучающую и тестовую выборки. Тестовая выборка содержит 33% данных"
   ]
  },
  {
   "cell_type": "code",
   "execution_count": 169,
   "metadata": {
    "collapsed": true
   },
   "outputs": [],
   "source": [
    "X_train, X_test, y_train, y_test = train_test_split(pca_x, y, test_size = 0.33, random_state = 5)"
   ]
  },
  {
   "cell_type": "markdown",
   "metadata": {},
   "source": [
    "Ошибку, полученную после уменьшения размерности данных сравним с ошибкой, которая была получена до применения PCA на примере двух классификаторов, Random Forest\n",
    "\n",
    "Решим задачу классификации баскетбольных команд по полу при помощи Random Forest на данных, полученных после использования PCA и посмотрим уменьшилась ли ошибка."
   ]
  },
  {
   "cell_type": "code",
   "execution_count": 170,
   "metadata": {},
   "outputs": [
    {
     "data": {
      "text/plain": [
       "RandomForestClassifier(bootstrap=True, class_weight=None, criterion='gini',\n",
       "            max_depth=None, max_features='auto', max_leaf_nodes=None,\n",
       "            min_impurity_split=1e-07, min_samples_leaf=1,\n",
       "            min_samples_split=2, min_weight_fraction_leaf=0.0,\n",
       "            n_estimators=10, n_jobs=1, oob_score=False, random_state=None,\n",
       "            verbose=0, warm_start=False)"
      ]
     },
     "execution_count": 170,
     "metadata": {},
     "output_type": "execute_result"
    }
   ],
   "source": [
    "from sklearn import ensemble\n",
    "rf = ensemble.RandomForestClassifier(n_estimators = 10)\n",
    "rf.fit(X_train, y_train)"
   ]
  },
  {
   "cell_type": "markdown",
   "metadata": {},
   "source": [
    "Проверим качество классификатора по величине ошибки на тестовой и обучающей выборках"
   ]
  },
  {
   "cell_type": "code",
   "execution_count": 171,
   "metadata": {},
   "outputs": [
    {
     "name": "stdout",
     "output_type": "stream",
     "text": [
      "Ошибка на обучающей выборке:  0.0007194244604316547\n",
      "Ошибка на тестовой выборке:  0.008762322015334063\n"
     ]
    }
   ],
   "source": [
    "err_train = errors(my_mean(y_train, rf.predict(X_train)))\n",
    "err_test  = errors(my_mean(y_test, rf.predict(X_test)))\n",
    "\n",
    "print(\"Ошибка на обучающей выборке: \", err_train)\n",
    "print(\"Ошибка на тестовой выборке: \", err_test)"
   ]
  },
  {
   "cell_type": "markdown",
   "metadata": {},
   "source": [
    "\n",
    "После использования PCA ошибка на обчающей выборке уменьшилась, на тестовой выборке до использования метода главных компонент ошибка составляла: 0.01, после применения PCA:0.008, т.е. ошибка на тестовой выборке уменьшилась. Ситуация переобучения так же наблюдается"
   ]
  },
  {
   "cell_type": "markdown",
   "metadata": {},
   "source": [
    "\n",
    "Построим график зависимости ошибки на тестовой и обучающей выборках и oob-ошибки от количества деревьев."
   ]
  },
  {
   "cell_type": "code",
   "execution_count": 173,
   "metadata": {},
   "outputs": [],
   "source": [
    "components_arr = np.arange(1, 16, 1)\n",
    "test_err = []\n",
    "train_err = []\n",
    "oob_err = []\n",
    "for number in components_arr:\n",
    "    pca = PCA(n_components = number)\n",
    "    pca.fit(X)\n",
    "    pca_x = pca.transform(X)\n",
    "    pca_x_train, pca_x_test, y_train, y_test = train_test_split(pca_x, y, test_size = 0.33, random_state = 5)\n",
    "    rf = ensemble.RandomForestClassifier(n_estimators = 10, oob_score = False)\n",
    "    rf.fit(X_train, y_train)\n",
    "    y_train_pred = rf.predict(X_train)\n",
    "    y_test_pred = rf.predict(X_test)\n",
    "    train_err.append(np.mean(y_train != y_train_pred))\n",
    "    test_err.append(np.mean(y_test != y_test_pred))"
   ]
  },
  {
   "cell_type": "code",
   "execution_count": 174,
   "metadata": {},
   "outputs": [
    {
     "data": {
      "image/png": "[encoded data removed]",
      "text/plain": [
       "<matplotlib.figure.Figure at 0x1bc99a7a0f0>"
      ]
     },
     "metadata": {},
     "output_type": "display_data"
    }
   ],
   "source": [
    "plt.plot(components_arr, train_err, 'b-o', label = 'train')\n",
    "plt.plot(components_arr, test_err, 'r-o', label = 'test')\n",
    "plt.xlim([np.min(components_arr), np.max(components_arr)])\n",
    "plt.title('Error vs. Components number')\n",
    "plt.xlabel('Count of component')\n",
    "plt.ylabel('Error')\n",
    "plt.legend()\n",
    "pass"
   ]
  },
  {
   "cell_type": "markdown",
   "metadata": {},
   "source": [
    "Можно заметить, что наблюдается ситуация переобучения. Ошибка на обучающей выборке."
   ]
  },
  {
   "cell_type": "markdown",
   "metadata": {},
   "source": [
    "\n",
    "Минимальные значения ошибок на обучающей и тестовой выборке равны:"
   ]
  },
  {
   "cell_type": "code",
   "execution_count": 175,
   "metadata": {},
   "outputs": [
    {
     "name": "stdout",
     "output_type": "stream",
     "text": [
      "Минимальная ошибка на обучающей выборке:  0.00044964028777\n",
      "Минимальная ошибка на тестовой выборке:  0.00730193501278\n"
     ]
    }
   ],
   "source": [
    "min_train_err = np.min(train_err)\n",
    "min_test_err = np.min(test_err)\n",
    "\n",
    "print(\"Минимальная ошибка на обучающей выборке: \", min_train_err)\n",
    "print(\"Минимальная ошибка на тестовой выборке: \", min_test_err)"
   ]
  },
  {
   "cell_type": "markdown",
   "metadata": {},
   "source": [
    "Оптимальное количество компонент равно:"
   ]
  },
  {
   "cell_type": "code",
   "execution_count": 176,
   "metadata": {},
   "outputs": [
    {
     "name": "stdout",
     "output_type": "stream",
     "text": [
      "[8]\n"
     ]
    }
   ],
   "source": [
    "\n",
    "opt_components_num = components_arr[test_err == min_test_err]\n",
    "print(opt_components_num)"
   ]
  }
 ],
 "metadata": {
  "kernelspec": {
   "display_name": "Python 3",
   "language": "python",
   "name": "python3"
  },
  "language_info": {
   "codemirror_mode": {
    "name": "ipython",
    "version": 3
   },
   "file_extension": ".py",
   "mimetype": "text/x-python",
   "name": "python",
   "nbconvert_exporter": "python",
   "pygments_lexer": "ipython3",
   "version": "3.6.0"
  }
 },
 "nbformat": 4,
 "nbformat_minor": 2
}
